{
 "cells": [
  {
   "cell_type": "markdown",
   "metadata": {},
   "source": [
    "First enstablish the SSL via PuTTY, connecting to the tool-login.wmflabs.org, from port 4711 to the destination enwiki.labsdb (at port 3306). Insert your credentials below:"
   ]
  },
  {
   "cell_type": "code",
   "execution_count": 1,
   "metadata": {
    "collapsed": false
   },
   "outputs": [],
   "source": [
    "import pymysql\n",
    "import datetime\n",
    "import pandas as pd\n",
    "\n",
    "wikiconn  = pymysql.connect(host='localhost',\n",
    "                            user='u15068',                 # get from replica.my.cnf\n",
    "                            password='G5V2xrWbdFTSkyoU',   # get from replica.my.cnf\n",
    "                            port=4711,\n",
    "                            db='enwiki_p',\n",
    "                            charset='utf8')\n",
    "wikiCur = wikiconn.cursor()"
   ]
  },
  {
   "cell_type": "code",
   "execution_count": 2,
   "metadata": {
    "collapsed": true
   },
   "outputs": [],
   "source": [
    "def BatchQueryFromList(listOfIDs,columnThatContainsIDs,tableToQuery,listOfColumnsToRetrieve):\n",
    "    '''listOfIDs is a list of keys to retrieve from an SQL table\n",
    "    columnThatContainsIDs is the column in that table that stores the keys\n",
    "    tableToQuery is the table containing the information you want\n",
    "    listOfColumnsToRetrieve is a list containing the SQL DB table column names you want to retrieve\n",
    "    Returns a pandas dataframe with column names equivalent to those in the DB you queried'''\n",
    "    baseQ = \"SELECT {} FROM {} WHERE {} IN ({})\"\n",
    "    colsForQ = \",\".join(listOfColumnsToRetrieve)\n",
    "    idsBigChunk = \",\".join(listOfIDs)\n",
    "    preppedQ = baseQ.format(colsForQ,tableToQuery,columnThatContainsIDs,idsBigChunk)\n",
    "    wikiCur.execute(preppedQ)\n",
    "    try:\n",
    "        result_df.append(list(wikiCur.fetchall()))\n",
    "    except NameError:\n",
    "        result_df = pd.DataFrame(list(wikiCur.fetchall()),columns=listOfColumnsToRetrieve)\n",
    "    return result_df"
   ]
  },
  {
   "cell_type": "code",
   "execution_count": 3,
   "metadata": {
    "collapsed": false
   },
   "outputs": [
    {
     "name": "stdout",
     "output_type": "stream",
     "text": [
      "10026\n"
     ]
    }
   ],
   "source": [
    "# get IDS for EPAs from github file. For NEPAs: ../Sampling/071816_batch1_sampled_ids.csv\n",
    "ids2Q = pd.read_csv(\"../Sampling/071816_batch1_sampled_ids.csv\")  # For EPAs: ../WikiSQL/070916_edit_protected_articles.csv\n",
    "\n",
    "# and convert them to STRINGS: this maps the values of the np.array into strings, and makes a list\n",
    "ids2Qstr = list(map(str, ids2Q[\"page_id\"].values)) \n",
    "print(len(ids2Qstr))"
   ]
  },
  {
   "cell_type": "code",
   "execution_count": 4,
   "metadata": {
    "collapsed": false
   },
   "outputs": [
    {
     "data": {
      "text/plain": [
       "['30356692', '9163210', '12533800', '1693093', '47915121']"
      ]
     },
     "execution_count": 4,
     "metadata": {},
     "output_type": "execute_result"
    }
   ],
   "source": [
    "ids2Qstr[(len(ids2Q)-5):]"
   ]
  },
  {
   "cell_type": "code",
   "execution_count": 5,
   "metadata": {
    "collapsed": false
   },
   "outputs": [
    {
     "data": {
      "text/plain": [
       "1753256"
      ]
     },
     "execution_count": 5,
     "metadata": {},
     "output_type": "execute_result"
    }
   ],
   "source": [
    "# the dataframe obtained from the quarry function\n",
    "# for PageLinks: \"pl_from\", \"pagelinks\", [\"pl_from\", \"pl_title\"]\n",
    "# for categorylinks: \"cl_from\",\"categorylinks\",[\"cl_from\",\"cl_to\"]\n",
    "\n",
    "df_link = BatchQueryFromList(ids2Qstr,\"pl_from\",\"pagelinks\", [\"pl_from\", \"pl_title\"])\n",
    "len(df_link)"
   ]
  },
  {
   "cell_type": "code",
   "execution_count": 6,
   "metadata": {
    "collapsed": false
   },
   "outputs": [
    {
     "data": {
      "text/html": [
       "<div>\n",
       "<table border=\"1\" class=\"dataframe\">\n",
       "  <thead>\n",
       "    <tr style=\"text-align: right;\">\n",
       "      <th></th>\n",
       "      <th>pl_from</th>\n",
       "      <th>pl_title</th>\n",
       "    </tr>\n",
       "  </thead>\n",
       "  <tbody>\n",
       "    <tr>\n",
       "      <th>1753251</th>\n",
       "      <td>51105617</td>\n",
       "      <td>b'India_Bihar_location_map.svg'</td>\n",
       "    </tr>\n",
       "    <tr>\n",
       "      <th>1753252</th>\n",
       "      <td>51105617</td>\n",
       "      <td>b'Location_map_India_Bihar'</td>\n",
       "    </tr>\n",
       "    <tr>\n",
       "      <th>1753253</th>\n",
       "      <td>51105617</td>\n",
       "      <td>b'Use_British_English_from_July_2016'</td>\n",
       "    </tr>\n",
       "    <tr>\n",
       "      <th>1753254</th>\n",
       "      <td>51105617</td>\n",
       "      <td>b'Use_dmy_dates_from_July_2016'</td>\n",
       "    </tr>\n",
       "    <tr>\n",
       "      <th>1753255</th>\n",
       "      <td>51105617</td>\n",
       "      <td>b'Location_map/data/India_Bihar'</td>\n",
       "    </tr>\n",
       "  </tbody>\n",
       "</table>\n",
       "</div>"
      ],
      "text/plain": [
       "          pl_from                               pl_title\n",
       "1753251  51105617        b'India_Bihar_location_map.svg'\n",
       "1753252  51105617            b'Location_map_India_Bihar'\n",
       "1753253  51105617  b'Use_British_English_from_July_2016'\n",
       "1753254  51105617        b'Use_dmy_dates_from_July_2016'\n",
       "1753255  51105617       b'Location_map/data/India_Bihar'"
      ]
     },
     "execution_count": 6,
     "metadata": {},
     "output_type": "execute_result"
    }
   ],
   "source": [
    "df_link[(len(df_link)-5):]"
   ]
  },
  {
   "cell_type": "code",
   "execution_count": 7,
   "metadata": {
    "collapsed": false
   },
   "outputs": [],
   "source": [
    "# this decodes the links\n",
    "\n",
    "link = df_link\n",
    "link[\"pl_title\"] = [x.decode(\"utf-8\") for x in df_link[\"pl_title\"].values]"
   ]
  },
  {
   "cell_type": "code",
   "execution_count": 8,
   "metadata": {
    "collapsed": false
   },
   "outputs": [
    {
     "data": {
      "text/html": [
       "<div>\n",
       "<table border=\"1\" class=\"dataframe\">\n",
       "  <thead>\n",
       "    <tr style=\"text-align: right;\">\n",
       "      <th></th>\n",
       "      <th>pl_from</th>\n",
       "      <th>pl_title</th>\n",
       "    </tr>\n",
       "  </thead>\n",
       "  <tbody>\n",
       "    <tr>\n",
       "      <th>0</th>\n",
       "      <td>615</td>\n",
       "      <td>12th_man_(football)</td>\n",
       "    </tr>\n",
       "    <tr>\n",
       "      <th>1</th>\n",
       "      <td>615</td>\n",
       "      <td>1933_Pittsburgh_Pirates_(NFL)_season</td>\n",
       "    </tr>\n",
       "    <tr>\n",
       "      <th>2</th>\n",
       "      <td>615</td>\n",
       "      <td>1934_Pittsburgh_Pirates_(NFL)_season</td>\n",
       "    </tr>\n",
       "  </tbody>\n",
       "</table>\n",
       "</div>"
      ],
      "text/plain": [
       "   pl_from                              pl_title\n",
       "0      615                   12th_man_(football)\n",
       "1      615  1933_Pittsburgh_Pirates_(NFL)_season\n",
       "2      615  1934_Pittsburgh_Pirates_(NFL)_season"
      ]
     },
     "execution_count": 8,
     "metadata": {},
     "output_type": "execute_result"
    }
   ],
   "source": [
    "len(link)\n",
    "link[:3]"
   ]
  },
  {
   "cell_type": "code",
   "execution_count": 9,
   "metadata": {
    "collapsed": false
   },
   "outputs": [],
   "source": [
    "link.to_csv('pl_nepa_Batch1.csv', encoding=\"utf-8\")"
   ]
  },
  {
   "cell_type": "code",
   "execution_count": 10,
   "metadata": {
    "collapsed": false
   },
   "outputs": [],
   "source": [
    "saved_links = pd.read_csv(\"pl_nepa_Batch1.csv\")"
   ]
  },
  {
   "cell_type": "code",
   "execution_count": 11,
   "metadata": {
    "collapsed": false
   },
   "outputs": [
    {
     "data": {
      "text/html": [
       "<div>\n",
       "<table border=\"1\" class=\"dataframe\">\n",
       "  <thead>\n",
       "    <tr style=\"text-align: right;\">\n",
       "      <th></th>\n",
       "      <th>pl_from</th>\n",
       "      <th>pl_title</th>\n",
       "    </tr>\n",
       "  </thead>\n",
       "  <tbody>\n",
       "    <tr>\n",
       "      <th>0</th>\n",
       "      <td>615</td>\n",
       "      <td>12th_man_(football)</td>\n",
       "    </tr>\n",
       "    <tr>\n",
       "      <th>1</th>\n",
       "      <td>615</td>\n",
       "      <td>1933_Pittsburgh_Pirates_(NFL)_season</td>\n",
       "    </tr>\n",
       "    <tr>\n",
       "      <th>2</th>\n",
       "      <td>615</td>\n",
       "      <td>1934_Pittsburgh_Pirates_(NFL)_season</td>\n",
       "    </tr>\n",
       "  </tbody>\n",
       "</table>\n",
       "</div>"
      ],
      "text/plain": [
       "   pl_from                              pl_title\n",
       "0      615                   12th_man_(football)\n",
       "1      615  1933_Pittsburgh_Pirates_(NFL)_season\n",
       "2      615  1934_Pittsburgh_Pirates_(NFL)_season"
      ]
     },
     "execution_count": 11,
     "metadata": {},
     "output_type": "execute_result"
    }
   ],
   "source": [
    "del saved_links[\"Unnamed: 0\"]\n",
    "saved_links[:3]"
   ]
  },
  {
   "cell_type": "code",
   "execution_count": 12,
   "metadata": {
    "collapsed": false
   },
   "outputs": [
    {
     "data": {
      "text/html": [
       "<div>\n",
       "<table border=\"1\" class=\"dataframe\">\n",
       "  <thead>\n",
       "    <tr style=\"text-align: right;\">\n",
       "      <th></th>\n",
       "      <th>pl_from</th>\n",
       "      <th>pl_title</th>\n",
       "    </tr>\n",
       "  </thead>\n",
       "  <tbody>\n",
       "    <tr>\n",
       "      <th>1753251</th>\n",
       "      <td>51105617</td>\n",
       "      <td>India_Bihar_location_map.svg</td>\n",
       "    </tr>\n",
       "    <tr>\n",
       "      <th>1753252</th>\n",
       "      <td>51105617</td>\n",
       "      <td>Location_map_India_Bihar</td>\n",
       "    </tr>\n",
       "    <tr>\n",
       "      <th>1753253</th>\n",
       "      <td>51105617</td>\n",
       "      <td>Use_British_English_from_July_2016</td>\n",
       "    </tr>\n",
       "    <tr>\n",
       "      <th>1753254</th>\n",
       "      <td>51105617</td>\n",
       "      <td>Use_dmy_dates_from_July_2016</td>\n",
       "    </tr>\n",
       "    <tr>\n",
       "      <th>1753255</th>\n",
       "      <td>51105617</td>\n",
       "      <td>Location_map/data/India_Bihar</td>\n",
       "    </tr>\n",
       "  </tbody>\n",
       "</table>\n",
       "</div>"
      ],
      "text/plain": [
       "          pl_from                            pl_title\n",
       "1753251  51105617        India_Bihar_location_map.svg\n",
       "1753252  51105617            Location_map_India_Bihar\n",
       "1753253  51105617  Use_British_English_from_July_2016\n",
       "1753254  51105617        Use_dmy_dates_from_July_2016\n",
       "1753255  51105617       Location_map/data/India_Bihar"
      ]
     },
     "execution_count": 12,
     "metadata": {},
     "output_type": "execute_result"
    }
   ],
   "source": [
    "len(saved_links)\n",
    "saved_links[(len(saved_links)-5):]"
   ]
  },
  {
   "cell_type": "code",
   "execution_count": 13,
   "metadata": {
    "collapsed": false
   },
   "outputs": [],
   "source": [
    "art_num = set(saved_links[\"pl_from\"])"
   ]
  },
  {
   "cell_type": "code",
   "execution_count": 14,
   "metadata": {
    "collapsed": false
   },
   "outputs": [
    {
     "data": {
      "text/plain": [
       "10026"
      ]
     },
     "execution_count": 14,
     "metadata": {},
     "output_type": "execute_result"
    }
   ],
   "source": [
    "len(art_num)"
   ]
  },
  {
   "cell_type": "code",
   "execution_count": null,
   "metadata": {
    "collapsed": true
   },
   "outputs": [],
   "source": []
  }
 ],
 "metadata": {
  "kernelspec": {
   "display_name": "Python [Root]",
   "language": "python",
   "name": "Python [Root]"
  },
  "language_info": {
   "codemirror_mode": {
    "name": "ipython",
    "version": 3
   },
   "file_extension": ".py",
   "mimetype": "text/x-python",
   "name": "python",
   "nbconvert_exporter": "python",
   "pygments_lexer": "ipython3",
   "version": "3.5.1"
  }
 },
 "nbformat": 4,
 "nbformat_minor": 0
}
