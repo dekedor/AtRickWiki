{
 "cells": [
  {
   "cell_type": "code",
   "execution_count": 1,
   "metadata": {
    "collapsed": true
   },
   "outputs": [],
   "source": [
    "%matplotlib inline\n",
    "import pymysql\n",
    "import pandas as pd\n",
    "import numpy as np\n",
    "import matplotlib.pyplot as plt"
   ]
  },
  {
   "cell_type": "markdown",
   "metadata": {},
   "source": [
    "This notebook will count how many links point to EPAs for every article, what fraction and what they are."
   ]
  },
  {
   "cell_type": "code",
   "execution_count": 2,
   "metadata": {
    "collapsed": false
   },
   "outputs": [],
   "source": [
    "creds = {'user': 'fausto', \n",
    "         'pswd': 'dapuzzo'} \n",
    "\n",
    "connection = pymysql.connect(host = \"atriskwiki.cbprs6vpqcbz.us-west-1.rds.amazonaws.com\",\n",
    "                            user = creds[\"user\"],\n",
    "                            password = creds[\"pswd\"],\n",
    "                            port = 3306,\n",
    "                            db = \"atriskwiki\",\n",
    "                            charset = \"utf8\")\n",
    "\n",
    "cur = connection.cursor()"
   ]
  },
  {
   "cell_type": "code",
   "execution_count": 3,
   "metadata": {
    "collapsed": false
   },
   "outputs": [],
   "source": [
    "# get EPA titles from DB to DataFrame\n",
    "cur.execute(\"SELECT page_id, page_title FROM core WHERE page_is_ep = 1\")\n",
    "epas = pd.DataFrame(list(cur.fetchall()), columns = [\"page_id\",\"page_title\"])"
   ]
  },
  {
   "cell_type": "code",
   "execution_count": 13,
   "metadata": {
    "collapsed": false,
    "scrolled": true
   },
   "outputs": [
    {
     "name": "stdout",
     "output_type": "stream",
     "text": [
      "Loaded 1753359 links from batch 1\n",
      "Batch 1 processed. Contains 10026 articles.\n",
      "Loaded 1430706 links from batch 2\n",
      "Batch 2 processed. Contains 8438 articles.\n",
      "Loaded 1737063 links from batch 3\n",
      "Batch 3 processed. Contains 9946 articles.\n",
      "Loaded 1737651 links from batch 4\n",
      "Batch 4 processed. Contains 9965 articles.\n",
      "Loaded 1737738 links from batch 5\n",
      "Batch 5 processed. Contains 9936 articles.\n",
      "Loaded 1714561 links from batch 6\n",
      "Batch 6 processed. Contains 9958 articles.\n",
      "Loaded 1721621 links from batch 7\n",
      "Batch 7 processed. Contains 9957 articles.\n",
      "Loaded 1301935 links from batch 8\n",
      "Batch 8 processed. Contains 7613 articles.\n"
     ]
    },
    {
     "data": {
      "image/png": "[encoded data removed]",
      "text/plain": [
       "<matplotlib.figure.Figure at 0x195b98d0>"
      ]
     },
     "metadata": {},
     "output_type": "display_data"
    }
   ],
   "source": [
    "\n",
    "for i in range(1,9):\n",
    "    batchNum = int(i)\n",
    "    # get page_links from csv\n",
    "    p_links = pd.read_csv(\"pl_nepa_Batch{}.csv\".format(batchNum))\n",
    "    print(\"Loaded {} links from batch {}\".format(len(p_links), batchNum))\n",
    "    # Create list of boolean variables that check if the link is an EPA\n",
    "    bolean = list(p_links[\"pl_title\"].isin(set(epas[\"page_title\"])))\n",
    "    # Put it in a DataFrame\n",
    "    isin_epa = pd.DataFrame(bolean, index=p_links.index, columns=[\"isin_epa\"])\n",
    "    # merge p-links with isin-epa\n",
    "    link_tot = pd.merge(p_links, isin_epa, left_index = True, right_index = True, how = 'outer')\n",
    "    # count links-to-EPAs and make a dataframe\n",
    "    perarticle = link_tot.groupby(\"pl_from\")\n",
    "    link_quanti = pd.DataFrame(perarticle[\"isin_epa\"].aggregate(np.sum))\n",
    "    # make a dataframe of the total-counts of links\n",
    "    link_pl_tot = pd.DataFrame(perarticle[\"isin_epa\"].count())\n",
    "    # append number of links-to-EPAs to total-counts \n",
    "    link_pl_stats = pd.merge(link_pl_tot, link_quanti, left_index = True, right_index = True, suffixes=('_tot','_epas'))\n",
    "    # Calculate ratio and make dataframe of it\n",
    "    ratio = list(link_pl_stats[\"isin_epa_epas\"] / link_pl_stats[\"isin_epa_tot\"])\n",
    "    df_ratio = pd.DataFrame(ratio, index=link_pl_stats.index, columns=[\"ratio\"])\n",
    "    # append the ratio column to a new dataframe\n",
    "    link_pl_stats_ratio = pd.merge(link_pl_stats, df_ratio, left_index = True, right_index = True)\n",
    "    # rename columns\n",
    "    link_pl_stats_ratio.columns = [\"pl_count\", \"is_epa\", \"fraction\"]\n",
    "    # Save dataframe to file\n",
    "    #link_pl_stats_ratio.to_csv('pl_stats_nepa_batch{}.csv'.format(batchNum), encoding=\"utf-8\")\n",
    "    print(\"Batch {} processed. Contains {} articles.\".format(batchNum, len(link_pl_stats_ratio)))\n",
    "    # Plotting and saving distribution of ratios\n",
    "    bins = np.linspace(0, 1, 200)\n",
    "    plt.hist(link_pl_stats_ratio[\"fraction\"], bins, alpha = 0.1)\n",
    "    plt.title(\"EPAs Page-Links Histogram\")\n",
    "    plt.xlabel(\"Links-to-EPAs/Total-Page-Links\")\n",
    "    plt.ylabel(\"Frequency\")\n",
    "    plt.xlim(0,0.7)\n",
    "    #plt.savefig('pl_stats_nepa_batch{}.pdf'.format(batchNum))"
   ]
  },
  {
   "cell_type": "markdown",
   "metadata": {},
   "source": [
    "Not the prettiest code, very redundant but useful."
   ]
  },
  {
   "cell_type": "code",
   "execution_count": 12,
   "metadata": {
    "collapsed": false
   },
   "outputs": [
    {
     "data": {
      "text/plain": [
       "(0, 0.7)"
      ]
     },
     "execution_count": 12,
     "metadata": {},
     "output_type": "execute_result"
    },
    {
     "data": {
      "image/png": "[encoded data removed]",
      "text/plain": [
       "<matplotlib.figure.Figure at 0x11dc47b8>"
      ]
     },
     "metadata": {},
     "output_type": "display_data"
    }
   ],
   "source": [
    "    bins = np.linspace(0, 1, 200)\n",
    "    plt.hist(link_pl_stats_ratio[\"fraction\"], bins, alpha = 0.15)\n",
    "    plt.title(\"EPAs Page-Links Histogram\")\n",
    "    plt.xlabel(\"Links-to-EPAs/Total-Page-Links\")\n",
    "    plt.ylabel(\"Frequency\")\n",
    "    plt.xlim(0,0.7)"
   ]
  },
  {
   "cell_type": "markdown",
   "metadata": {},
   "source": [
    "======================================================\n",
    "\n",
    "Here we will plot how Edit-protection relates to number of internal links pointing to EPAs."
   ]
  },
  {
   "cell_type": "code",
   "execution_count": 15,
   "metadata": {
    "collapsed": true
   },
   "outputs": [],
   "source": [
    "df_nepa = pd.read_csv(\"pl_stats_nepa_batch1.csv\")\n",
    "df_epa = pd.read_csv(\"pl_stats_epa.csv\")"
   ]
  },
  {
   "cell_type": "code",
   "execution_count": 17,
   "metadata": {
    "collapsed": false
   },
   "outputs": [
    {
     "data": {
      "text/html": [
       "<div>\n",
       "<table border=\"1\" class=\"dataframe\">\n",
       "  <thead>\n",
       "    <tr style=\"text-align: right;\">\n",
       "      <th></th>\n",
       "      <th>pl_from</th>\n",
       "      <th>pl_count</th>\n",
       "      <th>is_epa</th>\n",
       "      <th>fraction</th>\n",
       "    </tr>\n",
       "  </thead>\n",
       "  <tbody>\n",
       "    <tr>\n",
       "      <th>0</th>\n",
       "      <td>615</td>\n",
       "      <td>1760</td>\n",
       "      <td>28.0</td>\n",
       "      <td>0.015909</td>\n",
       "    </tr>\n",
       "    <tr>\n",
       "      <th>1</th>\n",
       "      <td>734</td>\n",
       "      <td>476</td>\n",
       "      <td>13.0</td>\n",
       "      <td>0.027311</td>\n",
       "    </tr>\n",
       "    <tr>\n",
       "      <th>2</th>\n",
       "      <td>1019</td>\n",
       "      <td>1084</td>\n",
       "      <td>36.0</td>\n",
       "      <td>0.033210</td>\n",
       "    </tr>\n",
       "  </tbody>\n",
       "</table>\n",
       "</div>"
      ],
      "text/plain": [
       "   pl_from  pl_count  is_epa  fraction\n",
       "0      615      1760    28.0  0.015909\n",
       "1      734       476    13.0  0.027311\n",
       "2     1019      1084    36.0  0.033210"
      ]
     },
     "execution_count": 17,
     "metadata": {},
     "output_type": "execute_result"
    }
   ],
   "source": [
    "df_nepa[:3]"
   ]
  },
  {
   "cell_type": "code",
   "execution_count": 25,
   "metadata": {
    "collapsed": false
   },
   "outputs": [
    {
     "data": {
      "text/plain": [
       "<matplotlib.legend.Legend at 0x1a6449b0>"
      ]
     },
     "execution_count": 25,
     "metadata": {},
     "output_type": "execute_result"
    },
    {
     "data": {
      "image/png": "[encoded data removed]",
      "text/plain": [
       "<matplotlib.figure.Figure at 0x1950c128>"
      ]
     },
     "metadata": {},
     "output_type": "display_data"
    }
   ],
   "source": [
    "bins = np.linspace(0, 1, 200)\n",
    "plt.hist(df_epa[\"fraction\"], bins, alpha = 0.4, label= 'EPA', normed = True)\n",
    "plt.hist(df_nepa[\"fraction\"], bins, alpha = 0.4, label= 'Non-EPA', normed = True)\n",
    "plt.title(\"Page-Links Histograms\")\n",
    "plt.xlabel(\"Links-to-EPAs/Total-Page-Links\")\n",
    "plt.ylabel(\"Frequency\")\n",
    "plt.ylim(0,25)\n",
    "plt.xlim(0,0.4)\n",
    "plt.legend(prop={'size': 10})"
   ]
  },
  {
   "cell_type": "markdown",
   "metadata": {
    "collapsed": true
   },
   "source": [
    "======================================================\n",
    "\n",
    "Here instead we plot the total number of links for the two kind of articles "
   ]
  },
  {
   "cell_type": "code",
   "execution_count": 2,
   "metadata": {
    "collapsed": false
   },
   "outputs": [],
   "source": [
    "%matplotlib inline\n",
    "import pandas as pd\n",
    "import matplotlib.pyplot as plt\n",
    "df_nepa = pd.read_csv(\"pl_stats_nepa_batch1.csv\")\n",
    "df_epa = pd.read_csv(\"pl_stats_epa.csv\")"
   ]
  },
  {
   "cell_type": "code",
   "execution_count": 6,
   "metadata": {
    "collapsed": false
   },
   "outputs": [
    {
     "data": {
      "text/html": [
       "<div>\n",
       "<table border=\"1\" class=\"dataframe\">\n",
       "  <thead>\n",
       "    <tr style=\"text-align: right;\">\n",
       "      <th></th>\n",
       "      <th>pl_from</th>\n",
       "      <th>pl_count</th>\n",
       "      <th>is_epa</th>\n",
       "      <th>fraction</th>\n",
       "    </tr>\n",
       "  </thead>\n",
       "  <tbody>\n",
       "    <tr>\n",
       "      <th>0</th>\n",
       "      <td>25</td>\n",
       "      <td>672</td>\n",
       "      <td>23.0</td>\n",
       "      <td>0.034226</td>\n",
       "    </tr>\n",
       "    <tr>\n",
       "      <th>1</th>\n",
       "      <td>290</td>\n",
       "      <td>193</td>\n",
       "      <td>10.0</td>\n",
       "      <td>0.051813</td>\n",
       "    </tr>\n",
       "    <tr>\n",
       "      <th>2</th>\n",
       "      <td>307</td>\n",
       "      <td>1508</td>\n",
       "      <td>84.0</td>\n",
       "      <td>0.055703</td>\n",
       "    </tr>\n",
       "  </tbody>\n",
       "</table>\n",
       "</div>"
      ],
      "text/plain": [
       "   pl_from  pl_count  is_epa  fraction\n",
       "0       25       672    23.0  0.034226\n",
       "1      290       193    10.0  0.051813\n",
       "2      307      1508    84.0  0.055703"
      ]
     },
     "execution_count": 6,
     "metadata": {},
     "output_type": "execute_result"
    }
   ],
   "source": [
    "df_epa[:3]"
   ]
  },
  {
   "cell_type": "code",
   "execution_count": 10,
   "metadata": {
    "collapsed": false
   },
   "outputs": [
    {
     "ename": "AttributeError",
     "evalue": "module 'matplotlib.pyplot' has no attribute 'set_xscale'",
     "output_type": "error",
     "traceback": [
      "\u001b[1;31m---------------------------------------------------------------------------\u001b[0m",
      "\u001b[1;31mAttributeError\u001b[0m                            Traceback (most recent call last)",
      "\u001b[1;32m<ipython-input-10-87a13a60824d>\u001b[0m in \u001b[0;36m<module>\u001b[1;34m()\u001b[0m\n\u001b[0;32m      9\u001b[0m \u001b[1;31m#plt.xlim(0,0.4)\u001b[0m\u001b[1;33m\u001b[0m\u001b[1;33m\u001b[0m\u001b[0m\n\u001b[0;32m     10\u001b[0m \u001b[0mplt\u001b[0m\u001b[1;33m.\u001b[0m\u001b[0mlegend\u001b[0m\u001b[1;33m(\u001b[0m\u001b[0mprop\u001b[0m\u001b[1;33m=\u001b[0m\u001b[1;33m{\u001b[0m\u001b[1;34m'size'\u001b[0m\u001b[1;33m:\u001b[0m \u001b[1;36m10\u001b[0m\u001b[1;33m}\u001b[0m\u001b[1;33m)\u001b[0m\u001b[1;33m\u001b[0m\u001b[0m\n\u001b[1;32m---> 11\u001b[1;33m \u001b[0mplt\u001b[0m\u001b[1;33m.\u001b[0m\u001b[0mset_xscale\u001b[0m\u001b[1;33m(\u001b[0m\u001b[1;34m'log'\u001b[0m\u001b[1;33m)\u001b[0m\u001b[1;33m\u001b[0m\u001b[0m\n\u001b[0m",
      "\u001b[1;31mAttributeError\u001b[0m: module 'matplotlib.pyplot' has no attribute 'set_xscale'"
     ]
    },
    {
     "data": {
      "image/png": "[encoded data removed]",
      "text/plain": [
       "<matplotlib.figure.Figure at 0xb82ce80>"
      ]
     },
     "metadata": {},
     "output_type": "display_data"
    }
   ],
   "source": [
    "import numpy as np\n",
    "bins = np.linspace(0, 2000, 200)\n",
    "plt.hist(df_epa[\"pl_count\"], bins, alpha = 0.4, label= 'EPA', normed = True)\n",
    "plt.hist(df_nepa[\"pl_count\"], bins, alpha = 0.4, label= 'Non-EPA', normed = True)\n",
    "plt.title(\"Page-Links Histograms\")\n",
    "plt.xlabel(\"Total Num. of Page-Links\")\n",
    "plt.ylabel(\"Frequency\")\n",
    "#plt.ylim(0,25)\n",
    "#plt.xlim(0,0.4)\n",
    "plt.legend(prop={'size': 10})"
   ]
  },
  {
   "cell_type": "code",
   "execution_count": null,
   "metadata": {
    "collapsed": true
   },
   "outputs": [],
   "source": []
  },
  {
   "cell_type": "code",
   "execution_count": null,
   "metadata": {
    "collapsed": true
   },
   "outputs": [],
   "source": []
  },
  {
   "cell_type": "code",
   "execution_count": null,
   "metadata": {
    "collapsed": true
   },
   "outputs": [],
   "source": [
    "# check saved csv\n",
    "vediamo = pd.read_csv('pl_stats_epa.csv')\n",
    "vediamo[:3]"
   ]
  },
  {
   "cell_type": "code",
   "execution_count": null,
   "metadata": {
    "collapsed": true
   },
   "outputs": [],
   "source": [
    "# ids = df.index[df[\"page_title\"].isin([\"Alzheimer's_disease\"])]   #I'm proud of myself!!"
   ]
  },
  {
   "cell_type": "code",
   "execution_count": null,
   "metadata": {
    "collapsed": true
   },
   "outputs": [],
   "source": [
    "# because this returns a SettingWithCopyWarning, I should maybe try and create a df and merge it to the existing one\n",
    "link1[\"isin_epa\"]=list(link1[\"pl_title\"].isin(set(df_try[\"page_title\"])))"
   ]
  }
 ],
 "metadata": {
  "anaconda-cloud": {},
  "kernelspec": {
   "display_name": "Python [Root]",
   "language": "python",
   "name": "Python [Root]"
  },
  "language_info": {
   "codemirror_mode": {
    "name": "ipython",
    "version": 3
   },
   "file_extension": ".py",
   "mimetype": "text/x-python",
   "name": "python",
   "nbconvert_exporter": "python",
   "pygments_lexer": "ipython3",
   "version": "3.5.1"
  }
 },
 "nbformat": 4,
 "nbformat_minor": 0
}
