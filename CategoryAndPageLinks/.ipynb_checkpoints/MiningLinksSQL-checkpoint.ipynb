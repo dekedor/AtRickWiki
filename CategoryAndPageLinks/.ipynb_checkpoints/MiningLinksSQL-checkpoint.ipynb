{
 "cells": [
  {
   "cell_type": "markdown",
   "metadata": {},
   "source": [
    "First enstablish the SSL via PuTTY, connecting to the tool-login.wmflabs.org, from port 4711 to the destination enwiki.labsdb (at port 3306). Insert your credentials below:"
   ]
  },
  {
   "cell_type": "code",
   "execution_count": 1,
   "metadata": {
    "collapsed": false
   },
   "outputs": [],
   "source": [
    "import pymysql\n",
    "import datetime\n",
    "import pandas as pd\n",
    "\n",
    "wikiconn  = pymysql.connect(host='localhost',\n",
    "                            user='u15068',                 # get from replica.my.cnf\n",
    "                            password='G5V2xrWbdFTSkyoU',   # get from replica.my.cnf\n",
    "                            port=4711,\n",
    "                            db='enwiki_p',\n",
    "                            charset='utf8')\n",
    "wikiCur = wikiconn.cursor()"
   ]
  },
  {
   "cell_type": "code",
   "execution_count": 6,
   "metadata": {
    "collapsed": false
   },
   "outputs": [
    {
     "name": "stdout",
     "output_type": "stream",
     "text": [
      "Quarry for 9946 IDS from batch 3, with last ID being: 51103467\n",
      "[13:24:30] fetching chunk 0. Ids from 621 to 320521\n",
      "[13:24:41] fetching chunk 1. Ids from 321331 to 1266078\n",
      "[13:24:48] fetching chunk 2. Ids from 1266804 to 3504271\n",
      "[13:24:54] fetching chunk 3. Ids from 3508376 to 7663767\n",
      "[13:25:01] fetching chunk 4. Ids from 7667886 to 13991250\n",
      "[13:25:12] fetching chunk 5. Ids from 14005846 to 20905642\n",
      "[13:25:18] fetching chunk 6. Ids from 20928073 to 27541495\n",
      "[13:25:23] fetching chunk 7. Ids from 27557618 to 35353535\n",
      "[13:25:35] fetching chunk 8. Ids from 35355468 to 42744937\n",
      "[13:25:40] fetching chunk 9. Ids from 42748567 to 51103467\n",
      "Batch 3 contains 1737063 pl_title links\n",
      "Quarry for 9966 IDS from batch 4, with last ID being: 51106337\n",
      "[13:25:52] fetching chunk 0. Ids from 572 to 304572\n",
      "[13:26:01] fetching chunk 1. Ids from 304970 to 1181282\n",
      "[13:26:08] fetching chunk 2. Ids from 1183023 to 3353715\n",
      "[13:26:15] fetching chunk 3. Ids from 3375153 to 6921685\n",
      "[13:26:21] fetching chunk 4. Ids from 6926806 to 13022430\n",
      "[13:26:27] fetching chunk 5. Ids from 13061332 to 19930459\n",
      "[13:26:32] fetching chunk 6. Ids from 19937005 to 26905514\n",
      "[13:26:37] fetching chunk 7. Ids from 26921728 to 34987125\n",
      "[13:26:48] fetching chunk 8. Ids from 35007779 to 42683745\n",
      "[13:26:54] fetching chunk 9. Ids from 42698962 to 51106337\n",
      "Batch 4 contains 1737651 pl_title links\n",
      "Quarry for 9938 IDS from batch 5, with last ID being: 51106355\n",
      "[13:27:06] fetching chunk 0. Ids from 1167 to 316886\n",
      "[13:27:18] fetching chunk 1. Ids from 317131 to 1240902\n",
      "[13:27:26] fetching chunk 2. Ids from 1240974 to 3579161\n",
      "[13:27:31] fetching chunk 3. Ids from 3580389 to 7354767\n",
      "[13:27:37] fetching chunk 4. Ids from 7357018 to 13671114\n",
      "[13:27:43] fetching chunk 5. Ids from 13687213 to 20291175\n",
      "[13:27:49] fetching chunk 6. Ids from 20293536 to 27239554\n",
      "[13:27:56] fetching chunk 7. Ids from 27262360 to 35757259\n",
      "[13:28:02] fetching chunk 8. Ids from 35783519 to 43273038\n",
      "[13:28:07] fetching chunk 9. Ids from 43273721 to 51106355\n",
      "Batch 5 contains 1737738 pl_title links\n",
      "Quarry for 9959 IDS from batch 6, with last ID being: 51106996\n",
      "[13:28:18] fetching chunk 0. Ids from 791 to 323847\n",
      "[13:28:28] fetching chunk 1. Ids from 324001 to 1268109\n",
      "[13:28:35] fetching chunk 2. Ids from 1268431 to 3855191\n",
      "[13:28:42] fetching chunk 3. Ids from 3855965 to 8109442\n",
      "[13:28:47] fetching chunk 4. Ids from 8111111 to 14527702\n",
      "[13:28:53] fetching chunk 5. Ids from 14535095 to 21293967\n",
      "[13:28:59] fetching chunk 6. Ids from 21315027 to 27937046\n",
      "[13:29:04] fetching chunk 7. Ids from 27949474 to 35938332\n",
      "[13:29:10] fetching chunk 8. Ids from 35941188 to 42668337\n",
      "[13:29:21] fetching chunk 9. Ids from 42669512 to 51106996\n",
      "Batch 6 contains 1714561 pl_title links\n",
      "Quarry for 9958 IDS from batch 7, with last ID being: 51102592\n",
      "[13:29:33] fetching chunk 0. Ids from 700 to 345776\n",
      "[13:29:42] fetching chunk 1. Ids from 346300 to 1237214\n",
      "[13:29:51] fetching chunk 2. Ids from 1238911 to 4061841\n",
      "[13:30:03] fetching chunk 3. Ids from 4066924 to 8159125\n",
      "[13:30:09] fetching chunk 4. Ids from 8173523 to 14170318\n",
      "[13:30:21] fetching chunk 5. Ids from 14170491 to 20931021\n",
      "[13:30:28] fetching chunk 6. Ids from 20938975 to 27946507\n",
      "[13:30:35] fetching chunk 7. Ids from 27980067 to 35930948\n",
      "[13:30:41] fetching chunk 8. Ids from 35935001 to 42835834\n",
      "[13:30:46] fetching chunk 9. Ids from 42844401 to 51102592\n",
      "Batch 7 contains 1721621 pl_title links\n",
      "Quarry for 7614 IDS from batch 8, with last ID being: 51107865\n",
      "[13:30:58] fetching chunk 0. Ids from 1094 to 451617\n",
      "[13:31:07] fetching chunk 1. Ids from 452252 to 2817541\n",
      "[13:31:15] fetching chunk 2. Ids from 2823467 to 6988574\n",
      "[13:31:21] fetching chunk 3. Ids from 6990442 to 15004448\n",
      "[13:31:27] fetching chunk 4. Ids from 15026605 to 24028119\n",
      "[13:31:34] fetching chunk 5. Ids from 24038679 to 33958394\n",
      "[13:31:40] fetching chunk 6. Ids from 33973309 to 43700513\n",
      "[13:31:45] fetching chunk 7. Ids from 43700810 to 51107865\n",
      "Batch 8 contains 1301935 pl_title links\n"
     ]
    }
   ],
   "source": [
    "# DEFINE WHAT TO QUARRY IN THE WIKIPEDIA DATABASE:\n",
    "# for PageLinks: \"pl_from\", \"pagelinks\", [\"pl_from\", \"pl_title\"]\n",
    "# for categorylinks: \"cl_from\",\"categorylinks\",[\"cl_from\",\"cl_to\"]\n",
    "\n",
    "columnIDs = \"pl_from\"\n",
    "table2Q = \"pagelinks\"\n",
    "columns2Q = [\"pl_from\",\"pl_title\"]\n",
    "\n",
    "# get IDS to Quarry! \n",
    "# For EPAs get them from ../WikiSQL/070916_edit_protected_articles.csv\n",
    "# For NEPAs: ../Sampling/071816_batch1_sampled_ids.csv\n",
    "\n",
    "for i in range(3,9):\n",
    "    batchNum = int(i)\n",
    "    # Get Ids from batch number batchNum\n",
    "    ids2Q = GetIdsFromCsv(batchNum,\"ids_Batch{}.csv\".format(batchNum))\n",
    "    print(\"Quarry for {} IDS from batch {}, with last ID being: {}\".format(len(ids2Q), batchNum, ids2Q[len(ids2Q)-1]))\n",
    "\n",
    "    # QUARRY DATABASE\n",
    "    df_link = BatchQueryFromList(ids2Q, columnIDs, table2Q, columns2Q)\n",
    "    print(\"Batch {} contains {} {} links\".format(batchNum, len(df_link), columns2Q[1]))\n",
    "\n",
    "    # this DECODES the links\n",
    "    links_dec = DecodeLinkColumn(df_link, columns2Q[1])\n",
    "\n",
    "    # save data fo file\n",
    "    links_dec.to_csv('pl_nepa_Batch{}.csv'.format(batchNum), encoding=\"utf-8\")"
   ]
  },
  {
   "cell_type": "code",
   "execution_count": null,
   "metadata": {
    "collapsed": true
   },
   "outputs": [],
   "source": [
    "\n",
    "batchNum=4\n",
    "ids2Q = GetIdsFromCsv(batchNum,\"ids_Batch{}.csv\".format(batchNum))"
   ]
  },
  {
   "cell_type": "code",
   "execution_count": null,
   "metadata": {
    "collapsed": false
   },
   "outputs": [],
   "source": [
    "idsInChunk = \",\".join(map(str,ids2Q))\n",
    "idsInChunk[:1000]"
   ]
  },
  {
   "cell_type": "markdown",
   "metadata": {},
   "source": [
    "=================================\n",
    "\n",
    "The necessary functions follow:"
   ]
  },
  {
   "cell_type": "code",
   "execution_count": 2,
   "metadata": {
    "collapsed": true
   },
   "outputs": [],
   "source": [
    "def GetIdsFromCsv(n_batch, path):\n",
    "    ids = pd.read_csv(path)\n",
    "    ids2Q = sorted(ids[\"page_id\"])\n",
    "    return ids2Q"
   ]
  },
  {
   "cell_type": "code",
   "execution_count": 3,
   "metadata": {
    "collapsed": true
   },
   "outputs": [],
   "source": [
    "def chunks(l, n):                                          # WATCH OUT! This is not a function, it's a GENERATOR.\n",
    "    \"\"\"Yield successive n-sized chunks from l.\"\"\"\n",
    "    for i in range(0, len(l), n):\n",
    "        yield l[i:i+n]"
   ]
  },
  {
   "cell_type": "code",
   "execution_count": 4,
   "metadata": {
    "collapsed": true
   },
   "outputs": [],
   "source": [
    "def PrintableTimestamp():\n",
    "    now = datetime.datetime.now().time()\n",
    "    return \"[{:02d}:{:02d}:{:02d}]\".format(now.hour,now.minute,now.second)\n",
    "\n",
    "def BatchQueryFromList(listOfIDs,columnThatContainsIDs,tableToQuery,listOfColumnsToRetrieve):\n",
    "    '''listOfIDs is a list of keys to retrieve from an SQL table\n",
    "    columnThatContainsIDs is the column in that table that stores the keys\n",
    "    tableToQuery is the table containing the information you want\n",
    "    listOfColumnsToRetrieve is a list containing the SQL DB table column names you want to retrieve\n",
    "    Returns a pandas dataframe with column names equivalent to those in the DB you queried'''\n",
    "    baseQ = \"SELECT {} FROM {} WHERE {} IN ({})\"\n",
    "    colsForQ = \",\".join(listOfColumnsToRetrieve)\n",
    "    idChunks = chunks(listOfIDs, 1000)\n",
    "    result_df = pd.DataFrame()\n",
    "    for ix, chunk in enumerate(idChunks):\n",
    "        print(PrintableTimestamp() + \" fetching chunk {}. Ids from {} to {}\".format(ix,chunk[0],chunk[-1]))\n",
    "        idsInChunk = \",\".join(map(str,chunk))\n",
    "        preppedQ = baseQ.format(colsForQ,tableToQuery,columnThatContainsIDs,idsInChunk)\n",
    "        wikiCur.execute(preppedQ)\n",
    "        if not result_df.empty:\n",
    "            result_df = result_df.append(pd.DataFrame(list(wikiCur.fetchall()),columns=listOfColumnsToRetrieve))\n",
    "        else:\n",
    "            result_df = pd.DataFrame(list(wikiCur.fetchall()),columns=listOfColumnsToRetrieve)\n",
    "    return result_df"
   ]
  },
  {
   "cell_type": "code",
   "execution_count": 5,
   "metadata": {
    "collapsed": true
   },
   "outputs": [],
   "source": [
    "# this DECODES the links\n",
    "def DecodeLinkColumn(dataframe, tableColumn):\n",
    "    df_link = dataframe\n",
    "    df_link[tableColumn] = [x.decode(\"utf-8\") for x in dataframe[tableColumn].values]\n",
    "    return df_link"
   ]
  },
  {
   "cell_type": "markdown",
   "metadata": {},
   "source": [
    "Some exploratory code"
   ]
  },
  {
   "cell_type": "code",
   "execution_count": null,
   "metadata": {
    "collapsed": true
   },
   "outputs": [],
   "source": [
    "#for some reason the index of this dataframe has 8 copies\n",
    "from collections import Counter\n",
    "print(Counter(link.index)[13])\n",
    "saved_links = pd.read_csv(\"pl_nepa_Batch{}.csv\".format(batchNum))\n",
    "#the index is fixed when i save it!!!\n",
    "print(saved_links[len(saved_links)-3:])\n",
    "#let's get rid of the strange column \n",
    "del saved_links[\"Unnamed: 0\"]\n",
    "print(saved_links[len(saved_links)-3:])\n",
    "art_num = set(saved_links[\"pl_from\"])\n",
    "len(art_num)"
   ]
  },
  {
   "cell_type": "code",
   "execution_count": 7,
   "metadata": {
    "collapsed": true
   },
   "outputs": [],
   "source": [
    "saved_links = pd.read_csv(\"pl_nepa_Batch3.csv\")"
   ]
  },
  {
   "cell_type": "code",
   "execution_count": 11,
   "metadata": {
    "collapsed": false
   },
   "outputs": [
    {
     "data": {
      "text/html": [
       "<div>\n",
       "<table border=\"1\" class=\"dataframe\">\n",
       "  <thead>\n",
       "    <tr style=\"text-align: right;\">\n",
       "      <th></th>\n",
       "      <th>pl_from</th>\n",
       "      <th>pl_title</th>\n",
       "    </tr>\n",
       "  </thead>\n",
       "  <tbody>\n",
       "    <tr>\n",
       "      <th>0</th>\n",
       "      <td>621</td>\n",
       "      <td>Actinistia</td>\n",
       "    </tr>\n",
       "    <tr>\n",
       "      <th>1</th>\n",
       "      <td>621</td>\n",
       "      <td>Actinopterygii</td>\n",
       "    </tr>\n",
       "    <tr>\n",
       "      <th>2</th>\n",
       "      <td>621</td>\n",
       "      <td>Adaptive_radiation</td>\n",
       "    </tr>\n",
       "    <tr>\n",
       "      <th>3</th>\n",
       "      <td>621</td>\n",
       "      <td>Adipose_tissue</td>\n",
       "    </tr>\n",
       "    <tr>\n",
       "      <th>4</th>\n",
       "      <td>621</td>\n",
       "      <td>Aestivation</td>\n",
       "    </tr>\n",
       "  </tbody>\n",
       "</table>\n",
       "</div>"
      ],
      "text/plain": [
       "   pl_from            pl_title\n",
       "0      621          Actinistia\n",
       "1      621      Actinopterygii\n",
       "2      621  Adaptive_radiation\n",
       "3      621      Adipose_tissue\n",
       "4      621         Aestivation"
      ]
     },
     "execution_count": 11,
     "metadata": {},
     "output_type": "execute_result"
    }
   ],
   "source": [
    "\n",
    "saved_links[:5]"
   ]
  },
  {
   "cell_type": "code",
   "execution_count": null,
   "metadata": {
    "collapsed": true
   },
   "outputs": [],
   "source": []
  }
 ],
 "metadata": {
  "kernelspec": {
   "display_name": "Python [Root]",
   "language": "python",
   "name": "Python [Root]"
  },
  "language_info": {
   "codemirror_mode": {
    "name": "ipython",
    "version": 3
   },
   "file_extension": ".py",
   "mimetype": "text/x-python",
   "name": "python",
   "nbconvert_exporter": "python",
   "pygments_lexer": "ipython3",
   "version": "3.5.1"
  }
 },
 "nbformat": 4,
 "nbformat_minor": 0
}
