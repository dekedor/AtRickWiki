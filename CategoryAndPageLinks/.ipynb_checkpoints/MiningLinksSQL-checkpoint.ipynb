{
 "cells": [
  {
   "cell_type": "markdown",
   "metadata": {},
   "source": [
    "First enstablish the SSL via PuTTY, connecting to the tool-login.wmflabs.org, from port 4711 to the destination enwiki.labsdb (at port 3306). Insert your credentials below:"
   ]
  },
  {
   "cell_type": "code",
   "execution_count": 1,
   "metadata": {
    "collapsed": false
   },
   "outputs": [],
   "source": [
    "import pymysql\n",
    "import datetime\n",
    "import pandas as pd\n",
    "\n",
    "wikiconn  = pymysql.connect(host='localhost',\n",
    "                            user='u15068',                 # get from replica.my.cnf\n",
    "                            password='G5V2xrWbdFTSkyoU',   # get from replica.my.cnf\n",
    "                            port=4711,\n",
    "                            db='enwiki_p',\n",
    "                            charset='utf8')\n",
    "wikiCur = wikiconn.cursor()"
   ]
  },
  {
   "cell_type": "code",
   "execution_count": 2,
   "metadata": {
    "collapsed": true
   },
   "outputs": [],
   "source": [
    "def chunks(l, n):\n",
    "    \"\"\"Yield successive n-sized chunks from l.\"\"\"\n",
    "    for i in range(0, len(l), n):\n",
    "        yield l[i:i+n]"
   ]
  },
  {
   "cell_type": "code",
   "execution_count": 34,
   "metadata": {
    "collapsed": true
   },
   "outputs": [],
   "source": [
    "def PrintableTimestamp():\n",
    "    now = datetime.datetime.now().time()\n",
    "    return \"[{:02d}:{:02d}:{:02d}]\".format(now.hour,now.minute,now.second)\n",
    "\n",
    "def BatchQueryFromList(listOfIDs,columnThatContainsIDs,tableToQuery,listOfColumnsToRetrieve):\n",
    "    '''listOfIDs is a list of keys to retrieve from an SQL table\n",
    "    columnThatContainsIDs is the column in that table that stores the keys\n",
    "    tableToQuery is the table containing the information you want\n",
    "    listOfColumnsToRetrieve is a list containing the SQL DB table column names you want to retrieve\n",
    "    Returns a pandas dataframe with column names equivalent to those in the DB you queried'''\n",
    "    baseQ = \"SELECT {} FROM {} WHERE {} IN ({})\"\n",
    "    colsForQ = \",\".join(listOfColumnsToRetrieve)\n",
    "    idChunks = chunks(listOfIDs, 1000)\n",
    "    result_df = pd.DataFrame()\n",
    "    for ix, chunk in enumerate(idChunks):\n",
    "        print(PrintableTimestamp() + \" fetching chunk {}\".format(ix))\n",
    "        idsInChunk = \",\".join(map(str,chunk))\n",
    "        preppedQ = baseQ.format(colsForQ,tableToQuery,columnThatContainsIDs,idsInChunk)\n",
    "        wikiCur.execute(preppedQ)\n",
    "        if not result_df.empty:\n",
    "            result_df.append(list(wikiCur.fetchall()))\n",
    "            print(\"here I'm appending\")\n",
    "        else:\n",
    "            result_df = pd.DataFrame(list(wikiCur.fetchall()),columns=listOfColumnsToRetrieve)\n",
    "            print(\"that was the first touch\")\n",
    "    return result_df"
   ]
  },
  {
   "cell_type": "code",
   "execution_count": 38,
   "metadata": {
    "collapsed": false
   },
   "outputs": [],
   "source": [
    "# get IDS for EPAs from github file. For NEPAs: ../Sampling/071816_batch1_sampled_ids.csv\n",
    "ids2Q = pd.read_csv(\"../WikiSQL/070916_edit_protected_articles.csv\")  # For EPAs: ../WikiSQL/070916_edit_protected_articles.csv\n",
    "\n"
   ]
  },
  {
   "cell_type": "code",
   "execution_count": null,
   "metadata": {
    "collapsed": true
   },
   "outputs": [],
   "source": []
  },
  {
   "cell_type": "code",
   "execution_count": null,
   "metadata": {
    "collapsed": true
   },
   "outputs": [],
   "source": [
    "# and convert them to STRINGS: this maps the values of the np.array into strings, and makes a list\n",
    "ids2Qstr = list(map(str, ids2Q[\"page_id\"].values)) \n",
    "print(len(ids2Qstr))"
   ]
  },
  {
   "cell_type": "code",
   "execution_count": 36,
   "metadata": {
    "collapsed": false
   },
   "outputs": [
    {
     "data": {
      "text/plain": [
       "'47779717,48421986,48750897,50109817,50730392'"
      ]
     },
     "execution_count": 36,
     "metadata": {},
     "output_type": "execute_result"
    }
   ],
   "source": [
    "\",\".join(ids2Qstr[(len(ids2Q)-5):])"
   ]
  },
  {
   "cell_type": "code",
   "execution_count": 37,
   "metadata": {
    "collapsed": false
   },
   "outputs": [
    {
     "name": "stdout",
     "output_type": "stream",
     "text": [
      "[08:57:04] fetching chunk 0\n",
      "that was the first touch\n",
      "[08:57:06] fetching chunk 1\n",
      "here I'm appending\n",
      "[08:57:07] fetching chunk 2\n",
      "here I'm appending\n",
      "[08:57:09] fetching chunk 3\n",
      "here I'm appending\n",
      "[08:57:10] fetching chunk 4\n",
      "here I'm appending\n",
      "[08:57:11] fetching chunk 5\n",
      "here I'm appending\n",
      "[08:57:11] fetching chunk 6\n",
      "here I'm appending\n",
      "[08:57:13] fetching chunk 7\n",
      "here I'm appending\n"
     ]
    },
    {
     "data": {
      "text/plain": [
       "27897"
      ]
     },
     "execution_count": 37,
     "metadata": {},
     "output_type": "execute_result"
    }
   ],
   "source": [
    "# the dataframe obtained from the quarry function\n",
    "# for PageLinks: \"pl_from\", \"pagelinks\", [\"pl_from\", \"pl_title\"]\n",
    "# for categorylinks: \"cl_from\",\"categorylinks\",[\"cl_from\",\"cl_to\"]\n",
    "\n",
    "df_link = BatchQueryFromList(ids2Qstr,\"cl_from\",\"categorylinks\",[\"cl_from\",\"cl_to\"])\n",
    "len(df_link)"
   ]
  },
  {
   "cell_type": "code",
   "execution_count": 25,
   "metadata": {
    "collapsed": false
   },
   "outputs": [
    {
     "data": {
      "text/html": [
       "<div>\n",
       "<table border=\"1\" class=\"dataframe\">\n",
       "  <thead>\n",
       "    <tr style=\"text-align: right;\">\n",
       "      <th></th>\n",
       "      <th>cl_from</th>\n",
       "      <th>cl_to</th>\n",
       "    </tr>\n",
       "  </thead>\n",
       "  <tbody>\n",
       "  </tbody>\n",
       "</table>\n",
       "</div>"
      ],
      "text/plain": [
       "Empty DataFrame\n",
       "Columns: [cl_from, cl_to]\n",
       "Index: []"
      ]
     },
     "execution_count": 25,
     "metadata": {},
     "output_type": "execute_result"
    }
   ],
   "source": [
    "df_link[(len(df_link)-5):]"
   ]
  },
  {
   "cell_type": "code",
   "execution_count": null,
   "metadata": {
    "collapsed": false
   },
   "outputs": [],
   "source": [
    "# this decodes the links\n",
    "\n",
    "link = df_link\n",
    "link[\"pl_title\"] = [x.decode(\"utf-8\") for x in df_link[\"pl_title\"].values]"
   ]
  },
  {
   "cell_type": "code",
   "execution_count": null,
   "metadata": {
    "collapsed": false
   },
   "outputs": [],
   "source": [
    "len(link)\n",
    "link[:3]"
   ]
  },
  {
   "cell_type": "code",
   "execution_count": null,
   "metadata": {
    "collapsed": false
   },
   "outputs": [],
   "source": [
    "link.to_csv('pl_nepa_Batch1.csv', encoding=\"utf-8\")"
   ]
  },
  {
   "cell_type": "code",
   "execution_count": null,
   "metadata": {
    "collapsed": false
   },
   "outputs": [],
   "source": [
    "saved_links = pd.read_csv(\"pl_nepa_Batch1.csv\")"
   ]
  },
  {
   "cell_type": "code",
   "execution_count": null,
   "metadata": {
    "collapsed": false
   },
   "outputs": [],
   "source": [
    "del saved_links[\"Unnamed: 0\"]\n",
    "saved_links[:3]"
   ]
  },
  {
   "cell_type": "code",
   "execution_count": null,
   "metadata": {
    "collapsed": false
   },
   "outputs": [],
   "source": [
    "len(saved_links)\n",
    "saved_links[(len(saved_links)-5):]"
   ]
  },
  {
   "cell_type": "code",
   "execution_count": null,
   "metadata": {
    "collapsed": false
   },
   "outputs": [],
   "source": [
    "art_num = set(saved_links[\"pl_from\"])"
   ]
  },
  {
   "cell_type": "code",
   "execution_count": null,
   "metadata": {
    "collapsed": false
   },
   "outputs": [],
   "source": [
    "len(art_num)"
   ]
  },
  {
   "cell_type": "code",
   "execution_count": null,
   "metadata": {
    "collapsed": true
   },
   "outputs": [],
   "source": []
  }
 ],
 "metadata": {
  "kernelspec": {
   "display_name": "Python [Root]",
   "language": "python",
   "name": "Python [Root]"
  },
  "language_info": {
   "codemirror_mode": {
    "name": "ipython",
    "version": 3
   },
   "file_extension": ".py",
   "mimetype": "text/x-python",
   "name": "python",
   "nbconvert_exporter": "python",
   "pygments_lexer": "ipython3",
   "version": "3.5.1"
  }
 },
 "nbformat": 4,
 "nbformat_minor": 0
}
