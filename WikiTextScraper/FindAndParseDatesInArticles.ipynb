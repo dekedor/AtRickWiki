{
 "cells": [
  {
   "cell_type": "code",
   "execution_count": 3,
   "metadata": {
    "collapsed": true
   },
   "outputs": [],
   "source": [
    "import re\n",
    "import requests\n",
    "import json\n",
    "\n",
    "import pymysql\n",
    "\n",
    "# your username and password go here!\n",
    "creds = {'user': 'brian', \n",
    "         'pswd': 'farley'} \n",
    "\n",
    "\n",
    "connection = pymysql.connect(host=\"atriskwiki.cbprs6vpqcbz.us-west-1.rds.amazonaws.com\",\n",
    "                            user=creds['user'],\n",
    "                            password=creds['pswd'],\n",
    "                            port=3306,\n",
    "                            db=\"atriskwiki\",\n",
    "                            charset=\"utf8\")\n",
    "\n",
    "cur = connection.cursor()"
   ]
  },
  {
   "cell_type": "code",
   "execution_count": 4,
   "metadata": {
    "collapsed": false
   },
   "outputs": [
    {
     "name": "stdout",
     "output_type": "stream",
     "text": [
      "(?P<date>(?P<month>jan(?:uary)?|feb(?:ruary)?|mar(?:ch)?|apr(?:il)?|may|jun(?:e)?|jul(?:y)?|aug(?:ust)?|sep(?:tember)?|oct(?:ober)?|nov(?:ember)?|dec(?:ember)?) (?P<day>\\d{1,2})\\w{0,2},? (?P<year>\\d{4}))\n",
      "(?P<date>(?P<day>\\d{1,2})\\w{0,2} (?P<month>jan(?:uary)?|feb(?:ruary)?|mar(?:ch)?|apr(?:il)?|may|jun(?:e)?|jul(?:y)?|aug(?:ust)?|sep(?:tember)?|oct(?:ober)?|nov(?:ember)?|dec(?:ember)?) (?P<year>\\d{4}))\n"
     ]
    }
   ],
   "source": [
    "monthpart = r\"\"\"(?P<month>jan(?:uary)?|feb(?:ruary)?|mar(?:ch)?|apr(?:il)?|may|jun(?:e)?|jul(?:y)?|aug(?:ust)?|sep(?:tember)?|oct(?:ober)?|nov(?:ember)?|dec(?:ember)?)\"\"\"\n",
    "daypart = r\"(?P<day>\\d{1,2})\\w{0,2}\"\n",
    "yearpart = r\"(?P<year>\\d{4})\"\n",
    "\n",
    "america = r\"(?P<date>{} {},? {})\".format(monthpart, daypart, yearpart)\n",
    "europe = r\"(?P<date>{} {} {})\".format(daypart, monthpart, yearpart)\n",
    "\n",
    "print(america)\n",
    "print(europe)\n",
    "\n",
    "amdate = re.compile(america, re.I)\n",
    "eurodate = re.compile(europe, re.I)"
   ]
  },
  {
   "cell_type": "code",
   "execution_count": 113,
   "metadata": {
    "collapsed": true
   },
   "outputs": [],
   "source": [
    "epafulltextsURL = \"https://storage.googleapis.com/atriskwiki/epa_fulltext.txt\"\n",
    "epafulltexts = requests.get(epafulltextsURL).text.split(\"\\n\")\n",
    "nepafulltextsURL = \"https://storage.googleapis.com/atriskwiki/nepa_fulltext.txt\"\n",
    "nepafulltexts = requests.get(nepafulltextsURL).text.split(\"\\n\")"
   ]
  },
  {
   "cell_type": "code",
   "execution_count": 114,
   "metadata": {
    "collapsed": false
   },
   "outputs": [
    {
     "name": "stdout",
     "output_type": "stream",
     "text": [
      "The Palestine Liberation Organization (PLO) (Arabic: منظمة التحرير الفلسطينية‎‎;  Munaẓẓamat at-Taḥrīr al-Filasṭīniyyah ) is an organization founded in 1964 with the purpose of the \"liberation of Palestine\" through armed struggle. It is recognized as the \"sole legitimate representative of the Palestinian people\" by over 100 states with which it holds diplomatic relations, and has enjoyed observer status at the United Nations since 1974. The PLO was considered by the United States and Israel to be a terrorist organization until the Madrid Conference in 1991. In 1993, the PLO recognized Israel's right to exist in peace, accepted UN Security Council resolutions 242 and 338, and rejected \"violence and terrorism\"; in response, Israel officially recognized the PLO as the representative of the Palestinian people.\n",
      "\n",
      "\n",
      "== FoundingEdit ==\n",
      "At its first summit meeting in Cairo in 1964, the Arab League initiated the creation of an organization representing the Palestinian people. The Palestinian National Council convened in Jerusalem on 28 May 1964. Concluding this meeting the PLO was founded on 2 June 1964. Its stated goal was the \"liberation of Palestine\" through armed struggle.\n",
      "\n",
      "\n",
      "== IdeologyEdit ==\n",
      "The ideology of the PLO was formulated in the founding year 1964 in the Palestinian National Covenant. The document is a combative anti-Zionist statement dedicated to the \"restoration of the Palestinian homeland\". It has no reference to religion. In 1968, the Charter was replaced by a comprehensively revised version.\n",
      "Until 1993, the only promoted option was armed struggle. From the signing of the Oslo Accords, negotiation and diplomacy became the only official policy. In April 1996, a large number of articles, which were inconsistent with the Oslo Accords, were wholly or partially nullified.\n",
      "The basic idea in the PLO's ideology is that Zionists had unjustly expelled the Palestinians from Palestine and established a Jewish state in place under the pretext of having historic and Jewish ties with Palestine. They demanded that Palestinian refugees should be allowed to return to their homes. This is expressed in the National Covenant:\n",
      "Article 2 of the Charter states that ″Palestine, with the boundaries it had during the British mandate, is an indivisible territorial unit″, meaning that there is no place for a Jewish state. This article was adapted in 1996 to meet the Oslo Accords.\n",
      "Article 20 states: ″The Balfour Declaration, the Mandate for Palestine, and everything that has been based upon them, are deemed null and void. Claims of historical or religious ties of Jews with Palestine are incompatible with the facts of history and the true conception of what constitutes statehood. Judaism, being a religion, is not an independent nationality. Nor do Jews constitute a single nation with an identity of its own; they are citizens of the states to which they belong″. This article was nullified in 1996.\n",
      "Article 3 reads: ″The Palestinian Arab people possess the legal right to their homeland and have the right to determine their destiny after achieving the liberation of their country in accordance with their wishes and entirely of their own accord and will″.\n",
      "The PLO has always, above all, the Palestinian people labelled as Arabs. This was a natural consequence of the fact that the PLO was an offshoot of the Arab League. It also has a tactical element, as to keep the backing of Arab states. Over the years, the Arab identity remained the stated nature of the Palestinian State. It is a reference to the ″Arab State″ envisioned in the UN Partition Plan.\n",
      "\n",
      "\n",
      "=== Secular versus IslamicEdit ===\n",
      "The PLO and its dominating faction Fatah are often contrasted to more religious orientated factions like Hamas and the Palestinian Islamic Jihad (PIJ). All, however, represent a predominant Muslim population. Practically the whole population of the Territories is Muslim, most of them Sunni. Only some 50,000 (ca 1%) of the 4.6 million Palestinians in the OPT is Palestinian Christian, whereas roughly 120,000-130,000 live in Israel and the vast majority in the Diaspora (estimated up to one half-million or more.\n",
      "The National Charter has no reference to religion. Under President Arafat, the Fatah-dominated Palestinian Authority adopted the 2003 Amended Basic Law, which stipulates Islam as the sole official religion in Palestine and the principles of Islamic sharia as a principal source of legislation. The draft Constitution, which never materialized, contains the same provisions. At the time, the PLC did not include a single Hamas member. The draft Constitution was formulated by the ″Constitutional Committee″, appointed with the approval of the PLO.\n",
      "\n",
      "\n",
      "== OrganizationEdit ==\n",
      "\n",
      "\n",
      "=== StructureEdit ===\n",
      "\n",
      "The PLO incorporates a range of generally secular ideologies of different Palestinian movements \"committed to the struggle for Palestinian independence and liberation,\" hence the name of the organization. It formally is an umbrella organization that includes \"numerous organizations of the resistance movement, political parties, and popular organizations.\" From the beginning, the PLO was designed as a government in exile, with a parliament (PNC), chosen by the Palestinian people, as the highest authority in the PLO, and an executing government (EC), elected by the PNC. In practice, however, the organization was rather a hierarchic one with a military-like character, needed for its function as liberation organization, the \"liberation of Palestine\".\n",
      "Beside a Palestinian National Charter, which describes the ideology of the PLO, a constitution, named “Fundamental Law”, was adopted, which dictates the inner structure of the organization and the representation of the Palestinian people. A draft Constitution was written in 1963, to rule the PLO until free general elections among all the Palestinians in all the countries in which they resided could be held. The Constitution was revised in 1968.\n",
      "\n",
      "\n",
      "=== InstitutionsEdit ===\n",
      "The Palestinian National Council has 740 members and the Executive Committee or ExCo has 18 members. The Palestinian Central Council or CC or PCC, established by the PNC in 1973, is the second leading body of the PLO. The CC consists of 124 members from the PLO Executive Committee, PNC, PLC and other Palestinian organizations. The EC includes 15 representatives of the PLC. The CC functions as an intermediary body between the PNC and the EC. The CC makes policy decisions when PNC is not in session, acting as a link between the PNC and the PLO-EC. The CC is elected by the PNC and chaired by the PNC speaker.\n",
      "The PNC serves as the parliament for all Palestinians inside and outside of the Occupied Palestinian Territory, including Jerusalem. The PLO is governed internally by its “Fundamental Law”, which describes the powers and the relations between the organs of the PLO.\n",
      "Ahmad Shukeiri was the first Chairman of the PLO Executive Committee from 1964 to 1967. In 1967, he was replaced by Yahia Hammuda.Yasser Arafat occupied the function from 1969 until his death in 2004. He was succeeded by Mahmoud Abbas (also known as Abu Mazen).\n",
      "According to an internal PLO document, the current PNC remains in function if elections are not possible. In absence of elections, most of the members of the PNC are appointed by the Executive Committee. The document further states that \"the PNC represents all sectors of the Palestinian community worldwide, including numerous organizations of the resistance movement, political parties, popular organizations and independent personalities and figures from all sectors of life, including intellectuals, religious leaders and businessmen\".\n",
      "\n",
      "\n",
      "=== Challenged representationEdit ===\n",
      "As of 2015, there have not been elections for many years, neither for the PNC, nor for the EC, the PCC and the President of the State of Palestine. The Executive Committee has formally 18 members, including its Chairman, but in past years many vacant seats in the Executive remained empty. Moreover, Hamas, the largest representative of the inhabitants of the Palestinian Territories alongside Fatah, is not represented in the PLO at all. The results of the last parliamentary elections for the PLC, held in the Territories in 2006, with Hamas as the big winner while not even a member of the PLO, \"underlined the clear lack of a popular mandate by the PLO leadership\", according to PASSIA. Individual elected members of the PLC representing Hamas, however, are automatically members of the PNC.\n",
      "The representative status of the PLO is often challenged in the past. It was for example doubted in 2011 by a group of Palestinian lawyers, jurists and legal scholars, due to lack of elections. They questioned the PLO's legitimacy to alter the status and role of the Organisation in respect of their status within the UN. They demanded for immediate and direct elections to the Palestine National Council to ″activate representative PLO institutions in order to preserve, consolidate, and strengthen the effective legal representation of the Palestinian people as a whole″, before changing the status within the UN.\n",
      "\n",
      "\n",
      "=== PLO versus PAEdit ===\n",
      "The 1993-1995 Oslo Accords deliberately detached the Palestinian population in the Occupied Palestinian Territories from the PLO and the Palestinians in exile by creating a Palestinian Authority (PA) for the Territories. A separate parliament and government were established. Mahmoud Abbas was one of the architects of the Oslo Accords.\n",
      "Although many in the PLO opposed the Oslo Agreements, the Executive Committee and the Central Council approved the Accords. It marked the beginning of the PLO’s decline, as the PA came to replace the PLO as the prime Palestinian political institution. Political factions within the PLO that had opposed the Oslo process were marginalized. Only during the Hamas-led PA Government in 2006-2007, the PLO resurfaced. After Hamas had taken over Gaza in 2007, Abbas issued a decree suspending the PLC and some sections of the Palestinian Basic Law, and appointing Salam Fayyad as Prime Minister.\n",
      "The PLO managed to overcome the separation by keeping the power in PLO and PA in one hand, upheld by Yasser Arafat. In 2002, Arafat held the functions Chairman of the PLO/Executive Committee and Chairman of Fatah, the dominating faction within the PLO, as well as President of the Palestinian National Authority. He also controlled the Palestinian National Security Forces.\n",
      "\n",
      "\n",
      "=== Internal politicsEdit ===\n",
      "On 4 February 1969, Fatah founder Arafat was elected Chairman of the PLO in Cairo. Since, Fatah has been the dominant factor within the PLO, which still continues in 2015.\n",
      "Under pressure from the international community led by Israel and US, and from inside his own party Fatah, Arafat partially transferred some of his strongly centralized power in 2003, causing strong tensions within the Palestinian leadership. Arafat appointed Mahmoud Abbas as prime minister, but this resulted in disputes about the transfer of tasks and responsibilities. Abbas was strongly supported by the US and the international community, because he was supposed to be more willing to give far-reaching concessions to Israel. While Arafat had retained most of his power and a power struggle within Fatah continued, the leadership was criticised for corruption and nepotism.\n",
      "After Arafat's death, Abbas increasingly gained exclusive powers within both PLO and PA as well as in Fatah, until he had acquired the same power as previously Arafat. Critics say that Abbas even got more powers than Arafat. Abbas is criticized for his autocratic rule and refusal to share powers and plans with other Palestinians. In the absence of a functioning parliament and Executive, he even began to issue his own laws. Senior representative of Abbas' Fatah faction and former Fatah minister of prisoner affairs Sufian Abu Zaida complained that Abbas appointed himself as the chief judge and prosecutor, making a mockery of the Palestinian judicial system. There appeared reports of widespread corruption and nepotism within the Palestinian Authority. Only Hamas-ruled Gaza has a more or less functioning parliament.\n",
      "\n",
      "\n",
      "==== 2015 struggle for powerEdit ====\n",
      "\n",
      "With a de facto defunct parlement and Executive, Mahmoud Abbas increasingly gained exclusive powers within both PLO and PA as well as in Fatah. After the announcement in August 2015 of Abbas' resignation as Chairman of the Executive Committee and of nine other members as well, many Palestinians of the political scene saw the move as just an attempt to replace some members in the Executive Committee, or to force a meeting of the PNC and remain in their jobs until the PNC decides whether to accept or to reject their resignations. Met with fierce criticism by many Palestinian factions, a session of the PNC, who had to approve the resignations, was postponed indefinitely.\n",
      "\n",
      "\n",
      "== Political statusEdit ==\n",
      "The Palestine Liberation Organization is recognized by the Arab League as \"the sole and legitimate representative of the Palestinian people\", and by the United Nations as \"the representative of the Palestinian people\".\n",
      "The PLO was designated a terrorist organization by the United States in 1987, but in 1988 a presidential waiver was issued which permitted contact with the organization. Most of the rest of the world recognized the PLO as the legitimate representatives of the Palestinian people from the mid-1970s onwards (after the PLO's admission to the UN as an observer.)\n",
      "Israel considered the PLO to be a terrorist organization until the Madrid Conference in 1991. In 1993, PLO chairman Yasser Arafat recognized the State of Israel in an official letter to its prime minister, Yitzhak Rabin. In response to Arafat's letter, Israel decided to revise its stance toward the PLO and to recognize the organization as the representative of the Palestinian people. This led to the signing of the Oslo Accords in 1993.\n",
      "\n",
      "\n",
      "=== Status at the United NationsEdit ===\n",
      "\n",
      "\n",
      "==== Observer statusEdit ====\n",
      "The United Nations General Assembly recognized the PLO as the \"representative of the Palestinian people\" in Resolution 3210 and Resolution 3236, and granted the PLO observer status on 22 November 1974 in Resolution 3237. On 12 January 1976 the UN Security Council voted 11–1 with 3 abstentions to allow the Palestinian Liberation Organization to participate in a Security Council debate without voting rights, a privilege usually restricted to UN member states. It was admitted as a full member of the Asia group on 2 April 1986.\n",
      "After the Palestinian Declaration of Independence the PLO's representation was renamed Palestine. On 7 July 1998, this status was extended to allow participation in General Assembly debates, though not in voting.\n",
      "\n",
      "\n",
      "==== 2011 application for UN state membershipEdit ====\n",
      "When President Mahmoud Abbas submitted an application for UN state membership, in September 2011, Palestinian lawyers, jurists and legal scholars expressed their concern that the change of Palestine's status in the UN (since 1988 designated as \"Palestine\" in place of \"Palestine Liberation Organization\") could have negative implications on the legal position of the Palestinian people. They warned for the risk of fragmentation, where the State of Palestine would represent the people within the UN and the PLO represent the people outside the UN, the latter including the Palestinians in exile, where refugees constitute more than half of the Palestinian people. They were also afraid of the loss of representation of the refugees in the UN. In Resolution 67/19 of November 2012, Palestine was at last awarded non-member observer State status, but the General Assembly maintained the status of the PLO.\n",
      "\n",
      "\n",
      "==== ′Non-member observer state′ statusEdit ====\n",
      "By September 2012, with their application for full membership stalled due to the inability of Security Council members to 'make a unanimous recommendation', the PLO had decided to pursue an upgrade in status from \"observer entity\" to \"non-member observer state\". On 29 November 2012, Resolution 67/19 passed, upgrading Palestine to \"non-member observer State\" status in the United Nations. The new status equates Palestine's with that of the Holy See.\n",
      "\n",
      "\n",
      "=== Diplomatic representationEdit ===\n",
      "\n",
      "The Palestine Information Office was registered with the Justice Department of the United States as a foreign agent until 1968, when it was closed. It was reopened in 1989 as the Palestine Affairs Center. The PLO Mission office, in Washington D.C was opened in 1994, and represented the PLO in the United States. On 20 July 2010, the United States Department of State agreed to upgrade the status of the PLO Mission in the United States to \"General Delegation of the PLO\".\n",
      "\n",
      "\n",
      "== Peace processEdit ==\n",
      "\n",
      "Initially, as a guerrilla organization, the PLO performed actions against Israel in the 1970s and early 1980s, regarded as terroristic activities by Israel and regarded as a war of liberation by the PLO. In 1988, however, the PLO officially endorsed a two-state solution, contingent on terms such as making East Jerusalem capital of the Palestinian state and giving Palestinians the right of return to land occupied by Palestinians prior to 1948, as well as the right to continue armed struggle until the end of \"The Zionist Entity.\" In 1996, the PLO nullified the articles of the PLO's Charter, or parts of it, which called for the destruction of Israel and for armed resistance.\n",
      "\n",
      "\n",
      "=== Ten Point ProgramEdit ===\n",
      "Following the failure of the armies of Egypt and Syria to defeat Israel in the October 1973 Yom Kippur War, which broke the status quo existing since the June 1967 Six Day War, the PLO began formulating a strategic alternative. Now, they intended to establish a ″national authority″ over every territory they would be able to reconquer. From 1 to 9 June 1974, the Palestine National Council held its 12th meeting in Cairo. On 8 June, the Ten Point Program was adopted. The Program stated:\n",
      "\n",
      "″The Liberation Organization will employ all means, and first and foremost armed struggle, to liberate Palestinian territory and to establish the independent combatant national authority for the people over every part of Palestinian territory that is liberated. This will require further changes being effected in the balance of power in favour of our people and their struggle.″ (article 2)\n",
      "\n",
      "With ″every part of Palestinian territory that is liberated″ was implicitly meant the West Bank and Gaza Strip, albeit presented as an interim goal. The final goal remained ″completing the liberation of all Palestinian territory″ and ″recover all their national rights and, first and foremost, their rights to return and to self-determination on the whole of the soil of their homeland″. Also UN Resolution 242 was still rejected.\n",
      "While clinging to armed struggle as the prime means, the PLO did no longer exclude peaceful means.Therefore, the Ten Point Program was considered the first attempt by the PLO at peaceful resolution. In October 1974, the Arab League proclaimed the PLO ″the sole legitimate representative of the Palestinian people in any Palestinian territory that is liberated″, and also the UN recognized the PLO. From then, the diplomatic road was prepared. On the other hand, the Program was rejected by more radical factions and eventually caused a split in the movement.\n",
      "\n",
      "\n",
      "=== First IntifadaEdit ===\n",
      "\n",
      "In 1987, the First Intifada broke out in the West Bank and Gaza Strip. The Intifada caught the PLO by surprise, and the leadership abroad could only indirectly influence the events. A new local leadership emerged, the Unified National Leadership of the Uprising (UNLU), comprising many leading Palestinian factions. After King Hussein of Jordan proclaimed the administrative and legal separation of the West Bank from Jordan in 1988, the Palestine National Council adopted the Palestinian Declaration of Independence in Algiers, proclaiming an independent State of Palestine. The declaration made reference to UN resolutions without explicitly mentioning Security Council Resolutions 242 and 338.\n",
      "A month later, Arafat declared in Geneva that the PLO would support a solution of the conflict based on these Resolutions. Effectively, the PLO recognized Israel's right to exist within pre-1967 borders, with the understanding that the Palestinians would be allowed to set up their own state in the West Bank and Gaza. The United States accepted this clarification by Arafat and began to allow diplomatic contacts with PLO officials. The Proclamation of Independence did not lead to statehood, although over 100 states recognised the State of Palestine.\n",
      "\n",
      "\n",
      "=== Oslo AccordsEdit ===\n",
      "In 1993, the PLO secretly negotiated the Oslo Accords with Israel. The accords were signed on 20 August 1993. There was a subsequent public ceremony in Washington D.C. on 13 September 1993 with Yasser Arafat and Yitzhak Rabin. The Accords granted the Palestinians right to self-government on the Gaza Strip and the city of Jericho in the West Bank through the creation of the Palestinian Authority. Yasser Arafat was appointed head of the Palestinian Authority and a timetable for elections was laid out. The headquarters of the PLO were moved to Ramallah on the West Bank.\n",
      "\n",
      "\n",
      "== Armed actionsEdit ==\n",
      "\n",
      "\n",
      "=== Early actionsEdit ===\n",
      "The PLO began their militancy campaign from its inception with an attack on Israel's National Water Carrier in January 1965. The group used guerrilla tactics to attack Israel from their bases in Jordan (including the West Bank), Lebanon, Egypt (Gaza Strip), and Syria.\n",
      "The most notable of what were considered terrorist acts committed by member organizations of the PLO were:\n",
      "The 1970 Avivim school bus massacre by the Democratic Front for the Liberation of Palestine (DFLP), killed nine children, three adults and crippled 19.\n",
      "In the late 1960s and early 1970s, the Popular Front for the Liberation of Palestine, the second-largest PLO faction after al-Fatah, carried out a number of attacks and plane hijackings mostly directed at Israel, most infamously the Dawson's Field hijackings, which precipitated the Black September in Jordan crisis.\n",
      "In 1972, the Black September Organization carried out the Munich massacre of Israeli Olympic athletes.\n",
      "In 1974, members of the DFLP seized a school in Israel and killed a total of 26 students and adults and wounded over 70 in the Ma'alot massacre.\n",
      "The 1975, Savoy Hotel hostage situation killing 8 hostages and 3 soldiers, carried out by Fatah.\n",
      "The 1978, Coastal Road massacre killing 37 Israelis and wounding 76, also carried out by Fatah.\n",
      "\n",
      "\n",
      "=== War of attritionEdit ===\n",
      "From 1967 to September 1970 the PLO, with passive support from Jordan, fought a war of attrition with Israel. During this time, the PLO launched artillery attacks on the moshavim and kibbutzim of Bet Shean Valley Regional Council, while fedayeen launched numerous attacks on Israeli forces. Israel raided the PLO camps in Jordan, including Karameh, withdrawing only under Jordanian military pressure.\n",
      "This conflict culminated in Jordan's expulsion of the PLO to Lebanon in July 1971.\n",
      "\n",
      "\n",
      "=== Black September in JordanEdit ===\n",
      "\n",
      "The PLO suffered a major reversal with the Jordanian assault on its armed groups in the events known as Black September in 1970. The Palestinian groups were expelled from Jordan, and during the 1970s, the PLO was effectively an umbrella group of eight organizations headquartered in Damascus and Beirut, all devoted to armed struggle against Zionism or Israeli occupation, using methods which included direct clashing and guerrilla warfare against Israel. After Black September, the Cairo Agreement led the PLO to establish itself in Lebanon.\n",
      "\n",
      "\n",
      "=== Lebanon and the Lebanese Civil WarEdit ===\n",
      "\n",
      "In the late 1960s, and especially after the expulsion of the Palestinian militants from Jordan in Black September events in 1970–1971, Lebanon had become the base for PLO operations. Palestinian militant organizations relocated their headquarters to South Lebanon, and relying on the support in Palestinian refugee camps, waged a campaign of attacks on the Galilee and on Israeli and Jewish targets worldwide. Increasing penetration of Palestinians into Lebanese politics and Israeli retaliations gradually deteriorated the situation.\n",
      "By the mid-1970s, Arafat and his Fatah movement found themselves in a tenuous position. Arafat increasingly called for diplomacy, perhaps best symbolized by his Ten Points Program and his support for a UN Security Council resolution proposed in 1976 calling for a two-state settlement on the pre-1967 borders. But the Rejectionist Front denounced the calls for diplomacy, and a diplomatic solution was vetoed by the United States. In 1975, the increasing tensions between Palestinian militants and Christian militias exploded into the Lebanese Civil War, involving all factions. On 20 January 1976, the PLO took part in the Damour massacre in retaliation to the Karantina massacre. The PLO and Lebanese National Movement attacked the Christian town of Damour, killing 684 civilians and forcing the remainder of the towns population to flee. In 1976 Syria joined the war by invading Lebanon, which began the 29‑year Syrian occupation of Lebanon, and in 1978 Israel invaded South Lebanon, in response to the Coastal Road Massacre, executed by Palestinian militants based in Lebanon.\n",
      "The population in the West Bank and Gaza Strip saw Arafat as their best hope for a resolution to the conflict. This was especially so in the aftermath of the Camp David Accords of 1978 between Israel and Egypt, which the Palestinians saw as a blow to their aspirations to self-determination. Abu Nidal, a sworn enemy of the PLO since 1974, assassinated the PLO's diplomatic envoy to the European Economic Community, which in the Venice Declaration of 1980 had called for the Palestinian right of self-determination to be recognized by Israel.\n",
      "Opposition to Arafat was fierce not only among radical Arab groups, but also among many on the Israeli right. This included Menachem Begin, who had stated on more than one occasion that even if the PLO accepted UN Security Council Resolution 242 and recognized Israel's right to exist, he would never negotiate with the organization. This contradicted the official United States position that it would negotiate with the PLO if the PLO accepted Resolution 242 and recognized Israel, which the PLO had thus far been unwilling to do. Other Arab voices had recently called for a diplomatic resolution to the hostilities in accord with the international consensus, including Egyptian leader Anwar Sadat on his visit to Washington, DC in August 1981, and Crown Prince Fahd of Saudi Arabia in his 7 August peace proposal; together with Arafat's diplomatic maneuver, these developments made Israel's argument that it had \"no partner for peace\" seem increasingly problematic. Thus, in the eyes of Israeli hard-liners, \"the Palestinians posed a greater challenge to Israel as a peacemaking organization than as a military one\".\n",
      "After the appointment of Ariel Sharon to the post of Minister of defence in 1981, the Israeli government policy of allowing political growth to occur in the occupied West Bank and Gaza strip changed. The Israeli government tried, unsuccessfully, to dictate terms of political growth by replacing local pro-PLO leaders with an Israeli civil administration.\n",
      "In 1982, after an attack on a senior Israeli diplomat by Lebanon-based Palestinian militants in Lebanon, Israel invaded Lebanon in a much larger scale in coordination with the Lebanese Christian militias, reaching Beirut and eventually resulting in ousting of the PLO headquarters in June that year. Low-level Palestinian insurgency in Lebanon continued in parallel with the consolidation of Shia militant organizations, but became a secondary concern to Israeli military and other Lebanese factions. With ousting of the PLO, the Lebanese Civil War gradually turned into a prolonged conflict, shifting from mainly PLO-Christian conflict into involvement of all Lebanese factions – whether Sunni, Shia, Druze, and Christians.\n",
      "\n",
      "\n",
      "=== TunisEdit ===\n",
      "In 1982, the PLO relocated to Tunis, Tunisia after it was driven out of Lebanon by Israel during Israel's six-month invasion of Lebanon. Following massive raids by Israeli forces in Beirut, it is estimated that 8,000 PLO fighters evacuated the city and dispersed.\n",
      "On 1 October 1985, in Operation Wooden Leg, Israeli Air Force F-15s bombed the PLO's Tunis headquarters, killing more than 60 people.\n",
      "It is suggested that the Tunis period (1982–1991) was a negative point in the PLO's history, leading up to the Oslo negotiations and formation of the Palestinian Authority (PA). The PLO in exile was distant from a concentrated number of Palestinians and became far less effective. There was a significant reduction in centres of research, political debates or journalistic endeavours that had encouraged an energised public presence of the PLO in Beirut. More and more Palestinians were abandoned, and many felt that this was the beginning of the end.\n",
      "\n",
      "\n",
      "=== Second IntifadaEdit ===\n",
      "\n",
      "The Second or Al-Aqsa Intifada started concurrent with the breakdown of talks at Camp David with Israeli Prime Minister Ehud Barak. The Intifada never ended officially, but violence hit relatively low levels during 2005. The death toll both military and civilians of the entire conflict in 2000–2004 is estimated to be 3,223 Palestinians and 950 Israelis, although this number is criticized for not differentiating between combatants and civilians. Members of the PLO have claimed responsibility for a number of attacks against Israelis during the Second Intifada.\n",
      "In February 2015 in a civil case considered by a US federal court the Palestinian Authority and Palestine Liberation Organization were found liable for the death and injuries of US citizens in a number of terrorist attacks in Israel from 2001 to 2004. The damages are to be $655.5 million.\n",
      "\n",
      "\n",
      "== MembershipEdit ==\n",
      "\n",
      "Present members include:\n",
      "Fatah – Largest faction, secular, left-wing nationalist.\n",
      "The Popular Front for the Liberation of Palestine (PFLP) – Second largest, radical left militant and communist\n",
      "The Democratic Front for the Liberation of Palestine (DFLP) – Third largest, communist\n",
      "The Palestinian People's Party (PPP) – Socialist\n",
      "The Palestine Liberation Front (PLF, Abu Abbas faction) – Minor left-wing faction\n",
      "The Arab Liberation Front (ALF) – Minor faction, aligned to the Iraqi Ba'ath Party\n",
      "As-Sa'iqa – Syrian-controlled Ba'athist faction\n",
      "The Palestinian Democratic Union (Fida) – Minor democratic socialist, 2 state solution, non militant faction\n",
      "The Palestinian Popular Struggle Front (PPSF, Samir Ghawsha faction) – minor socialist faction\n",
      "The Palestinian Arab Front (PAF) – minor pro-Fatah, former Iraqi Ba'athists faction\n",
      "Former member groups of the PLO include:\n",
      "The Popular Front for the Liberation of Palestine – General Command (PFLP-GC)\n",
      "\n",
      "\n",
      "=== Executive Committee ChairmenEdit ===\n",
      "Ahmad Shukeiri (2 June 1964 – 24 December 1967)\n",
      "Yahya Hammuda (24 December 1967 – 2 February 1969)\n",
      "Yasser Arafat \"Abu Amar\" (4 February 1969 – 11 November 2004)\n",
      "\n",
      "(in exile in Jordan to April 1971; Lebanon 1971 – December 1982; and Tunis December 1982 – May 1994)\n",
      "\n",
      "Mahmoud Abbas \"Abu Mazen\" (From 29 October 2004 – present)\n",
      "\n",
      "(acting [for Arafat] until 11 November 2004)\n",
      "\n",
      "\n",
      "== See alsoEdit ==\n",
      "PLO Negotiation Affairs Department\n",
      "Human rights in the Palestinian National Authority\n",
      "Palestinian political violence\n",
      "Proposals for a Palestinian state\n",
      "Palestinian territories\n",
      "Palestinian Liberation Army\n",
      "Fatah–Hamas conflict\n",
      "Israeli–Palestinian conflict\n",
      "Violence in the Israeli–Palestinian conflict\n",
      "Palestine–Tamil Eelam relations\n",
      "Palestinian expulsion from Kuwait\n",
      "\n",
      "\n",
      "== ReferencesEdit ==\n",
      "\n",
      "\n",
      "=== BibliographyEdit ===\n",
      "\n",
      "Yezid Sayigh, “Struggle Within, Struggle Without: the Transformation of PLO politics since 1982,” International Affairs vol. 65, no. 2 (spring 1989) pages 247–271.\n",
      "\n",
      "\n",
      "== External linksEdit ==\n",
      "\n",
      "\n",
      "=== Official sitesEdit ===\n",
      "PLO Negotiations Affairs Department\n",
      "Permanent Observer Mission of Palestine to the United Nations\n",
      "\n",
      "\n",
      "=== DocumentsEdit ===\n",
      "Statement of Proclamation of the Organization (1964)\n",
      "Palestinian National Charter (1968) published by The Avalon Project at Yale Law School\n",
      "Palestinian National Charter (1968) on Wikisource\n",
      "Palestinian National Charter (1964) published by the Permanent Observer Mission of Palestine to the United Nations\n",
      "PLO Political Program Adopted at the 12th Session of the Palestine National Council Cairo, 8 June 1974 published by the Permanent Observer Mission of Palestine to the United Nations]\n",
      "Decisions and Actions related to the Palestine National Charter (1996) at the Wayback Machine (archived January 18, 2008) published by the Permanent Observer Mission of Palestine to the United Nations]\n",
      "Constitution of the Palestine Liberation Organization (PLO) (1968)\n",
      "\n",
      "\n",
      "=== AnalysisEdit ===\n",
      "Commentary on the Palestine National Charter published by the Jewish Virtual Library\n",
      "Dean Peter F. Krogh Discusses the Israeli-Palestinian Conflict from the Dean Peter Krogh Foreign Affairs Digital Archives\n",
      "\n",
      "\n",
      "=== GeneralEdit ===\n",
      "PLO in Oxford Islamic Studies Online\n",
      "Palestinian Factions CRS Report for Congress, Aaron D. Pina, 8 June 2005\n",
      "Brief history of the Palestine Liberation Organization by GlobalSecurity.org\n",
      "Collection of Documents, Biographies and other information on the Palestine Liberation Organization published by the Jewish Virtual Library\n",
      "The Palestinian Vision of Peace (2002) as stated by the PLO Negotiations Affairs Department\n",
      "Documents regarding the Soviet Ministry of Defense 1983 special operation requested by Yasir Arafat: delivery of two German-built coast guard cutters belonging to the PLO from Syria to Tunis – (PDF in Russian) from the Soviet Archives [1] collected by Vladimir Bukovsky\n",
      "Photo enlargement shows Palestinians marching in West Berlin, 15 November 69.\n",
      "Collection of over 150 PLO posters\n",
      "Palestine - P.L.O. Information bulletin Archive. Some archived issues: 1978, 1979, 1982\n"
     ]
    }
   ],
   "source": [
    "extract_num = 666\n",
    "trial = json.loads(epafulltexts[extract_num])\n",
    "text = trial[list(trial.keys())[0]]\n",
    "print(text)"
   ]
  },
  {
   "cell_type": "code",
   "execution_count": 126,
   "metadata": {
    "collapsed": false
   },
   "outputs": [],
   "source": [
    "eumatches = re.findall(eurodate, text)"
   ]
  },
  {
   "cell_type": "code",
   "execution_count": 127,
   "metadata": {
    "collapsed": false
   },
   "outputs": [
    {
     "data": {
      "text/plain": [
       "[('28 May 1964', '28', 'May', '1964'),\n",
       " ('2 June 1964', '2', 'June', '1964'),\n",
       " ('4 February 1969', '4', 'February', '1969'),\n",
       " ('22 November 1974', '22', 'November', '1974'),\n",
       " ('12 January 1976', '12', 'January', '1976'),\n",
       " ('2 April 1986', '2', 'April', '1986'),\n",
       " ('7 July 1998', '7', 'July', '1998'),\n",
       " ('29 November 2012', '29', 'November', '2012'),\n",
       " ('20 July 2010', '20', 'July', '2010'),\n",
       " ('9 June 1974', '9', 'June', '1974'),\n",
       " ('20 August 1993', '20', 'August', '1993'),\n",
       " ('13 September 1993', '13', 'September', '1993'),\n",
       " ('20 January 1976', '20', 'January', '1976'),\n",
       " ('1 October 1985', '1', 'October', '1985'),\n",
       " ('2 June 1964', '2', 'June', '1964'),\n",
       " ('24 December 1967', '24', 'December', '1967'),\n",
       " ('24 December 1967', '24', 'December', '1967'),\n",
       " ('2 February 1969', '2', 'February', '1969'),\n",
       " ('4 February 1969', '4', 'February', '1969'),\n",
       " ('11 November 2004', '11', 'November', '2004'),\n",
       " ('29 October 2004', '29', 'October', '2004'),\n",
       " ('11 November 2004', '11', 'November', '2004'),\n",
       " ('8 June 1974', '8', 'June', '1974'),\n",
       " ('8 June 2005', '8', 'June', '2005')]"
      ]
     },
     "execution_count": 127,
     "metadata": {},
     "output_type": "execute_result"
    }
   ],
   "source": [
    "eumatches"
   ]
  },
  {
   "cell_type": "code",
   "execution_count": 129,
   "metadata": {
    "collapsed": false
   },
   "outputs": [
    {
     "data": {
      "text/plain": [
       "('The Palestine Liberation Organization (PLO) (Arabic: منظمة التحرير الفلسطينية\\u200e\\u200e;  Munaẓẓamat at-Taḥrīr al-Filasṭīniyyah ) is an organization founded in 1964 with the purpose of the \"liberation of Palestine\" through armed struggle. It is recognized as the \"sole legitimate representative of the Palestinian people\" by over 100 states with which it holds diplomatic relations, and has enjoyed observer status at the United Nations since 1974. The PLO was considered by the United States and Israel to be a terrorist organization until the Madrid Conference in 1991. In 1993, the PLO recognized Israel\\'s right to exist in peace, accepted UN Security Council resolutions 242 and 338, and rejected \"violence and terrorism\"; in response, Israel officially recognized the PLO as the representative of the Palestinian people.\\n\\n\\n== FoundingEdit ==\\nAt its first summit meeting in Cairo in 1964, the Arab League initiated the creation of an organization representing the Palestinian people. The Palestinian National Council convened in Jerusalem on ',\n",
       " '28 May 1964',\n",
       " '. Concluding this meeting the PLO was founded on 2 June 1964. Its stated goal was the \"liberation of Palestine\" through armed struggle.\\n\\n\\n== IdeologyEdit ==\\nThe ideology of the PLO was formulated in the founding year 1964 in the Palestinian National Covenant. The document is a combative anti-Zionist statement dedicated to the \"restoration of the Palestinian homeland\". It has no reference to religion. In 1968, the Charter was replaced by a comprehensively revised version.\\nUntil 1993, the only promoted option was armed struggle. From the signing of the Oslo Accords, negotiation and diplomacy became the only official policy. In April 1996, a large number of articles, which were inconsistent with the Oslo Accords, were wholly or partially nullified.\\nThe basic idea in the PLO\\'s ideology is that Zionists had unjustly expelled the Palestinians from Palestine and established a Jewish state in place under the pretext of having historic and Jewish ties with Palestine. They demanded that Palestinian refugees should be allowed to return to their homes. This is expressed in the National Covenant:\\nArticle 2 of the Charter states that ″Palestine, with the boundaries it had during the British mandate, is an indivisible territorial unit″, meaning that there is no place for a Jewish state. This article was adapted in 1996 to meet the Oslo Accords.\\nArticle 20 states: ″The Balfour Declaration, the Mandate for Palestine, and everything that has been based upon them, are deemed null and void. Claims of historical or religious ties of Jews with Palestine are incompatible with the facts of history and the true conception of what constitutes statehood. Judaism, being a religion, is not an independent nationality. Nor do Jews constitute a single nation with an identity of its own; they are citizens of the states to which they belong″. This article was nullified in 1996.\\nArticle 3 reads: ″The Palestinian Arab people possess the legal right to their homeland and have the right to determine their destiny after achieving the liberation of their country in accordance with their wishes and entirely of their own accord and will″.\\nThe PLO has always, above all, the Palestinian people labelled as Arabs. This was a natural consequence of the fact that the PLO was an offshoot of the Arab League. It also has a tactical element, as to keep the backing of Arab states. Over the years, the Arab identity remained the stated nature of the Palestinian State. It is a reference to the ″Arab State″ envisioned in the UN Partition Plan.\\n\\n\\n=== Secular versus IslamicEdit ===\\nThe PLO and its dominating faction Fatah are often contrasted to more religious orientated factions like Hamas and the Palestinian Islamic Jihad (PIJ). All, however, represent a predominant Muslim population. Practically the whole population of the Territories is Muslim, most of them Sunni. Only some 50,000 (ca 1%) of the 4.6 million Palestinians in the OPT is Palestinian Christian, whereas roughly 120,000-130,000 live in Israel and the vast majority in the Diaspora (estimated up to one half-million or more.\\nThe National Charter has no reference to religion. Under President Arafat, the Fatah-dominated Palestinian Authority adopted the 2003 Amended Basic Law, which stipulates Islam as the sole official religion in Palestine and the principles of Islamic sharia as a principal source of legislation. The draft Constitution, which never materialized, contains the same provisions. At the time, the PLC did not include a single Hamas member. The draft Constitution was formulated by the ″Constitutional Committee″, appointed with the approval of the PLO.\\n\\n\\n== OrganizationEdit ==\\n\\n\\n=== StructureEdit ===\\n\\nThe PLO incorporates a range of generally secular ideologies of different Palestinian movements \"committed to the struggle for Palestinian independence and liberation,\" hence the name of the organization. It formally is an umbrella organization that includes \"numerous organizations of the resistance movement, political parties, and popular organizations.\" From the beginning, the PLO was designed as a government in exile, with a parliament (PNC), chosen by the Palestinian people, as the highest authority in the PLO, and an executing government (EC), elected by the PNC. In practice, however, the organization was rather a hierarchic one with a military-like character, needed for its function as liberation organization, the \"liberation of Palestine\".\\nBeside a Palestinian National Charter, which describes the ideology of the PLO, a constitution, named “Fundamental Law”, was adopted, which dictates the inner structure of the organization and the representation of the Palestinian people. A draft Constitution was written in 1963, to rule the PLO until free general elections among all the Palestinians in all the countries in which they resided could be held. The Constitution was revised in 1968.\\n\\n\\n=== InstitutionsEdit ===\\nThe Palestinian National Council has 740 members and the Executive Committee or ExCo has 18 members. The Palestinian Central Council or CC or PCC, established by the PNC in 1973, is the second leading body of the PLO. The CC consists of 124 members from the PLO Executive Committee, PNC, PLC and other Palestinian organizations. The EC includes 15 representatives of the PLC. The CC functions as an intermediary body between the PNC and the EC. The CC makes policy decisions when PNC is not in session, acting as a link between the PNC and the PLO-EC. The CC is elected by the PNC and chaired by the PNC speaker.\\nThe PNC serves as the parliament for all Palestinians inside and outside of the Occupied Palestinian Territory, including Jerusalem. The PLO is governed internally by its “Fundamental Law”, which describes the powers and the relations between the organs of the PLO.\\nAhmad Shukeiri was the first Chairman of the PLO Executive Committee from 1964 to 1967. In 1967, he was replaced by Yahia Hammuda.Yasser Arafat occupied the function from 1969 until his death in 2004. He was succeeded by Mahmoud Abbas (also known as Abu Mazen).\\nAccording to an internal PLO document, the current PNC remains in function if elections are not possible. In absence of elections, most of the members of the PNC are appointed by the Executive Committee. The document further states that \"the PNC represents all sectors of the Palestinian community worldwide, including numerous organizations of the resistance movement, political parties, popular organizations and independent personalities and figures from all sectors of life, including intellectuals, religious leaders and businessmen\".\\n\\n\\n=== Challenged representationEdit ===\\nAs of 2015, there have not been elections for many years, neither for the PNC, nor for the EC, the PCC and the President of the State of Palestine. The Executive Committee has formally 18 members, including its Chairman, but in past years many vacant seats in the Executive remained empty. Moreover, Hamas, the largest representative of the inhabitants of the Palestinian Territories alongside Fatah, is not represented in the PLO at all. The results of the last parliamentary elections for the PLC, held in the Territories in 2006, with Hamas as the big winner while not even a member of the PLO, \"underlined the clear lack of a popular mandate by the PLO leadership\", according to PASSIA. Individual elected members of the PLC representing Hamas, however, are automatically members of the PNC.\\nThe representative status of the PLO is often challenged in the past. It was for example doubted in 2011 by a group of Palestinian lawyers, jurists and legal scholars, due to lack of elections. They questioned the PLO\\'s legitimacy to alter the status and role of the Organisation in respect of their status within the UN. They demanded for immediate and direct elections to the Palestine National Council to ″activate representative PLO institutions in order to preserve, consolidate, and strengthen the effective legal representation of the Palestinian people as a whole″, before changing the status within the UN.\\n\\n\\n=== PLO versus PAEdit ===\\nThe 1993-1995 Oslo Accords deliberately detached the Palestinian population in the Occupied Palestinian Territories from the PLO and the Palestinians in exile by creating a Palestinian Authority (PA) for the Territories. A separate parliament and government were established. Mahmoud Abbas was one of the architects of the Oslo Accords.\\nAlthough many in the PLO opposed the Oslo Agreements, the Executive Committee and the Central Council approved the Accords. It marked the beginning of the PLO’s decline, as the PA came to replace the PLO as the prime Palestinian political institution. Political factions within the PLO that had opposed the Oslo process were marginalized. Only during the Hamas-led PA Government in 2006-2007, the PLO resurfaced. After Hamas had taken over Gaza in 2007, Abbas issued a decree suspending the PLC and some sections of the Palestinian Basic Law, and appointing Salam Fayyad as Prime Minister.\\nThe PLO managed to overcome the separation by keeping the power in PLO and PA in one hand, upheld by Yasser Arafat. In 2002, Arafat held the functions Chairman of the PLO/Executive Committee and Chairman of Fatah, the dominating faction within the PLO, as well as President of the Palestinian National Authority. He also controlled the Palestinian National Security Forces.\\n\\n\\n=== Internal politicsEdit ===\\nOn 4 February 1969, Fatah founder Arafat was elected Chairman of the PLO in Cairo. Since, Fatah has been the dominant factor within the PLO, which still continues in 2015.\\nUnder pressure from the international community led by Israel and US, and from inside his own party Fatah, Arafat partially transferred some of his strongly centralized power in 2003, causing strong tensions within the Palestinian leadership. Arafat appointed Mahmoud Abbas as prime minister, but this resulted in disputes about the transfer of tasks and responsibilities. Abbas was strongly supported by the US and the international community, because he was supposed to be more willing to give far-reaching concessions to Israel. While Arafat had retained most of his power and a power struggle within Fatah continued, the leadership was criticised for corruption and nepotism.\\nAfter Arafat\\'s death, Abbas increasingly gained exclusive powers within both PLO and PA as well as in Fatah, until he had acquired the same power as previously Arafat. Critics say that Abbas even got more powers than Arafat. Abbas is criticized for his autocratic rule and refusal to share powers and plans with other Palestinians. In the absence of a functioning parliament and Executive, he even began to issue his own laws. Senior representative of Abbas\\' Fatah faction and former Fatah minister of prisoner affairs Sufian Abu Zaida complained that Abbas appointed himself as the chief judge and prosecutor, making a mockery of the Palestinian judicial system. There appeared reports of widespread corruption and nepotism within the Palestinian Authority. Only Hamas-ruled Gaza has a more or less functioning parliament.\\n\\n\\n==== 2015 struggle for powerEdit ====\\n\\nWith a de facto defunct parlement and Executive, Mahmoud Abbas increasingly gained exclusive powers within both PLO and PA as well as in Fatah. After the announcement in August 2015 of Abbas\\' resignation as Chairman of the Executive Committee and of nine other members as well, many Palestinians of the political scene saw the move as just an attempt to replace some members in the Executive Committee, or to force a meeting of the PNC and remain in their jobs until the PNC decides whether to accept or to reject their resignations. Met with fierce criticism by many Palestinian factions, a session of the PNC, who had to approve the resignations, was postponed indefinitely.\\n\\n\\n== Political statusEdit ==\\nThe Palestine Liberation Organization is recognized by the Arab League as \"the sole and legitimate representative of the Palestinian people\", and by the United Nations as \"the representative of the Palestinian people\".\\nThe PLO was designated a terrorist organization by the United States in 1987, but in 1988 a presidential waiver was issued which permitted contact with the organization. Most of the rest of the world recognized the PLO as the legitimate representatives of the Palestinian people from the mid-1970s onwards (after the PLO\\'s admission to the UN as an observer.)\\nIsrael considered the PLO to be a terrorist organization until the Madrid Conference in 1991. In 1993, PLO chairman Yasser Arafat recognized the State of Israel in an official letter to its prime minister, Yitzhak Rabin. In response to Arafat\\'s letter, Israel decided to revise its stance toward the PLO and to recognize the organization as the representative of the Palestinian people. This led to the signing of the Oslo Accords in 1993.\\n\\n\\n=== Status at the United NationsEdit ===\\n\\n\\n==== Observer statusEdit ====\\nThe United Nations General Assembly recognized the PLO as the \"representative of the Palestinian people\" in Resolution 3210 and Resolution 3236, and granted the PLO observer status on 22 November 1974 in Resolution 3237. On 12 January 1976 the UN Security Council voted 11–1 with 3 abstentions to allow the Palestinian Liberation Organization to participate in a Security Council debate without voting rights, a privilege usually restricted to UN member states. It was admitted as a full member of the Asia group on 2 April 1986.\\nAfter the Palestinian Declaration of Independence the PLO\\'s representation was renamed Palestine. On 7 July 1998, this status was extended to allow participation in General Assembly debates, though not in voting.\\n\\n\\n==== 2011 application for UN state membershipEdit ====\\nWhen President Mahmoud Abbas submitted an application for UN state membership, in September 2011, Palestinian lawyers, jurists and legal scholars expressed their concern that the change of Palestine\\'s status in the UN (since 1988 designated as \"Palestine\" in place of \"Palestine Liberation Organization\") could have negative implications on the legal position of the Palestinian people. They warned for the risk of fragmentation, where the State of Palestine would represent the people within the UN and the PLO represent the people outside the UN, the latter including the Palestinians in exile, where refugees constitute more than half of the Palestinian people. They were also afraid of the loss of representation of the refugees in the UN. In Resolution 67/19 of November 2012, Palestine was at last awarded non-member observer State status, but the General Assembly maintained the status of the PLO.\\n\\n\\n==== ′Non-member observer state′ statusEdit ====\\nBy September 2012, with their application for full membership stalled due to the inability of Security Council members to \\'make a unanimous recommendation\\', the PLO had decided to pursue an upgrade in status from \"observer entity\" to \"non-member observer state\". On 29 November 2012, Resolution 67/19 passed, upgrading Palestine to \"non-member observer State\" status in the United Nations. The new status equates Palestine\\'s with that of the Holy See.\\n\\n\\n=== Diplomatic representationEdit ===\\n\\nThe Palestine Information Office was registered with the Justice Department of the United States as a foreign agent until 1968, when it was closed. It was reopened in 1989 as the Palestine Affairs Center. The PLO Mission office, in Washington D.C was opened in 1994, and represented the PLO in the United States. On 20 July 2010, the United States Department of State agreed to upgrade the status of the PLO Mission in the United States to \"General Delegation of the PLO\".\\n\\n\\n== Peace processEdit ==\\n\\nInitially, as a guerrilla organization, the PLO performed actions against Israel in the 1970s and early 1980s, regarded as terroristic activities by Israel and regarded as a war of liberation by the PLO. In 1988, however, the PLO officially endorsed a two-state solution, contingent on terms such as making East Jerusalem capital of the Palestinian state and giving Palestinians the right of return to land occupied by Palestinians prior to 1948, as well as the right to continue armed struggle until the end of \"The Zionist Entity.\" In 1996, the PLO nullified the articles of the PLO\\'s Charter, or parts of it, which called for the destruction of Israel and for armed resistance.\\n\\n\\n=== Ten Point ProgramEdit ===\\nFollowing the failure of the armies of Egypt and Syria to defeat Israel in the October 1973 Yom Kippur War, which broke the status quo existing since the June 1967 Six Day War, the PLO began formulating a strategic alternative. Now, they intended to establish a ″national authority″ over every territory they would be able to reconquer. From 1 to 9 June 1974, the Palestine National Council held its 12th meeting in Cairo. On 8 June, the Ten Point Program was adopted. The Program stated:\\n\\n″The Liberation Organization will employ all means, and first and foremost armed struggle, to liberate Palestinian territory and to establish the independent combatant national authority for the people over every part of Palestinian territory that is liberated. This will require further changes being effected in the balance of power in favour of our people and their struggle.″ (article 2)\\n\\nWith ″every part of Palestinian territory that is liberated″ was implicitly meant the West Bank and Gaza Strip, albeit presented as an interim goal. The final goal remained ″completing the liberation of all Palestinian territory″ and ″recover all their national rights and, first and foremost, their rights to return and to self-determination on the whole of the soil of their homeland″. Also UN Resolution 242 was still rejected.\\nWhile clinging to armed struggle as the prime means, the PLO did no longer exclude peaceful means.Therefore, the Ten Point Program was considered the first attempt by the PLO at peaceful resolution. In October 1974, the Arab League proclaimed the PLO ″the sole legitimate representative of the Palestinian people in any Palestinian territory that is liberated″, and also the UN recognized the PLO. From then, the diplomatic road was prepared. On the other hand, the Program was rejected by more radical factions and eventually caused a split in the movement.\\n\\n\\n=== First IntifadaEdit ===\\n\\nIn 1987, the First Intifada broke out in the West Bank and Gaza Strip. The Intifada caught the PLO by surprise, and the leadership abroad could only indirectly influence the events. A new local leadership emerged, the Unified National Leadership of the Uprising (UNLU), comprising many leading Palestinian factions. After King Hussein of Jordan proclaimed the administrative and legal separation of the West Bank from Jordan in 1988, the Palestine National Council adopted the Palestinian Declaration of Independence in Algiers, proclaiming an independent State of Palestine. The declaration made reference to UN resolutions without explicitly mentioning Security Council Resolutions 242 and 338.\\nA month later, Arafat declared in Geneva that the PLO would support a solution of the conflict based on these Resolutions. Effectively, the PLO recognized Israel\\'s right to exist within pre-1967 borders, with the understanding that the Palestinians would be allowed to set up their own state in the West Bank and Gaza. The United States accepted this clarification by Arafat and began to allow diplomatic contacts with PLO officials. The Proclamation of Independence did not lead to statehood, although over 100 states recognised the State of Palestine.\\n\\n\\n=== Oslo AccordsEdit ===\\nIn 1993, the PLO secretly negotiated the Oslo Accords with Israel. The accords were signed on 20 August 1993. There was a subsequent public ceremony in Washington D.C. on 13 September 1993 with Yasser Arafat and Yitzhak Rabin. The Accords granted the Palestinians right to self-government on the Gaza Strip and the city of Jericho in the West Bank through the creation of the Palestinian Authority. Yasser Arafat was appointed head of the Palestinian Authority and a timetable for elections was laid out. The headquarters of the PLO were moved to Ramallah on the West Bank.\\n\\n\\n== Armed actionsEdit ==\\n\\n\\n=== Early actionsEdit ===\\nThe PLO began their militancy campaign from its inception with an attack on Israel\\'s National Water Carrier in January 1965. The group used guerrilla tactics to attack Israel from their bases in Jordan (including the West Bank), Lebanon, Egypt (Gaza Strip), and Syria.\\nThe most notable of what were considered terrorist acts committed by member organizations of the PLO were:\\nThe 1970 Avivim school bus massacre by the Democratic Front for the Liberation of Palestine (DFLP), killed nine children, three adults and crippled 19.\\nIn the late 1960s and early 1970s, the Popular Front for the Liberation of Palestine, the second-largest PLO faction after al-Fatah, carried out a number of attacks and plane hijackings mostly directed at Israel, most infamously the Dawson\\'s Field hijackings, which precipitated the Black September in Jordan crisis.\\nIn 1972, the Black September Organization carried out the Munich massacre of Israeli Olympic athletes.\\nIn 1974, members of the DFLP seized a school in Israel and killed a total of 26 students and adults and wounded over 70 in the Ma\\'alot massacre.\\nThe 1975, Savoy Hotel hostage situation killing 8 hostages and 3 soldiers, carried out by Fatah.\\nThe 1978, Coastal Road massacre killing 37 Israelis and wounding 76, also carried out by Fatah.\\n\\n\\n=== War of attritionEdit ===\\nFrom 1967 to September 1970 the PLO, with passive support from Jordan, fought a war of attrition with Israel. During this time, the PLO launched artillery attacks on the moshavim and kibbutzim of Bet Shean Valley Regional Council, while fedayeen launched numerous attacks on Israeli forces. Israel raided the PLO camps in Jordan, including Karameh, withdrawing only under Jordanian military pressure.\\nThis conflict culminated in Jordan\\'s expulsion of the PLO to Lebanon in July 1971.\\n\\n\\n=== Black September in JordanEdit ===\\n\\nThe PLO suffered a major reversal with the Jordanian assault on its armed groups in the events known as Black September in 1970. The Palestinian groups were expelled from Jordan, and during the 1970s, the PLO was effectively an umbrella group of eight organizations headquartered in Damascus and Beirut, all devoted to armed struggle against Zionism or Israeli occupation, using methods which included direct clashing and guerrilla warfare against Israel. After Black September, the Cairo Agreement led the PLO to establish itself in Lebanon.\\n\\n\\n=== Lebanon and the Lebanese Civil WarEdit ===\\n\\nIn the late 1960s, and especially after the expulsion of the Palestinian militants from Jordan in Black September events in 1970–1971, Lebanon had become the base for PLO operations. Palestinian militant organizations relocated their headquarters to South Lebanon, and relying on the support in Palestinian refugee camps, waged a campaign of attacks on the Galilee and on Israeli and Jewish targets worldwide. Increasing penetration of Palestinians into Lebanese politics and Israeli retaliations gradually deteriorated the situation.\\nBy the mid-1970s, Arafat and his Fatah movement found themselves in a tenuous position. Arafat increasingly called for diplomacy, perhaps best symbolized by his Ten Points Program and his support for a UN Security Council resolution proposed in 1976 calling for a two-state settlement on the pre-1967 borders. But the Rejectionist Front denounced the calls for diplomacy, and a diplomatic solution was vetoed by the United States. In 1975, the increasing tensions between Palestinian militants and Christian militias exploded into the Lebanese Civil War, involving all factions. On 20 January 1976, the PLO took part in the Damour massacre in retaliation to the Karantina massacre. The PLO and Lebanese National Movement attacked the Christian town of Damour, killing 684 civilians and forcing the remainder of the towns population to flee. In 1976 Syria joined the war by invading Lebanon, which began the 29‑year Syrian occupation of Lebanon, and in 1978 Israel invaded South Lebanon, in response to the Coastal Road Massacre, executed by Palestinian militants based in Lebanon.\\nThe population in the West Bank and Gaza Strip saw Arafat as their best hope for a resolution to the conflict. This was especially so in the aftermath of the Camp David Accords of 1978 between Israel and Egypt, which the Palestinians saw as a blow to their aspirations to self-determination. Abu Nidal, a sworn enemy of the PLO since 1974, assassinated the PLO\\'s diplomatic envoy to the European Economic Community, which in the Venice Declaration of 1980 had called for the Palestinian right of self-determination to be recognized by Israel.\\nOpposition to Arafat was fierce not only among radical Arab groups, but also among many on the Israeli right. This included Menachem Begin, who had stated on more than one occasion that even if the PLO accepted UN Security Council Resolution 242 and recognized Israel\\'s right to exist, he would never negotiate with the organization. This contradicted the official United States position that it would negotiate with the PLO if the PLO accepted Resolution 242 and recognized Israel, which the PLO had thus far been unwilling to do. Other Arab voices had recently called for a diplomatic resolution to the hostilities in accord with the international consensus, including Egyptian leader Anwar Sadat on his visit to Washington, DC in August 1981, and Crown Prince Fahd of Saudi Arabia in his 7 August peace proposal; together with Arafat\\'s diplomatic maneuver, these developments made Israel\\'s argument that it had \"no partner for peace\" seem increasingly problematic. Thus, in the eyes of Israeli hard-liners, \"the Palestinians posed a greater challenge to Israel as a peacemaking organization than as a military one\".\\nAfter the appointment of Ariel Sharon to the post of Minister of defence in 1981, the Israeli government policy of allowing political growth to occur in the occupied West Bank and Gaza strip changed. The Israeli government tried, unsuccessfully, to dictate terms of political growth by replacing local pro-PLO leaders with an Israeli civil administration.\\nIn 1982, after an attack on a senior Israeli diplomat by Lebanon-based Palestinian militants in Lebanon, Israel invaded Lebanon in a much larger scale in coordination with the Lebanese Christian militias, reaching Beirut and eventually resulting in ousting of the PLO headquarters in June that year. Low-level Palestinian insurgency in Lebanon continued in parallel with the consolidation of Shia militant organizations, but became a secondary concern to Israeli military and other Lebanese factions. With ousting of the PLO, the Lebanese Civil War gradually turned into a prolonged conflict, shifting from mainly PLO-Christian conflict into involvement of all Lebanese factions – whether Sunni, Shia, Druze, and Christians.\\n\\n\\n=== TunisEdit ===\\nIn 1982, the PLO relocated to Tunis, Tunisia after it was driven out of Lebanon by Israel during Israel\\'s six-month invasion of Lebanon. Following massive raids by Israeli forces in Beirut, it is estimated that 8,000 PLO fighters evacuated the city and dispersed.\\nOn 1 October 1985, in Operation Wooden Leg, Israeli Air Force F-15s bombed the PLO\\'s Tunis headquarters, killing more than 60 people.\\nIt is suggested that the Tunis period (1982–1991) was a negative point in the PLO\\'s history, leading up to the Oslo negotiations and formation of the Palestinian Authority (PA). The PLO in exile was distant from a concentrated number of Palestinians and became far less effective. There was a significant reduction in centres of research, political debates or journalistic endeavours that had encouraged an energised public presence of the PLO in Beirut. More and more Palestinians were abandoned, and many felt that this was the beginning of the end.\\n\\n\\n=== Second IntifadaEdit ===\\n\\nThe Second or Al-Aqsa Intifada started concurrent with the breakdown of talks at Camp David with Israeli Prime Minister Ehud Barak. The Intifada never ended officially, but violence hit relatively low levels during 2005. The death toll both military and civilians of the entire conflict in 2000–2004 is estimated to be 3,223 Palestinians and 950 Israelis, although this number is criticized for not differentiating between combatants and civilians. Members of the PLO have claimed responsibility for a number of attacks against Israelis during the Second Intifada.\\nIn February 2015 in a civil case considered by a US federal court the Palestinian Authority and Palestine Liberation Organization were found liable for the death and injuries of US citizens in a number of terrorist attacks in Israel from 2001 to 2004. The damages are to be $655.5 million.\\n\\n\\n== MembershipEdit ==\\n\\nPresent members include:\\nFatah – Largest faction, secular, left-wing nationalist.\\nThe Popular Front for the Liberation of Palestine (PFLP) – Second largest, radical left militant and communist\\nThe Democratic Front for the Liberation of Palestine (DFLP) – Third largest, communist\\nThe Palestinian People\\'s Party (PPP) – Socialist\\nThe Palestine Liberation Front (PLF, Abu Abbas faction) – Minor left-wing faction\\nThe Arab Liberation Front (ALF) – Minor faction, aligned to the Iraqi Ba\\'ath Party\\nAs-Sa\\'iqa – Syrian-controlled Ba\\'athist faction\\nThe Palestinian Democratic Union (Fida) – Minor democratic socialist, 2 state solution, non militant faction\\nThe Palestinian Popular Struggle Front (PPSF, Samir Ghawsha faction) – minor socialist faction\\nThe Palestinian Arab Front (PAF) – minor pro-Fatah, former Iraqi Ba\\'athists faction\\nFormer member groups of the PLO include:\\nThe Popular Front for the Liberation of Palestine – General Command (PFLP-GC)\\n\\n\\n=== Executive Committee ChairmenEdit ===\\nAhmad Shukeiri (2 June 1964 – 24 December 1967)\\nYahya Hammuda (24 December 1967 – 2 February 1969)\\nYasser Arafat \"Abu Amar\" (4 February 1969 – 11 November 2004)\\n\\n(in exile in Jordan to April 1971; Lebanon 1971 – December 1982; and Tunis December 1982 – May 1994)\\n\\nMahmoud Abbas \"Abu Mazen\" (From 29 October 2004 – present)\\n\\n(acting [for Arafat] until 11 November 2004)\\n\\n\\n== See alsoEdit ==\\nPLO Negotiation Affairs Department\\nHuman rights in the Palestinian National Authority\\nPalestinian political violence\\nProposals for a Palestinian state\\nPalestinian territories\\nPalestinian Liberation Army\\nFatah–Hamas conflict\\nIsraeli–Palestinian conflict\\nViolence in the Israeli–Palestinian conflict\\nPalestine–Tamil Eelam relations\\nPalestinian expulsion from Kuwait\\n\\n\\n== ReferencesEdit ==\\n\\n\\n=== BibliographyEdit ===\\n\\nYezid Sayigh, “Struggle Within, Struggle Without: the Transformation of PLO politics since 1982,” International Affairs vol. 65, no. 2 (spring 1989) pages 247–271.\\n\\n\\n== External linksEdit ==\\n\\n\\n=== Official sitesEdit ===\\nPLO Negotiations Affairs Department\\nPermanent Observer Mission of Palestine to the United Nations\\n\\n\\n=== DocumentsEdit ===\\nStatement of Proclamation of the Organization (1964)\\nPalestinian National Charter (1968) published by The Avalon Project at Yale Law School\\nPalestinian National Charter (1968) on Wikisource\\nPalestinian National Charter (1964) published by the Permanent Observer Mission of Palestine to the United Nations\\nPLO Political Program Adopted at the 12th Session of the Palestine National Council Cairo, 8 June 1974 published by the Permanent Observer Mission of Palestine to the United Nations]\\nDecisions and Actions related to the Palestine National Charter (1996) at the Wayback Machine (archived January 18, 2008) published by the Permanent Observer Mission of Palestine to the United Nations]\\nConstitution of the Palestine Liberation Organization (PLO) (1968)\\n\\n\\n=== AnalysisEdit ===\\nCommentary on the Palestine National Charter published by the Jewish Virtual Library\\nDean Peter F. Krogh Discusses the Israeli-Palestinian Conflict from the Dean Peter Krogh Foreign Affairs Digital Archives\\n\\n\\n=== GeneralEdit ===\\nPLO in Oxford Islamic Studies Online\\nPalestinian Factions CRS Report for Congress, Aaron D. Pina, 8 June 2005\\nBrief history of the Palestine Liberation Organization by GlobalSecurity.org\\nCollection of Documents, Biographies and other information on the Palestine Liberation Organization published by the Jewish Virtual Library\\nThe Palestinian Vision of Peace (2002) as stated by the PLO Negotiations Affairs Department\\nDocuments regarding the Soviet Ministry of Defense 1983 special operation requested by Yasir Arafat: delivery of two German-built coast guard cutters belonging to the PLO from Syria to Tunis – (PDF in Russian) from the Soviet Archives [1] collected by Vladimir Bukovsky\\nPhoto enlargement shows Palestinians marching in West Berlin, 15 November 69.\\nCollection of over 150 PLO posters\\nPalestine - P.L.O. Information bulletin Archive. Some archived issues: 1978, 1979, 1982')"
      ]
     },
     "execution_count": 129,
     "metadata": {},
     "output_type": "execute_result"
    }
   ],
   "source": [
    "context = text.partition(eumatches[0][0])\n",
    "context"
   ]
  },
  {
   "cell_type": "code",
   "execution_count": 5,
   "metadata": {
    "collapsed": false
   },
   "outputs": [],
   "source": [
    "def GetDateInContext(dateString, ArticleText, length=150):\n",
    "    partitioned_str = ArticleText.partition(dateString)\n",
    "    up = str(partitioned_str[0])\n",
    "    date = str(partitioned_str[1])\n",
    "    down = str(partitioned_str[2])\n",
    "    \n",
    "    getUp = min(length, len(up))\n",
    "    getDown = min(length, len(down))\n",
    "    noLetters = re.compile(\"[^A-Za-z]+\")\n",
    "    return(re.sub(noLetters, \" \", up[-getUp:]),date,re.sub(noLetters,\" \",down[:getDown]))"
   ]
  },
  {
   "cell_type": "code",
   "execution_count": 135,
   "metadata": {
    "collapsed": false
   },
   "outputs": [
    {
     "data": {
      "text/plain": [
       "('tion representing the Palestinian people. The Palestinian National Council convened in Jerusalem on ',\n",
       " '28 May 1964',\n",
       " '. Concluding this meeting the PLO was founded on 2 June 1964. Its stated goal was the \"liberation of')"
      ]
     },
     "execution_count": 135,
     "metadata": {},
     "output_type": "execute_result"
    }
   ],
   "source": [
    "GetDateInContext(context)"
   ]
  },
  {
   "cell_type": "code",
   "execution_count": 28,
   "metadata": {
    "collapsed": true
   },
   "outputs": [],
   "source": []
  },
  {
   "cell_type": "code",
   "execution_count": 29,
   "metadata": {
    "collapsed": false
   },
   "outputs": [
    {
     "data": {
      "text/plain": [
       "['January 18, 2008']"
      ]
     },
     "execution_count": 29,
     "metadata": {},
     "output_type": "execute_result"
    }
   ],
   "source": []
  },
  {
   "cell_type": "code",
   "execution_count": 6,
   "metadata": {
    "collapsed": false
   },
   "outputs": [],
   "source": [
    "import datetime\n",
    "monthhash = {'jan': 1,\n",
    "            'feb': 2,\n",
    "            'mar': 3,\n",
    "            'apr': 4,\n",
    "            'may': 5,\n",
    "            'jun': 6,\n",
    "            'jul': 7,\n",
    "            'aug': 8,\n",
    "            'sep': 9,\n",
    "            'oct': 10,\n",
    "            'nov': 11,\n",
    "            'dec': 12}\n",
    "\n",
    "def GetDatesFromArticle(articleText,listOfRegex=[amdate,eurodate]):\n",
    "    datesInContext = dict()\n",
    "    datesForMath = []\n",
    "    for pattern in listOfRegex:\n",
    "        for m in re.finditer(pattern, articleText):\n",
    "            foundDate = m.group('date')\n",
    "            foundDay = int(m.group('day'))\n",
    "            foundMonth = monthhash[str(m.group('month')).lower()[:3]]\n",
    "            foundYear = int(m.group('year'))\n",
    "            try:\n",
    "                d = datetime.date(year=foundYear,month=foundMonth,day=foundDay)\n",
    "                formattedDate = \"{}-{:02d}-{:02d}\".format(foundYear,foundMonth,foundDay)\n",
    "                before, date, after = GetDateInContext(foundDate, articleText)\n",
    "                datesInContext[formattedDate] = {'upstream':before,\n",
    "                                                 'date':date,\n",
    "                                                 'downstream':after}\n",
    "                datesForMath.append(d)\n",
    "            except ValueError as v:\n",
    "                print(\"{}: {}\".format(foundDate,v))\n",
    "    \n",
    "    metaDate = {'medianDate':None,\n",
    "                'mostRecentDate':None}\n",
    "    if datesForMath:\n",
    "        metaDate['mostRecentDate'] = max(datesForMath).strftime(\"%Y-%m-%d\")\n",
    "        dateCount = len(datesForMath)\n",
    "        datesForMath.sort()\n",
    "        if dateCount == 0:\n",
    "            medianDate = datesForMath[0]\n",
    "        elif (dateCount % 2 == 1):\n",
    "            medianIndex = (dateCount - 1) // 2\n",
    "            medianDate = datesForMath[medianIndex]\n",
    "        else:\n",
    "            medianIndices = (dateCount//2, dateCount//2 - 1)\n",
    "            medianDate = datesForMath[medianIndices[0]] + (datesForMath[medianIndices[1]] - datesForMath[medianIndices[0]]) / 2\n",
    "        metaDate['medianDate'] = medianDate.strftime(\"%Y-%m-%d\")\n",
    "    datesInContext['meta'] = metaDate\n",
    "    return datesInContext\n"
   ]
  },
  {
   "cell_type": "code",
   "execution_count": 162,
   "metadata": {
    "collapsed": false
   },
   "outputs": [
    {
     "data": {
      "text/plain": [
       "{'1964-05-28': {'date': '28 May 1964',\n",
       "  'downstream': ' Concluding this meeting the PLO was founded on June Its stated goal was the liberation of Palestine through armed struggle IdeologyE',\n",
       "  'upstream': ' Arab League initiated the creation of an organization representing the Palestinian people The Palestinian National Council convened in Jerusalem on '},\n",
       " '1964-06-02': {'date': '2 June 1964',\n",
       "  'downstream': ' Its stated goal was the liberation of Palestine through armed struggle IdeologyEdit The ideology of the PLO was formulated in the foundin',\n",
       "  'upstream': 'senting the Palestinian people The Palestinian National Council convened in Jerusalem on May Concluding this meeting the PLO was founded on '},\n",
       " '1967-12-24': {'date': '24 December 1967',\n",
       "  'downstream': ' Yahya Hammuda December February Yasser Arafat Abu Amar February November in exile in Jordan to April ',\n",
       "  'upstream': 'he Popular Front for the Liberation of Palestine General Command PFLP GC Executive Committee ChairmenEdit Ahmad Shukeiri June '},\n",
       " '1969-02-02': {'date': '2 February 1969',\n",
       "  'downstream': ' Yasser Arafat Abu Amar February November in exile in Jordan to April Lebanon December and Tunis December ',\n",
       "  'upstream': 'eneral Command PFLP GC Executive Committee ChairmenEdit Ahmad Shukeiri June December Yahya Hammuda December '},\n",
       " '1969-02-04': {'date': '4 February 1969',\n",
       "  'downstream': ' Fatah founder Arafat was elected Chairman of the PLO in Cairo Since Fatah has been the dominant factor within the PLO which still continues in ',\n",
       "  'upstream': 'l as President of the Palestinian National Authority He also controlled the Palestinian National Security Forces Internal politicsEdit On '},\n",
       " '1974-06-08': {'date': '8 June 1974',\n",
       "  'downstream': ' published by the Permanent Observer Mission of Palestine to the United Nations Decisions and Actions related to the Palestine National Charter ',\n",
       "  'upstream': 'manent Observer Mission of Palestine to the United Nations PLO Political Program Adopted at the th Session of the Palestine National Council Cairo '},\n",
       " '1974-06-09': {'date': '9 June 1974',\n",
       "  'downstream': ' the Palestine National Council held its th meeting in Cairo On June the Ten Point Program was adopted The Program stated The Liberation Or',\n",
       "  'upstream': 'ating a strategic alternative Now they intended to establish a national authority over every territory they would be able to reconquer From to '},\n",
       " '1974-11-22': {'date': '22 November 1974',\n",
       "  'downstream': ' in Resolution On January the UN Security Council voted with abstentions to allow the Palestinian Liberation Organization to part',\n",
       "  'upstream': 'y recognized the PLO as the representative of the Palestinian people in Resolution and Resolution and granted the PLO observer status on '},\n",
       " '1976-01-12': {'date': '12 January 1976',\n",
       "  'downstream': ' the UN Security Council voted with abstentions to allow the Palestinian Liberation Organization to participate in a Security Council debate wi',\n",
       "  'upstream': 'ive of the Palestinian people in Resolution and Resolution and granted the PLO observer status on November in Resolution On '},\n",
       " '1976-01-20': {'date': '20 January 1976',\n",
       "  'downstream': ' the PLO took part in the Damour massacre in retaliation to the Karantina massacre The PLO and Lebanese National Movement attacked the Christian tow',\n",
       "  'upstream': 'n the increasing tensions between Palestinian militants and Christian militias exploded into the Lebanese Civil War involving all factions On '},\n",
       " '1985-10-01': {'date': '1 October 1985',\n",
       "  'downstream': ' in Operation Wooden Leg Israeli Air Force F s bombed the PLO s Tunis headquarters killing more than people It is suggested that the Tunis pe',\n",
       "  'upstream': 'nvasion of Lebanon Following massive raids by Israeli forces in Beirut it is estimated that PLO fighters evacuated the city and dispersed On '},\n",
       " '1986-04-02': {'date': '2 April 1986',\n",
       "  'downstream': ' After the Palestinian Declaration of Independence the PLO s representation was renamed Palestine On July this status was extended to allow ',\n",
       "  'upstream': 'urity Council debate without voting rights a privilege usually restricted to UN member states It was admitted as a full member of the Asia group on '},\n",
       " '1993-08-20': {'date': '20 August 1993',\n",
       "  'downstream': ' There was a subsequent public ceremony in Washington D C on September with Yasser Arafat and Yitzhak Rabin The Accords granted the Palesti',\n",
       "  'upstream': 'ised the State of Palestine Oslo AccordsEdit In the PLO secretly negotiated the Oslo Accords with Israel The accords were signed on '},\n",
       " '1993-09-13': {'date': '13 September 1993',\n",
       "  'downstream': ' with Yasser Arafat and Yitzhak Rabin The Accords granted the Palestinians right to self government on the Gaza Strip and the city of Jericho in the ',\n",
       "  'upstream': 'etly negotiated the Oslo Accords with Israel The accords were signed on August There was a subsequent public ceremony in Washington D C on '},\n",
       " '1998-07-07': {'date': '7 July 1998',\n",
       "  'downstream': ' this status was extended to allow participation in General Assembly debates though not in voting application for UN state membershipEd',\n",
       "  'upstream': 'a full member of the Asia group on April After the Palestinian Declaration of Independence the PLO s representation was renamed Palestine On '},\n",
       " '2004-10-29': {'date': '29 October 2004',\n",
       "  'downstream': ' present acting for Arafat until November See alsoEdit PLO Negotiation Affairs Department Human rights in the Palestinian Nati',\n",
       "  'upstream': 'November in exile in Jordan to April Lebanon December and Tunis December May Mahmoud Abbas Abu Mazen From '},\n",
       " '2004-11-11': {'date': '11 November 2004',\n",
       "  'downstream': ' in exile in Jordan to April Lebanon December and Tunis December May Mahmoud Abbas Abu Mazen From October ',\n",
       "  'upstream': 'it Ahmad Shukeiri June December Yahya Hammuda December February Yasser Arafat Abu Amar February '},\n",
       " '2005-06-08': {'date': '8 June 2005',\n",
       "  'downstream': ' Brief history of the Palestine Liberation Organization by GlobalSecurity org Collection of Documents Biographies and other information on the Palest',\n",
       "  'upstream': 'eign Affairs Digital Archives GeneralEdit PLO in Oxford Islamic Studies Online Palestinian Factions CRS Report for Congress Aaron D Pina '},\n",
       " '2008-01-18': {'date': 'January 18, 2008',\n",
       "  'downstream': ' published by the Permanent Observer Mission of Palestine to the United Nations Constitution of the Palestine Liberation Organization PLO ',\n",
       "  'upstream': 'r Mission of Palestine to the United Nations Decisions and Actions related to the Palestine National Charter at the Wayback Machine archived '},\n",
       " '2010-07-20': {'date': '20 July 2010',\n",
       "  'downstream': ' the United States Department of State agreed to upgrade the status of the PLO Mission in the United States to General Delegation of the PLO ',\n",
       "  'upstream': ' as the Palestine Affairs Center The PLO Mission office in Washington D C was opened in and represented the PLO in the United States On '},\n",
       " '2012-11-29': {'date': '29 November 2012',\n",
       "  'downstream': ' Resolution passed upgrading Palestine to non member observer State status in the United Nations The new status equates Palestine s with th',\n",
       "  'upstream': 'rs to make a unanimous recommendation the PLO had decided to pursue an upgrade in status from observer entity to non member observer state On '},\n",
       " 'meta': {'medianDate': '1976-01-20', 'mostRecentDate': '2012-11-29'}}"
      ]
     },
     "execution_count": 162,
     "metadata": {},
     "output_type": "execute_result"
    }
   ],
   "source": [
    "GetDatesFromArticle(text)"
   ]
  },
  {
   "cell_type": "code",
   "execution_count": 171,
   "metadata": {
    "collapsed": false
   },
   "outputs": [
    {
     "name": "stdout",
     "output_type": "stream",
     "text": [
      "March 91, 1877: day is out of range for month\n",
      "4449 May 1960: day is out of range for month\n",
      "4502 Sep 1960: day is out of range for month\n",
      "4597 Mar 1961: day is out of range for month\n",
      "4625 Apr 1961: day is out of range for month\n",
      "323 Aug 1961: day is out of range for month\n",
      "514 Nov 1964: day is out of range for month\n",
      "361 Jan 1962: day is out of range for month\n",
      "29 February 2003: day is out of range for month\n",
      "November 0f 1900: day is out of range for month\n",
      "75 January 1880: day is out of range for month\n",
      "76 June 1880: day is out of range for month\n",
      "77 June 1881: day is out of range for month\n",
      "78 June 1882: day is out of range for month\n",
      "79 January 1883: day is out of range for month\n",
      "95 January 1891: day is out of range for month\n",
      "96 June 1891: day is out of range for month\n",
      "97 June 1892: day is out of range for month\n",
      "31 June 1821: day is out of range for month\n",
      "June 31, 2005: day is out of range for month\n",
      "5135 February 2006: day is out of range for month\n",
      "80 March 1985: day is out of range for month\n",
      "January 0, 1900: day is out of range for month\n",
      "February 29, 1900: day is out of range for month\n",
      "June 31, 2005: day is out of range for month\n"
     ]
    }
   ],
   "source": [
    "ftList = [nepafulltexts, epafulltexts]\n",
    "contextRecords = []\n",
    "metaRecords = []\n",
    "for corpus in ftList:\n",
    "    for ft in corpus:\n",
    "        try:\n",
    "            article_ID = list(json.loads(ft).keys())[0]\n",
    "            article_text = list(json.loads(ft).values())[0]\n",
    "            dates = GetDatesFromArticle(article_text)\n",
    "            for record in dates.keys():\n",
    "                if record == 'meta':\n",
    "                    metaRecords.append({'page_id':article_ID,\n",
    "                                        'medianDate':dates[record]['medianDate'],\n",
    "                                        'mostRecentDate':dates[record]['mostRecentDate']})\n",
    "                else:\n",
    "                    contextRecords.append({'page_id':article_ID,\n",
    "                                           'ft_date':record,\n",
    "                                           'prev_context':dates[record]['upstream'],\n",
    "                                           'text_date':dates[record]['date'],\n",
    "                                           'next_context':dates[record]['downstream']})\n",
    "\n",
    "        except:\n",
    "            pass\n"
   ]
  },
  {
   "cell_type": "code",
   "execution_count": 172,
   "metadata": {
    "collapsed": false
   },
   "outputs": [
    {
     "data": {
      "text/plain": [
       "[{'medianDate': '2010-10-21',\n",
       "  'mostRecentDate': '2015-10-03',\n",
       "  'page_id': '32860140'},\n",
       " {'medianDate': None, 'mostRecentDate': None, 'page_id': '24542042'},\n",
       " {'medianDate': '2013-04-05',\n",
       "  'mostRecentDate': '2016-06-14',\n",
       "  'page_id': '37501742'},\n",
       " {'medianDate': '2011-03-18',\n",
       "  'mostRecentDate': '2016-06-30',\n",
       "  'page_id': '21019435'},\n",
       " {'medianDate': '1948-04-03',\n",
       "  'mostRecentDate': '1948-04-03',\n",
       "  'page_id': '36270733'}]"
      ]
     },
     "execution_count": 172,
     "metadata": {},
     "output_type": "execute_result"
    }
   ],
   "source": [
    "metaRecords[:5]"
   ]
  },
  {
   "cell_type": "code",
   "execution_count": 173,
   "metadata": {
    "collapsed": false
   },
   "outputs": [
    {
     "data": {
      "text/plain": [
       "[{'ft_date': '2015-10-03',\n",
       "  'next_context': ' Personal life Nash became a father in September to a little girl name LeKenleigh Nash Awards and honors Newcomer the Yea',\n",
       "  'page_id': '32860140',\n",
       "  'prev_context': 'with the Fukushima Firebonds of the Japanese bj league and made his professional debut in the season opening match against the Yokohama B Corsairs on ',\n",
       "  'text_date': '3 October 2015'},\n",
       " {'ft_date': '2010-10-21',\n",
       "  'next_context': ' Nash committed and signed to play basketball with Oklahoma State University after visiting the campus on August of the same year Oklahoma State ',\n",
       "  'page_id': '32860140',\n",
       "  'prev_context': ' and the player by Scout com In the ESPNU basketball rankings Nash was the rd ranked small forward in his class College career On ',\n",
       "  'text_date': 'October 21, 2010'},\n",
       " {'ft_date': '1992-06-30',\n",
       "  'next_context': ' is an American professional basketball player for the Fukushima Firebonds of the Japanese bj league He attended Lincoln High School in Dallas Texa',\n",
       "  'page_id': '32860140',\n",
       "  'prev_context': 'Le Bryan Nash born ',\n",
       "  'text_date': 'June 30, 1992'},\n",
       " {'ft_date': '2013-01-28',\n",
       "  'next_context': ' that the film first received an NC rating which prompted cuts in order to obtain the contractually obligated R rating The film has been rated un',\n",
       "  'page_id': '37501742',\n",
       "  'prev_context': 'tar Pictures released the film theatrically on April in the United States with Sony Pictures handling other markets Fede Alvarez tweeted on ',\n",
       "  'text_date': 'January 28, 2013'},\n",
       " {'ft_date': '2013-07-15',\n",
       "  'next_context': ' to be adapted into a live experience as the first maze announced for Universal Studios Hollywood s and the second maze for Universal Orlando Resort s',\n",
       "  'page_id': '37501742',\n",
       "  'prev_context': ' On March it was announced that the film will have a sequel followed by a crossover with the original trilogy Evil Dead was announced on ',\n",
       "  'text_date': 'July 15, 2013'}]"
      ]
     },
     "execution_count": 173,
     "metadata": {},
     "output_type": "execute_result"
    }
   ],
   "source": [
    "contextRecords[:5]"
   ]
  },
  {
   "cell_type": "code",
   "execution_count": 7,
   "metadata": {
    "collapsed": false
   },
   "outputs": [
    {
     "name": "stdout",
     "output_type": "stream",
     "text": [
      "[12:55:27] opening 071816_fulltext_batch1.txt\n",
      "[12:55:33] parsing record 1000\n",
      "[12:55:37] parsing record 2000\n",
      "[12:55:40] parsing record 3000\n",
      "[12:55:43] parsing record 4000\n",
      "February 31, 2009: day is out of range for month\n",
      "[12:55:45] parsing record 5000\n",
      "[12:55:47] parsing record 6000\n",
      "[12:55:49] parsing record 7000\n",
      "[12:55:51] parsing record 8000\n",
      "[12:55:53] parsing record 9000\n",
      "634 Nov 2006: day is out of range for month\n",
      "[12:55:54] opening 071816_fulltext_batch2.txt\n",
      "32 July 1968: day is out of range for month\n",
      "[12:56:00] parsing record 1000\n",
      "31 September 2013: day is out of range for month\n",
      "88 May 1989: day is out of range for month\n",
      "[12:56:03] parsing record 2000\n",
      "September 31, 1966: day is out of range for month\n",
      "June 31, 2001: day is out of range for month\n",
      "[12:56:06] parsing record 3000\n",
      "[12:56:09] parsing record 4000\n",
      "September 31, 2009: day is out of range for month\n",
      "[12:56:11] parsing record 5000\n",
      "[12:56:13] parsing record 6000\n",
      "31 June 2010: day is out of range for month\n",
      "[12:56:15] parsing record 7000\n",
      "[12:56:16] parsing record 8000\n",
      "[12:56:17] opening 071816_fulltext_batch3.txt\n",
      "June 31, 1821: day is out of range for month\n",
      "[12:56:22] parsing record 1000\n",
      "[12:56:26] parsing record 2000\n",
      "[12:56:29] parsing record 3000\n",
      "February 29, 1838: day is out of range for month\n",
      "[12:56:32] parsing record 4000\n",
      "[12:56:35] parsing record 5000\n",
      "[12:56:37] parsing record 6000\n",
      "[12:56:39] parsing record 7000\n",
      "[12:56:41] parsing record 8000\n",
      "0002 May 2012: day is out of range for month\n",
      "0004 May 2012: day is out of range for month\n",
      "0013 May 2012: day is out of range for month\n",
      "0017 May 2012: day is out of range for month\n",
      "0022 May 2012: day is out of range for month\n",
      "0006 June 2012: day is out of range for month\n",
      "0018 June 2012: day is out of range for month\n",
      "0002 July 2012: day is out of range for month\n",
      "0003 July 2012: day is out of range for month\n",
      "0004 July 2012: day is out of range for month\n",
      "0005 July 2012: day is out of range for month\n",
      "0016 July 2012: day is out of range for month\n",
      "0018 July 2012: day is out of range for month\n",
      "0019 July 2012: day is out of range for month\n",
      "0021 July 2012: day is out of range for month\n",
      "0026 July 2012: day is out of range for month\n",
      "0027 July 2012: day is out of range for month\n",
      "0030 July 2012: day is out of range for month\n",
      "0001 August 2012: day is out of range for month\n",
      "0002 August 2012: day is out of range for month\n",
      "0011 August 2012: day is out of range for month\n",
      "0012 August 2012: day is out of range for month\n",
      "0014 August 2012: day is out of range for month\n",
      "0020 August 2012: day is out of range for month\n",
      "0023 August 2012: day is out of range for month\n",
      "0030 August 2012: day is out of range for month\n",
      "0031 August 2012: day is out of range for month\n",
      "0004 September 2012: day is out of range for month\n",
      "0020 September 2012: day is out of range for month\n",
      "0027 September 2012: day is out of range for month\n",
      "0001 October 2012: day is out of range for month\n",
      "0023 October 2012: day is out of range for month\n",
      "0030 October 2012: day is out of range for month\n",
      "0001 November 2012: day is out of range for month\n",
      "0004 November 2012: day is out of range for month\n",
      "0021 November 2012: day is out of range for month\n",
      "0022 November 2012: day is out of range for month\n",
      "0013 December 2012: day is out of range for month\n",
      "0015 December 2012: day is out of range for month\n",
      "0017 December 2012: day is out of range for month\n",
      "0027 December 2012: day is out of range for month\n",
      "0031 December 2012: day is out of range for month\n",
      "0003 January 2013: day is out of range for month\n",
      "0016 January 2013: day is out of range for month\n",
      "0021 January 2013: day is out of range for month\n",
      "0023 January 2013: day is out of range for month\n",
      "0015 February 2013: day is out of range for month\n",
      "0028 February 2013: day is out of range for month\n",
      "0028 March 2013: day is out of range for month\n",
      "0016 April 2013: day is out of range for month\n",
      "0017 April 2013: day is out of range for month\n",
      "0019 April 2013: day is out of range for month\n",
      "0023 April 2013: day is out of range for month\n",
      "0025 April 2013: day is out of range for month\n",
      "0027 April 2013: day is out of range for month\n",
      "0029 April 2013: day is out of range for month\n",
      "0030 April 2013: day is out of range for month\n",
      "[12:56:43] parsing record 9000\n",
      "[12:56:45] opening 071816_fulltext_batch4.txt\n",
      "[12:56:50] parsing record 1000\n",
      "31 June 2013: day is out of range for month\n",
      "[12:56:55] parsing record 2000\n",
      "[12:56:58] parsing record 3000\n",
      "30 February 1965: day is out of range for month\n",
      "February 31, 2006: day is out of range for month\n",
      "[12:57:01] parsing record 4000\n",
      "[12:57:04] parsing record 5000\n",
      "[12:57:06] parsing record 6000\n",
      "30 February 1674: day is out of range for month\n",
      "31 September 2010: day is out of range for month\n",
      "[12:57:08] parsing record 7000\n",
      "[12:57:10] parsing record 8000\n",
      "0 February 2004: day is out of range for month\n",
      "[12:57:12] parsing record 9000\n",
      "[12:57:13] opening 071816_fulltext_batch5.txt\n",
      "[12:57:19] parsing record 1000\n",
      "[12:57:23] parsing record 2000\n",
      "48 May 2005: day is out of range for month\n",
      "[12:57:27] parsing record 3000\n",
      "December 4627, 2014: day is out of range for month\n",
      "[12:57:29] parsing record 4000\n",
      "[12:57:32] parsing record 5000\n",
      "75 November 1985: day is out of range for month\n",
      "29 February 2009: day is out of range for month\n",
      "[12:57:34] parsing record 6000\n",
      "0 January 1900: day is out of range for month\n",
      "[12:57:36] parsing record 7000\n",
      "31 April 2004: day is out of range for month\n",
      "March 0f 2015: day is out of range for month\n",
      "[12:57:38] parsing record 8000\n",
      "[12:57:40] parsing record 9000\n",
      "[12:57:42] opening 071816_fulltext_batch6.txt\n",
      "June 31, 2013: day is out of range for month\n",
      "[12:57:47] parsing record 1000\n",
      "66 November 1987: day is out of range for month\n",
      "[12:57:52] parsing record 2000\n",
      "30 February 1982: day is out of range for month\n",
      "[12:57:55] parsing record 3000\n",
      "98 January 1987: day is out of range for month\n",
      "[12:57:58] parsing record 4000\n",
      "[12:58:00] parsing record 5000\n",
      "February 29, 2014: day is out of range for month\n",
      "[12:58:02] parsing record 6000\n",
      "[12:58:04] parsing record 7000\n",
      "[12:58:06] parsing record 8000\n",
      "0016 April 2013: day is out of range for month\n",
      "0017 April 2013: day is out of range for month\n",
      "0019 April 2013: day is out of range for month\n",
      "0023 April 2013: day is out of range for month\n",
      "0025 April 2013: day is out of range for month\n",
      "0029 April 2013: day is out of range for month\n",
      "0030 April 2013: day is out of range for month\n",
      "0009 May 2013: day is out of range for month\n",
      "0013 May 2013: day is out of range for month\n",
      "0020 May 2013: day is out of range for month\n",
      "0030 May 2013: day is out of range for month\n",
      "0005 June 2013: day is out of range for month\n",
      "0012 June 2013: day is out of range for month\n",
      "0014 June 2013: day is out of range for month\n",
      "0024 June 2013: day is out of range for month\n",
      "0024 July 2013: day is out of range for month\n",
      "0006 August 2013: day is out of range for month\n",
      "0010 August 2013: day is out of range for month\n",
      "0004 September 2013: day is out of range for month\n",
      "0011 September 2013: day is out of range for month\n",
      "0012 September 2013: day is out of range for month\n",
      "0017 October 2013: day is out of range for month\n",
      "0018 October 2013: day is out of range for month\n",
      "0023 October 2013: day is out of range for month\n",
      "0031 October 2013: day is out of range for month\n",
      "0001 November 2013: day is out of range for month\n",
      "0013 November 2013: day is out of range for month\n",
      "0022 November 2013: day is out of range for month\n",
      "0011 December 2013: day is out of range for month\n",
      "0017 December 2013: day is out of range for month\n",
      "0018 December 2013: day is out of range for month\n",
      "0024 December 2013: day is out of range for month\n",
      "0006 January 2014: day is out of range for month\n",
      "0009 January 2014: day is out of range for month\n",
      "0014 January 2014: day is out of range for month\n",
      "0023 January 2014: day is out of range for month\n",
      "0006 February 2014: day is out of range for month\n",
      "0007 February 2014: day is out of range for month\n",
      "0017 March 2014: day is out of range for month\n",
      "0018 March 2014: day is out of range for month\n",
      "0028 March 2014: day is out of range for month\n",
      "0004 April 2014: day is out of range for month\n",
      "0027 April 2014: day is out of range for month\n",
      "0003 May 2014: day is out of range for month\n",
      "0006 May 2014: day is out of range for month\n",
      "0008 May 2014: day is out of range for month\n",
      "[12:58:08] parsing record 9000\n",
      "[12:58:09] opening 071816_fulltext_batch7.txt\n",
      "November 31, 1975: day is out of range for month\n",
      "[12:58:15] parsing record 1000\n",
      "29 February 2009: day is out of range for month\n",
      "[12:58:19] parsing record 2000\n",
      "75 October 2009: day is out of range for month\n",
      "[12:58:22] parsing record 3000\n",
      "[12:58:24] parsing record 4000\n",
      "[12:58:27] parsing record 5000\n",
      "[12:58:28] parsing record 6000\n",
      "[12:58:30] parsing record 7000\n",
      "[12:58:33] parsing record 8000\n",
      "[12:58:34] parsing record 9000\n",
      "[12:58:36] opening 071816_fulltext_batch8.txt\n",
      "[12:58:41] parsing record 1000\n",
      "[12:58:45] parsing record 2000\n",
      "31 June 1914: day is out of range for month\n",
      "[12:58:47] parsing record 3000\n",
      "4002 August 2010: day is out of range for month\n",
      "[12:58:50] parsing record 4000\n",
      "[12:58:52] parsing record 5000\n",
      "[12:58:54] parsing record 6000\n",
      "0031 August 1957: day is out of range for month\n",
      "0030 August 1967: day is out of range for month\n",
      "0031 August 1967: day is out of range for month\n",
      "0031 January 1969: day is out of range for month\n",
      "0005 February 1969: day is out of range for month\n",
      "0005 February 1975: day is out of range for month\n",
      "0005 February 1975: day is out of range for month\n",
      "0001 May 1981: day is out of range for month\n",
      "0001 May 1981: day is out of range for month\n",
      "0001 May 1989: day is out of range for month\n",
      "0001 May 1989: day is out of range for month\n",
      "0001 May 2001: day is out of range for month\n",
      "0001 May 2001: day is out of range for month\n",
      "0031 August 1957: day is out of range for month\n",
      "0030 August 1967: day is out of range for month\n",
      "0001 May 2001: day is out of range for month\n",
      "0001 May 2001: day is out of range for month\n",
      "0001 May 2001: day is out of range for month\n",
      "0001 May 2001: day is out of range for month\n",
      "0031 August 1957: day is out of range for month\n",
      "0030 August 1967: day is out of range for month\n",
      "[12:58:55] parsing record 7000\n"
     ]
    }
   ],
   "source": [
    "import os\n",
    "import datetime\n",
    "path = \"ArticleFulltexts/\"\n",
    "metaRecords = []\n",
    "contextRecords = []\n",
    "for filename in os.listdir(path):\n",
    "    if filename == \"epa_fulltext.txt\":\n",
    "        pass\n",
    "    else:\n",
    "        with open(path+filename,\"r\") as f:\n",
    "            now = datetime.datetime.now().time()\n",
    "            print(\"[{:02d}:{:02d}:{:02d}] opening {}\".format(now.hour,now.minute,now.second,filename))\n",
    "            for ix,ft in enumerate(f):\n",
    "                if (ix + 1) % 1000 == 0:\n",
    "                    now = datetime.datetime.now().time()\n",
    "                    print(\"[{:02d}:{:02d}:{:02d}] parsing record {}\".format(now.hour,now.minute,now.second,ix+1))\n",
    "                try:\n",
    "                    article_ID = list(json.loads(ft).keys())[0]\n",
    "                    article_text = list(json.loads(ft).values())[0]\n",
    "                    dates = GetDatesFromArticle(article_text)\n",
    "                    for record in dates.keys():\n",
    "                        if record == 'meta':\n",
    "                            metaRecords.append({'page_id':article_ID,\n",
    "                                                'medianDate':dates[record]['medianDate'],\n",
    "                                                'mostRecentDate':dates[record]['mostRecentDate']})\n",
    "                        else:\n",
    "                            contextRecords.append({'page_id':article_ID,\n",
    "                                                   'ft_date':record,\n",
    "                                                   'prev_context':dates[record]['upstream'],\n",
    "                                                   'text_date':dates[record]['date'],\n",
    "                                                   'next_context':dates[record]['downstream']})\n",
    "\n",
    "                except:\n",
    "                    pass\n",
    "\n"
   ]
  },
  {
   "cell_type": "code",
   "execution_count": 176,
   "metadata": {
    "collapsed": false
   },
   "outputs": [
    {
     "data": {
      "text/plain": [
       "0"
      ]
     },
     "execution_count": 176,
     "metadata": {},
     "output_type": "execute_result"
    }
   ],
   "source": [
    "cur.execute(\"SET autocommit=0\")"
   ]
  },
  {
   "cell_type": "code",
   "execution_count": 177,
   "metadata": {
    "collapsed": false
   },
   "outputs": [],
   "source": [
    "createCE = '''CREATE TABLE IF NOT EXISTS current_events (\n",
    "              page_id INT(8) UNSIGNED NOT NULL,\n",
    "              medianDate DATE,\n",
    "              mostRecentDate DATE,\n",
    "              PRIMARY KEY (page_id)\n",
    "              ) DEFAULT CHARACTER SET utf8'''\n",
    "cur.execute(createCE)\n",
    "connection.commit()"
   ]
  },
  {
   "cell_type": "code",
   "execution_count": 8,
   "metadata": {
    "collapsed": false
   },
   "outputs": [
    {
     "data": {
      "text/plain": [
       "'INSERT IGNORE INTO current_events(page_id,medianDate,mostRecentDate) VALUES (%s,%s,%s)'"
      ]
     },
     "execution_count": 8,
     "metadata": {},
     "output_type": "execute_result"
    }
   ],
   "source": [
    "insertCE = \"INSERT IGNORE INTO current_events({}) VALUES ({})\"\n",
    "cols = \",\".join(list(metaRecords[0].keys()))\n",
    "val_format = \",\".join(['%s']*len(list(metaRecords[0].keys())))\n",
    "formatCE = insertCE.format(cols, val_format)\n",
    "formatCE"
   ]
  },
  {
   "cell_type": "code",
   "execution_count": 9,
   "metadata": {
    "collapsed": false
   },
   "outputs": [
    {
     "name": "stdout",
     "output_type": "stream",
     "text": [
      "[13:05:50] inserting record 5000 of 75771\n",
      "[13:09:11] inserting record 10000 of 75771\n",
      "[13:14:09] inserting record 15000 of 75771\n",
      "[13:15:56] inserting record 20000 of 75771\n",
      "[13:17:03] inserting record 25000 of 75771\n",
      "[13:18:28] inserting record 30000 of 75771\n",
      "[13:19:33] inserting record 35000 of 75771\n",
      "[13:20:35] inserting record 40000 of 75771\n",
      "[13:21:29] inserting record 45000 of 75771\n",
      "[13:22:25] inserting record 50000 of 75771\n",
      "[13:23:28] inserting record 55000 of 75771\n",
      "[13:24:36] inserting record 60000 of 75771\n",
      "[13:25:49] inserting record 65000 of 75771\n",
      "[13:27:12] inserting record 70000 of 75771\n",
      "[13:28:19] inserting record 75000 of 75771\n"
     ]
    }
   ],
   "source": [
    "for ix,record in enumerate(metaRecords):\n",
    "    if (ix+1) % 5000 == 0:\n",
    "        now = datetime.datetime.now().time()\n",
    "        print(\"[{:02d}:{:02d}:{:02d}] inserting record {} of {}\".format(now.hour,now.minute,now.second,ix+1,len(metaRecords)))\n",
    "    values = list(record.values())\n",
    "    cur.execute(formatCE, values)\n",
    "    \n",
    "connection.commit()"
   ]
  },
  {
   "cell_type": "code",
   "execution_count": 180,
   "metadata": {
    "collapsed": false
   },
   "outputs": [],
   "source": [
    "createDC = '''CREATE TABLE IF NOT EXISTS date_context (\n",
    "              page_id INT(8) UNSIGNED NOT NULL,\n",
    "              ft_date DATE NOT NULL,\n",
    "              prev_context TEXT,\n",
    "              text_date VARCHAR(20),\n",
    "              next_context TEXT,\n",
    "              PRIMARY KEY (page_id, ft_date)\n",
    "              ) DEFAULT CHARACTER SET utf8'''\n",
    "cur.execute(createDC)\n",
    "connection.commit()"
   ]
  },
  {
   "cell_type": "code",
   "execution_count": 10,
   "metadata": {
    "collapsed": false
   },
   "outputs": [],
   "source": [
    "def BatchInsertRecordsFromListOfDicts(table, records, cursor=cur, connection=connection):\n",
    "    insert = \"INSERT IGNORE INTO {}({}) VALUES ({})\"\n",
    "    cols = \",\".join(list(records[0].keys()))\n",
    "    val_format = \",\".join(['%s']*len(list(records[0].keys())))\n",
    "    formatI = insert.format(table, cols, val_format)\n",
    "    totRecords = len(records)\n",
    "    now = datetime.datetime.now().time()\n",
    "    print(\"[{:02d}:{:02d}:{:02d}] {} records to insert\".format(now.hour,now.minute,now.second,totRecords))\n",
    "    for ix,record in enumerate(records):\n",
    "        if (ix + 1) % 5000 == 0:\n",
    "            now = datetime.datetime.now().time()\n",
    "            print(\"[{:02d}:{:02d}:{:02d}] {} of {} records processed\".format(now.hour,now.minute,now.second,ix + 1,totRecords))\n",
    "        values = list(record.values())\n",
    "        cur.execute(formatI,values)\n",
    "    print(\"Finished; committing transaction.\")\n",
    "    connection.commit()\n",
    "    print(\"Done!\")"
   ]
  },
  {
   "cell_type": "code",
   "execution_count": 11,
   "metadata": {
    "collapsed": false
   },
   "outputs": [
    {
     "name": "stdout",
     "output_type": "stream",
     "text": [
      "[13:31:00] 222019 records to insert\n",
      "[13:31:57] 5000 of 222019 records processed\n",
      "[13:33:00] 10000 of 222019 records processed\n",
      "[13:34:01] 15000 of 222019 records processed\n",
      "[13:35:06] 20000 of 222019 records processed\n",
      "[13:36:13] 25000 of 222019 records processed\n",
      "[13:37:16] 30000 of 222019 records processed\n",
      "[13:38:30] 35000 of 222019 records processed\n",
      "[13:39:38] 40000 of 222019 records processed\n",
      "[13:41:06] 45000 of 222019 records processed\n",
      "[13:42:28] 50000 of 222019 records processed\n",
      "[13:44:01] 55000 of 222019 records processed\n",
      "[13:45:04] 60000 of 222019 records processed\n",
      "[13:46:00] 65000 of 222019 records processed\n",
      "[13:46:56] 70000 of 222019 records processed\n",
      "[13:47:54] 75000 of 222019 records processed\n",
      "[13:48:56] 80000 of 222019 records processed\n",
      "[13:49:57] 85000 of 222019 records processed\n",
      "[13:51:03] 90000 of 222019 records processed\n",
      "[13:52:16] 95000 of 222019 records processed\n",
      "[13:53:59] 100000 of 222019 records processed\n",
      "[13:55:11] 105000 of 222019 records processed\n",
      "[13:56:33] 110000 of 222019 records processed\n",
      "[13:57:59] 115000 of 222019 records processed\n",
      "[13:59:28] 120000 of 222019 records processed\n",
      "[14:00:58] 125000 of 222019 records processed\n",
      "[14:02:47] 130000 of 222019 records processed\n",
      "[14:04:07] 135000 of 222019 records processed\n",
      "[14:05:42] 140000 of 222019 records processed\n",
      "[14:07:03] 145000 of 222019 records processed\n",
      "[14:08:21] 150000 of 222019 records processed\n",
      "[14:09:33] 155000 of 222019 records processed\n",
      "[14:11:25] 160000 of 222019 records processed\n",
      "[14:12:55] 165000 of 222019 records processed\n",
      "[14:14:18] 170000 of 222019 records processed\n",
      "[14:15:36] 175000 of 222019 records processed\n",
      "[14:17:06] 180000 of 222019 records processed\n",
      "[14:18:15] 185000 of 222019 records processed\n",
      "[14:19:21] 190000 of 222019 records processed\n",
      "[14:20:37] 195000 of 222019 records processed\n",
      "[14:21:50] 200000 of 222019 records processed\n",
      "[14:23:09] 205000 of 222019 records processed\n",
      "[14:24:11] 210000 of 222019 records processed\n",
      "[14:25:15] 215000 of 222019 records processed\n",
      "[14:26:27] 220000 of 222019 records processed\n",
      "Finished; committing transaction.\n",
      "Done!\n"
     ]
    }
   ],
   "source": [
    "BatchInsertRecordsFromListOfDicts(\"date_context\",contextRecords)"
   ]
  },
  {
   "cell_type": "code",
   "execution_count": null,
   "metadata": {
    "collapsed": true
   },
   "outputs": [],
   "source": []
  }
 ],
 "metadata": {
  "kernelspec": {
   "display_name": "Python 3",
   "language": "python",
   "name": "python3"
  },
  "language_info": {
   "codemirror_mode": {
    "name": "ipython",
    "version": 3
   },
   "file_extension": ".py",
   "mimetype": "text/x-python",
   "name": "python",
   "nbconvert_exporter": "python",
   "pygments_lexer": "ipython3",
   "version": "3.5.1"
  }
 },
 "nbformat": 4,
 "nbformat_minor": 0
}
