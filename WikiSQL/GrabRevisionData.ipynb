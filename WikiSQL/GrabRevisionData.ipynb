{
 "cells": [
  {
   "cell_type": "code",
   "execution_count": null,
   "metadata": {
    "collapsed": false
   },
   "outputs": [],
   "source": [
    "import pandas as pd\n",
    "import Revisions\n",
    "from time import time\n",
    "import numpy as np\n",
    "import re\n",
    "from datetime import date, timedelta\n",
    "from os.path import isfile\n",
    "import pymysql\n",
    "import matplotlib.pyplot as plt\n",
    "import Revisions\n",
    "%pylab inline"
   ]
  },
  {
   "cell_type": "code",
   "execution_count": 7,
   "metadata": {
    "collapsed": false
   },
   "outputs": [],
   "source": [
    "df_ep = pd.read_csv('070916_edit_protected_articles.csv')\n",
    "df_nep = pd.read_csv('../Sampling/071816_batch1_sampled_ids.csv')"
   ]
  },
  {
   "cell_type": "code",
   "execution_count": 35,
   "metadata": {
    "collapsed": false
   },
   "outputs": [],
   "source": [
    "start = 0\n",
    "end = len(df_ep['page_id'].values)\n",
    "#revs = [Revisions.GetRevisions(df_ep['page_id'].values[i]) for i in range(start, end)]"
   ]
  },
  {
   "cell_type": "code",
   "execution_count": 22,
   "metadata": {
    "collapsed": false
   },
   "outputs": [
    {
     "name": "stdout",
     "output_type": "stream",
     "text": [
      "467.97453117370605\n"
     ]
    }
   ],
   "source": [
    "t0 = time()\n",
    "dfs = [Revisions.RevisionToWeeklyAgg(revs[i]) if revs[i] is not None else None for i in range(start, end)]\n",
    "print(time() - t0)"
   ]
  },
  {
   "cell_type": "code",
   "execution_count": 23,
   "metadata": {
    "collapsed": false
   },
   "outputs": [],
   "source": [
    "path1 = 'RevisionsOverTime.csv'\n",
    "path2 = 'Proections.csv'\n",
    "for item in dfs:\n",
    "    if item is not None:\n",
    "        header = not isfile(path1)\n",
    "        item[0].to_csv(path1, mode='a', header=header, index=False)\n",
    "        item[1].to_csv(path2, mode='a', header=header, index=False)"
   ]
  },
  {
   "cell_type": "code",
   "execution_count": 3,
   "metadata": {
    "collapsed": false
   },
   "outputs": [
    {
     "name": "stdout",
     "output_type": "stream",
     "text": [
      "1017.2210521697998\n",
      "758.7836220264435\n",
      "744.7387599945068\n",
      "617.6742000579834\n",
      "613.7158410549164\n",
      "583.1798288822174\n",
      "526.8332529067993\n"
     ]
    }
   ],
   "source": [
    "path1 = 'RevisionsOverTime_ep_V5.csv'\n",
    "path2 = 'Proections_ep_V5.csv'\n",
    "i = 0\n",
    "while True:\n",
    "    t0 = time()\n",
    "    if i + 1000 < len(df_ep['page_id'].values):\n",
    "        Revisions.WriteRevsToFile(df_ep, i, i + 1000, path1, path2)\n",
    "        i = i + 1000\n",
    "    else:\n",
    "        Revisions.WriteRevsToFile(df_ep, i, len(df_ep['page_id'].values), path1, path2)\n",
    "        break\n",
    "    print(time() - t0)"
   ]
  },
  {
   "cell_type": "code",
   "execution_count": 8,
   "metadata": {
    "collapsed": false
   },
   "outputs": [
    {
     "name": "stdout",
     "output_type": "stream",
     "text": [
      "619.9270131587982\n",
      "600.0186240673065\n",
      "696.2238388061523\n",
      "706.3109328746796\n",
      "638.3793778419495\n",
      "637.9818201065063\n",
      "631.2505769729614\n",
      "537.2403650283813\n",
      "564.6604261398315\n",
      "641.1110799312592\n"
     ]
    }
   ],
   "source": [
    "path1 = 'RevisionsOverTime_nep_Sample1.csv'\n",
    "path2 = 'Proections_nep_Sample1.csv'\n",
    "i = 0\n",
    "while True:\n",
    "    t0 = time()\n",
    "    if i + 1000 < len(df_nep['page_id'].values):\n",
    "        Revisions.WriteRevsToFile(df_nep, i, i + 1000, path1, path2)\n",
    "        i = i + 1000\n",
    "    else:\n",
    "        Revisions.WriteRevsToFile(df_nep, i, len(df_nep['page_id'].values), path1, path2)\n",
    "        break\n",
    "    print(time() - t0)"
   ]
  },
  {
   "cell_type": "code",
   "execution_count": 17,
   "metadata": {
    "collapsed": true
   },
   "outputs": [],
   "source": [
    "creds = {'user': 'kevin', \n",
    "         'pswd': 'osullivan'} \n",
    "\n",
    "\n",
    "atriskwikiconn = pymysql.connect(host=\"atriskwiki.cbprs6vpqcbz.us-west-1.rds.amazonaws.com\",\n",
    "                            user=creds['user'],\n",
    "                            password=creds['pswd'],\n",
    "                            port=3306,\n",
    "                            db=\"atriskwiki\",\n",
    "                            charset=\"utf8\")"
   ]
  },
  {
   "cell_type": "code",
   "execution_count": 18,
   "metadata": {
    "collapsed": true
   },
   "outputs": [],
   "source": [
    "cur = atriskwikiconn.cursor()"
   ]
  },
  {
   "cell_type": "code",
   "execution_count": 16,
   "metadata": {
    "collapsed": false
   },
   "outputs": [
    {
     "name": "stdout",
     "output_type": "stream",
     "text": [
      "8\n",
      "465.5133571624756\n",
      "480.36433506011963\n",
      "387.1961770057678\n",
      "373.4269640445709\n",
      "370.5486090183258\n",
      "369.1944651603699\n",
      "453.7466731071472\n"
     ]
    }
   ],
   "source": [
    "for batch in [8]:\n",
    "    print(batch)\n",
    "    cur.execute(\"SELECT page_id FROM core WHERE page_batch = %d;\" % batch)\n",
    "    data = cur.fetchall()\n",
    "    data = [item[0] for item in data]\n",
    "    path1 = 'RevisionsOverTime_nep_Sample%d.csv' % batch\n",
    "    path2 = 'Proections_nep_Sample%d.csv' % batch\n",
    "    i = 0\n",
    "    while True:\n",
    "        t0 = time()\n",
    "        if i + 1000 < len(data):\n",
    "            Revisions.WriteRevsToFile(data, i, i + 1000, path1, path2)\n",
    "            i = i + 1000\n",
    "        else:\n",
    "            Revisions.WriteRevsToFile(data, i, len(data), path1, path2)\n",
    "            break\n",
    "        print(time() - t0)"
   ]
  },
  {
   "cell_type": "code",
   "execution_count": 8,
   "metadata": {
    "collapsed": false
   },
   "outputs": [
    {
     "name": "stdout",
     "output_type": "stream",
     "text": [
      "8000\n"
     ]
    }
   ],
   "source": [
    "print(i)"
   ]
  },
  {
   "cell_type": "code",
   "execution_count": 19,
   "metadata": {
    "collapsed": true
   },
   "outputs": [],
   "source": [
    "cur.execute(\"SELECT page_title, page_id FROM core WHERE page_batch = %d;\" % 2)\n",
    "data = cur.fetchall()"
   ]
  },
  {
   "cell_type": "code",
   "execution_count": 21,
   "metadata": {
    "collapsed": false
   },
   "outputs": [],
   "source": [
    "page_titles = [item[0] for item in data]\n",
    "page_ids = [item[1] for item in data]"
   ]
  },
  {
   "cell_type": "code",
   "execution_count": 22,
   "metadata": {
    "collapsed": false
   },
   "outputs": [
    {
     "data": {
      "text/plain": [
       "'Academy_Award_for_Best_Production_Design'"
      ]
     },
     "execution_count": 22,
     "metadata": {},
     "output_type": "execute_result"
    }
   ],
   "source": [
    "page_titles[0]"
   ]
  },
  {
   "cell_type": "code",
   "execution_count": null,
   "metadata": {
    "collapsed": true
   },
   "outputs": [],
   "source": []
  }
 ],
 "metadata": {
  "kernelspec": {
   "display_name": "Python 3",
   "language": "python",
   "name": "python3"
  },
  "language_info": {
   "codemirror_mode": {
    "name": "ipython",
    "version": 3
   },
   "file_extension": ".py",
   "mimetype": "text/x-python",
   "name": "python",
   "nbconvert_exporter": "python",
   "pygments_lexer": "ipython3",
   "version": "3.4.4"
  }
 },
 "nbformat": 4,
 "nbformat_minor": 0
}
