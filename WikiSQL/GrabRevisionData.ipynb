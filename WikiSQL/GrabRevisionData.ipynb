{
 "cells": [
  {
   "cell_type": "code",
   "execution_count": 5,
   "metadata": {
    "collapsed": false
   },
   "outputs": [
    {
     "name": "stdout",
     "output_type": "stream",
     "text": [
      "Populating the interactive namespace from numpy and matplotlib\n"
     ]
    }
   ],
   "source": [
    "import pandas as pd\n",
    "import Revisions\n",
    "from time import time\n",
    "import numpy as np\n",
    "import re\n",
    "from datetime import date, timedelta\n",
    "from os.path import isfile\n",
    "import pymysql\n",
    "import matplotlib.pyplot as plt\n",
    "import Revisions\n",
    "%pylab inline"
   ]
  },
  {
   "cell_type": "code",
   "execution_count": 2,
   "metadata": {
    "collapsed": false
   },
   "outputs": [],
   "source": [
    "df_ep = pd.read_csv('070916_edit_protected_articles.csv')\n",
    "df_nep = pd.read_csv('../Sampling/071816_batch1_sampled_ids.csv')"
   ]
  },
  {
   "cell_type": "code",
   "execution_count": 3,
   "metadata": {
    "collapsed": false
   },
   "outputs": [],
   "source": [
    "start = 0\n",
    "end = len(df_ep['page_id'].values)\n",
    "#revs = [Revisions.GetRevisions(df_ep['page_id'].values[i]) for i in range(start, end)]"
   ]
  },
  {
   "cell_type": "code",
   "execution_count": 22,
   "metadata": {
    "collapsed": false
   },
   "outputs": [
    {
     "name": "stdout",
     "output_type": "stream",
     "text": [
      "467.97453117370605\n"
     ]
    }
   ],
   "source": [
    "t0 = time()\n",
    "dfs = [Revisions.RevisionToWeeklyAgg(revs[i]) if revs[i] is not None else None for i in range(start, end)]\n",
    "print(time() - t0)"
   ]
  },
  {
   "cell_type": "code",
   "execution_count": 23,
   "metadata": {
    "collapsed": false
   },
   "outputs": [],
   "source": [
    "path1 = 'RevisionsOverTime.csv'\n",
    "path2 = 'Proections.csv'\n",
    "for item in dfs:\n",
    "    if item is not None:\n",
    "        header = not isfile(path1)\n",
    "        item[0].to_csv(path1, mode='a', header=header, index=False)\n",
    "        item[1].to_csv(path2, mode='a', header=header, index=False)"
   ]
  },
  {
   "cell_type": "code",
   "execution_count": 4,
   "metadata": {
    "collapsed": false
   },
   "outputs": [
    {
     "name": "stdout",
     "output_type": "stream",
     "text": [
      "914.6709489822388\n",
      "743.4928541183472\n",
      "673.226371049881\n",
      "617.0911591053009\n",
      "655.1088061332703\n",
      "667.0097079277039\n",
      "614.1662881374359\n"
     ]
    }
   ],
   "source": [
    "path1 = 'RevisionsOverTime_ep_V6.csv'\n",
    "path2 = 'Proections_ep_V6.csv'\n",
    "i = 0\n",
    "while True:\n",
    "    t0 = time()\n",
    "    if i + 1000 < len(df_ep['page_id'].values):\n",
    "        Revisions.WriteRevsToFile(df_ep['page_id'].values, i, i + 1000, path1, path2)\n",
    "        i = i + 1000\n",
    "    else:\n",
    "        Revisions.WriteRevsToFile(df_ep['page_id'].values, i, len(df_ep['page_id'].values), path1, path2)\n",
    "        break\n",
    "    print(time() - t0)"
   ]
  },
  {
   "cell_type": "code",
   "execution_count": 8,
   "metadata": {
    "collapsed": false
   },
   "outputs": [
    {
     "name": "stdout",
     "output_type": "stream",
     "text": [
      "619.9270131587982\n",
      "600.0186240673065\n",
      "696.2238388061523\n",
      "706.3109328746796\n",
      "638.3793778419495\n",
      "637.9818201065063\n",
      "631.2505769729614\n",
      "537.2403650283813\n",
      "564.6604261398315\n",
      "641.1110799312592\n"
     ]
    }
   ],
   "source": [
    "path1 = 'RevisionsOverTime_nep_Sample1.csv'\n",
    "path2 = 'Proections_nep_Sample1.csv'\n",
    "i = 0\n",
    "while True:\n",
    "    t0 = time()\n",
    "    if i + 1000 < len(df_nep['page_id'].values):\n",
    "        Revisions.WriteRevsToFile(df_nep, i, i + 1000, path1, path2)\n",
    "        i = i + 1000\n",
    "    else:\n",
    "        Revisions.WriteRevsToFile(df_nep, i, len(df_nep['page_id'].values), path1, path2)\n",
    "        break\n",
    "    print(time() - t0)"
   ]
  },
  {
   "cell_type": "code",
   "execution_count": 6,
   "metadata": {
    "collapsed": true
   },
   "outputs": [],
   "source": [
    "creds = {'user': 'kevin', \n",
    "         'pswd': 'osullivan'} \n",
    "\n",
    "\n",
    "atriskwikiconn = pymysql.connect(host=\"atriskwiki.cbprs6vpqcbz.us-west-1.rds.amazonaws.com\",\n",
    "                            user=creds['user'],\n",
    "                            password=creds['pswd'],\n",
    "                            port=3306,\n",
    "                            db=\"atriskwiki\",\n",
    "                            charset=\"utf8\")"
   ]
  },
  {
   "cell_type": "code",
   "execution_count": 7,
   "metadata": {
    "collapsed": true
   },
   "outputs": [],
   "source": [
    "cur = atriskwikiconn.cursor()"
   ]
  },
  {
   "cell_type": "code",
   "execution_count": 8,
   "metadata": {
    "collapsed": false
   },
   "outputs": [
    {
     "name": "stdout",
     "output_type": "stream",
     "text": [
      "1\n",
      "530.7052299976349\n",
      "481.672837972641\n",
      "469.97899198532104\n",
      "515.2236320972443\n",
      "481.5783450603485\n",
      "470.2797360420227\n",
      "466.54389119148254\n",
      "463.6826181411743\n",
      "444.4895329475403\n",
      "2\n",
      "499.017294883728\n",
      "472.7494750022888\n",
      "462.3438138961792\n",
      "460.7908630371094\n",
      "454.74826407432556\n",
      "452.3596329689026\n",
      "447.561527967453\n",
      "443.17200994491577\n",
      "3\n",
      "502.5242929458618\n",
      "479.757443189621\n",
      "474.54514384269714\n",
      "482.8369131088257\n",
      "452.5741250514984\n",
      "450.12632393836975\n",
      "449.0543761253357\n",
      "447.0975329875946\n",
      "446.3962140083313\n",
      "4\n",
      "556.7018671035767\n",
      "519.4286870956421\n",
      "526.8034279346466\n",
      "569.348659992218\n",
      "546.9274079799652\n",
      "554.7628099918365\n",
      "573.8924160003662\n",
      "558.5083048343658\n",
      "548.8497231006622\n",
      "5\n",
      "577.7293810844421\n",
      "542.033252954483\n",
      "551.488734960556\n",
      "561.9272110462189\n",
      "508.2713589668274\n",
      "503.3398640155792\n",
      "471.04532289505005\n",
      "448.6639709472656\n",
      "447.4896328449249\n",
      "6\n",
      "506.63947200775146\n",
      "524.0363531112671\n",
      "472.84568905830383\n",
      "454.4540250301361\n",
      "452.1773691177368\n",
      "448.70884108543396\n",
      "444.2672870159149\n",
      "469.4681041240692\n",
      "455.3660321235657\n",
      "7\n",
      "575.9878959655762\n",
      "527.5757069587708\n",
      "584.9010519981384\n",
      "566.8287658691406\n",
      "724.1265170574188\n",
      "749.3238861560822\n",
      "2156.2659850120544\n",
      "568.7147889137268\n",
      "508.7389509677887\n",
      "8\n",
      "651.7647888660431\n",
      "541.849198102951\n",
      "520.0746269226074\n",
      "452.7396469116211\n",
      "452.807168006897\n",
      "479.19987201690674\n",
      "487.1811101436615\n"
     ]
    }
   ],
   "source": [
    "for batch in range(1, 9):\n",
    "    print(batch)\n",
    "    cur.execute(\"SELECT page_id FROM core WHERE page_batch = %d;\" % batch)\n",
    "    data = cur.fetchall()\n",
    "    data = [item[0] for item in data]\n",
    "    path1 = 'RevisionsOverTime_nep_Sample%d_V6.csv' % batch\n",
    "    path2 = 'Proections_nep_Sample%d_V6.csv' % batch\n",
    "    i = 0\n",
    "    while True:\n",
    "        t0 = time()\n",
    "        if i + 1000 < len(data):\n",
    "            Revisions.WriteRevsToFile(data, i, i + 1000, path1, path2)\n",
    "            i = i + 1000\n",
    "        else:\n",
    "            Revisions.WriteRevsToFile(data, i, len(data), path1, path2)\n",
    "            break\n",
    "        print(time() - t0)"
   ]
  },
  {
   "cell_type": "code",
   "execution_count": 8,
   "metadata": {
    "collapsed": false
   },
   "outputs": [
    {
     "name": "stdout",
     "output_type": "stream",
     "text": [
      "8000\n"
     ]
    }
   ],
   "source": [
    "print(i)"
   ]
  },
  {
   "cell_type": "code",
   "execution_count": 19,
   "metadata": {
    "collapsed": true
   },
   "outputs": [],
   "source": [
    "cur.execute(\"SELECT page_title, page_id FROM core WHERE page_batch = %d;\" % 2)\n",
    "data = cur.fetchall()"
   ]
  },
  {
   "cell_type": "code",
   "execution_count": 21,
   "metadata": {
    "collapsed": false
   },
   "outputs": [],
   "source": [
    "page_titles = [item[0] for item in data]\n",
    "page_ids = [item[1] for item in data]"
   ]
  },
  {
   "cell_type": "code",
   "execution_count": null,
   "metadata": {
    "collapsed": true
   },
   "outputs": [],
   "source": []
  }
 ],
 "metadata": {
  "kernelspec": {
   "display_name": "Python 3",
   "language": "python",
   "name": "python3"
  },
  "language_info": {
   "codemirror_mode": {
    "name": "ipython",
    "version": 3
   },
   "file_extension": ".py",
   "mimetype": "text/x-python",
   "name": "python",
   "nbconvert_exporter": "python",
   "pygments_lexer": "ipython3",
   "version": "3.4.4"
  }
 },
 "nbformat": 4,
 "nbformat_minor": 0
}
