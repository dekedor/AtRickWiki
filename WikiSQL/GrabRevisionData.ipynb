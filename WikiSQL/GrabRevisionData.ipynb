{
 "cells": [
  {
   "cell_type": "code",
   "execution_count": 1,
   "metadata": {
    "collapsed": false
   },
   "outputs": [],
   "source": [
    "import pandas as pd\n",
    "import Revisions\n",
    "from time import time\n",
    "import numpy as np\n",
    "import re\n",
    "from datetime import date, timedelta\n",
    "from os.path import isfile\n",
    "import pymysql"
   ]
  },
  {
   "cell_type": "code",
   "execution_count": 2,
   "metadata": {
    "collapsed": true
   },
   "outputs": [],
   "source": [
    "df_ep = pd.read_csv('070916_edit_protected_articles.csv')\n",
    "df_nep = pd.read_csv('071016_non_edit_protected_articles.csv')"
   ]
  },
  {
   "cell_type": "code",
   "execution_count": 3,
   "metadata": {
    "collapsed": false
   },
   "outputs": [
    {
     "name": "stdout",
     "output_type": "stream",
     "text": [
      "2948.918939113617\n"
     ]
    }
   ],
   "source": [
    "t0 = time()\n",
    "start = 0\n",
    "end = len(df_ep['page_id'].values)\n",
    "revs = [Revisions.GetRevisions(df_ep['page_id'].values[i]) for i in range(start, end)]\n",
    "print(time() - t0)"
   ]
  },
  {
   "cell_type": "code",
   "execution_count": 22,
   "metadata": {
    "collapsed": false
   },
   "outputs": [
    {
     "name": "stdout",
     "output_type": "stream",
     "text": [
      "467.97453117370605\n"
     ]
    }
   ],
   "source": [
    "t0 = time()\n",
    "dfs = [Revisions.RevisionToWeeklyAgg(revs[i]) if revs[i] is not None else None for i in range(start, end)]\n",
    "print(time() - t0)"
   ]
  },
  {
   "cell_type": "code",
   "execution_count": 23,
   "metadata": {
    "collapsed": false
   },
   "outputs": [],
   "source": [
    "path1 = 'RevisionsOverTime.csv'\n",
    "path2 = 'Proections.csv'\n",
    "for item in dfs:\n",
    "    if item is not None:\n",
    "        header = not isfile(path1)\n",
    "        item[0].to_csv(path1, mode='a', header=header, index=False)\n",
    "        item[1].to_csv(path2, mode='a', header=header, index=False)"
   ]
  },
  {
   "cell_type": "code",
   "execution_count": 24,
   "metadata": {
    "collapsed": false
   },
   "outputs": [
    {
     "name": "stdout",
     "output_type": "stream",
     "text": [
      "-rw-r--r--  1 dekedor  staff   1.1M Jul 10 10:43 070916_edit_protected_articles.csv\r\n",
      "-rw-r--r--  1 dekedor  staff   5.2M Jul 10 23:39 071016_non_edit_protected_articles.csv\r\n",
      "-rw-r--r--  1 dekedor  staff   7.2M Jul 14 12:08 Proections.csv\r\n",
      "-rw-r--r--  1 dekedor  staff    32M Jul 14 12:08 RevisionsOverTime.csv\r\n",
      "-rw-r--r--  1 dekedor  staff   261K Jul  8 19:56 candidate_titles_edit_locked_articles.csv\r\n"
     ]
    }
   ],
   "source": [
    "ls -lh *.csv"
   ]
  },
  {
   "cell_type": "code",
   "execution_count": null,
   "metadata": {
    "collapsed": true
   },
   "outputs": [],
   "source": []
  }
 ],
 "metadata": {
  "kernelspec": {
   "display_name": "Python 3",
   "language": "python",
   "name": "python3"
  },
  "language_info": {
   "codemirror_mode": {
    "name": "ipython",
    "version": 3
   },
   "file_extension": ".py",
   "mimetype": "text/x-python",
   "name": "python",
   "nbconvert_exporter": "python",
   "pygments_lexer": "ipython3",
   "version": "3.4.4"
  }
 },
 "nbformat": 4,
 "nbformat_minor": 0
}
