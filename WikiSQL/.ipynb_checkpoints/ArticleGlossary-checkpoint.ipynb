{
 "cells": [
  {
   "cell_type": "code",
   "execution_count": 1,
   "metadata": {
    "collapsed": true
   },
   "outputs": [],
   "source": [
    "import pandas as pd\n",
    "epa_articles = pd.read_csv(\"070916_edit_protected_articles.csv\")"
   ]
  },
  {
   "cell_type": "code",
   "execution_count": 2,
   "metadata": {
    "collapsed": false
   },
   "outputs": [
    {
     "name": "stdout",
     "output_type": "stream",
     "text": [
      "<class 'pandas.core.frame.DataFrame'>\n",
      "RangeIndex: 7526 entries, 0 to 7525\n",
      "Data columns (total 20 columns):\n",
      "page_id               7526 non-null int64\n",
      "page_namespace        7526 non-null int64\n",
      "page_title            7526 non-null object\n",
      "page_restrictions     4 non-null object\n",
      "page_counter          7526 non-null int64\n",
      "page_is_redirect      7526 non-null int64\n",
      "page_is_new           7526 non-null int64\n",
      "page_random           7526 non-null float64\n",
      "page_touched          7526 non-null int64\n",
      "page_links_updated    7526 non-null int64\n",
      "page_latest           7526 non-null int64\n",
      "page_len              7526 non-null int64\n",
      "page_content_model    7526 non-null object\n",
      "pr_page               7526 non-null int64\n",
      "pr_type               7526 non-null object\n",
      "pr_level              7526 non-null object\n",
      "pr_cascade            7526 non-null int64\n",
      "pr_user               0 non-null float64\n",
      "pr_expiry             7525 non-null object\n",
      "pr_id                 7526 non-null int64\n",
      "dtypes: float64(2), int64(12), object(6)\n",
      "memory usage: 1.1+ MB\n"
     ]
    }
   ],
   "source": [
    "epa_articles.info()"
   ]
  },
  {
   "cell_type": "code",
   "execution_count": 4,
   "metadata": {
    "collapsed": false
   },
   "outputs": [
    {
     "data": {
      "text/html": [
       "<div>\n",
       "<table border=\"1\" class=\"dataframe\">\n",
       "  <thead>\n",
       "    <tr style=\"text-align: right;\">\n",
       "      <th></th>\n",
       "      <th>page_id</th>\n",
       "      <th>page_namespace</th>\n",
       "      <th>page_title</th>\n",
       "      <th>page_restrictions</th>\n",
       "      <th>page_counter</th>\n",
       "      <th>page_is_redirect</th>\n",
       "      <th>page_is_new</th>\n",
       "      <th>page_random</th>\n",
       "      <th>page_touched</th>\n",
       "      <th>page_links_updated</th>\n",
       "      <th>page_latest</th>\n",
       "      <th>page_len</th>\n",
       "      <th>page_content_model</th>\n",
       "      <th>pr_page</th>\n",
       "      <th>pr_type</th>\n",
       "      <th>pr_level</th>\n",
       "      <th>pr_cascade</th>\n",
       "      <th>pr_user</th>\n",
       "      <th>pr_expiry</th>\n",
       "      <th>pr_id</th>\n",
       "    </tr>\n",
       "  </thead>\n",
       "  <tbody>\n",
       "    <tr>\n",
       "      <th>1827</th>\n",
       "      <td>241547</td>\n",
       "      <td>0</td>\n",
       "      <td>Stephen_Harper</td>\n",
       "      <td>NaN</td>\n",
       "      <td>0</td>\n",
       "      <td>0</td>\n",
       "      <td>0</td>\n",
       "      <td>0.461223</td>\n",
       "      <td>20160708132408</td>\n",
       "      <td>20160708123405</td>\n",
       "      <td>728233183</td>\n",
       "      <td>146785</td>\n",
       "      <td>wikitext</td>\n",
       "      <td>241547</td>\n",
       "      <td>edit</td>\n",
       "      <td>autoconfirmed</td>\n",
       "      <td>0</td>\n",
       "      <td>NaN</td>\n",
       "      <td>infinity</td>\n",
       "      <td>363991</td>\n",
       "    </tr>\n",
       "  </tbody>\n",
       "</table>\n",
       "</div>"
      ],
      "text/plain": [
       "      page_id  page_namespace      page_title page_restrictions  page_counter  \\\n",
       "1827   241547               0  Stephen_Harper               NaN             0   \n",
       "\n",
       "      page_is_redirect  page_is_new  page_random    page_touched  \\\n",
       "1827                 0            0     0.461223  20160708132408   \n",
       "\n",
       "      page_links_updated  page_latest  page_len page_content_model  pr_page  \\\n",
       "1827      20160708123405    728233183    146785           wikitext   241547   \n",
       "\n",
       "     pr_type       pr_level  pr_cascade  pr_user pr_expiry   pr_id  \n",
       "1827    edit  autoconfirmed           0      NaN  infinity  363991  "
      ]
     },
     "execution_count": 4,
     "metadata": {},
     "output_type": "execute_result"
    }
   ],
   "source": [
    "epa_articles[epa_articles['page_title'] == 'Stephen_Harper']"
   ]
  },
  {
   "cell_type": "markdown",
   "metadata": {},
   "source": [
    "# Article List Glossary\n",
    "\n",
    "**page_id**: Unique identifier for each page. Serial integer, used throughout the Wikipedia database. \n",
    "\n",
    "**page_namespace**: Integer that describes the page type. In our dataset, always 0 (0 indicates an article). \n",
    "\n",
    "**page_title**: String that contains the page title, formatted as the title appears in the URL of the article. \n",
    "\n",
    "**page_restrictions**: Garbage, ignore. \n",
    "\n",
    "**page_counter**: A legacy feature that _FORMERLY_ tracked the number of page views for each article. No longer updated, **_DO NOT USE_**.\n",
    "\n",
    "**page_is_redirect**: 1 if page is a placeholder for redirection, 0 otherwise. All of our data is 0.\n",
    "\n",
    "**page_is_new**: 1 if the current revision of a page is its only revision, 0 otherwise.\n",
    "\n",
    "**page_random**: Random float between 0 and 1 that's very likely unique for each page. Useful for random sampling. \n",
    "\n",
    "**page_touched**: YYYYMMDDHHMMSS formatted string indicating the most recent time the page was edited. \n",
    "\n",
    "**page_links_updated**: Same format as page_touched, but indicates the last time links to or from the page were updated.\n",
    "\n",
    "**page_latest**: Revision ID (from wikipedia revisions table) of the current revision of the article. \n",
    "\n",
    "**page_len**: Length in bytes of the HTML source that generates the page. \n",
    "\n",
    "**page_content_model**: Identifier of the type of content the page contains. Always contains \"wikitext\" in our dataset, I think. \n",
    "\n",
    "**pr_page**: Always equal to page_id; foreign key from the page_restrictions table used to join page and page_restrictions to generate this list.\n",
    "\n",
    "**pr_type**: Always \"edit\", as this was one of the defining characteristics in generating this list. \n",
    "\n",
    "**pr_level**: The minimum class of user to whom the specific restriction does not apply. \n",
    "\n",
    "**pr_cascade**: I have no idea. \n",
    "\n",
    "**pr_user**: Always empty. \n",
    "\n",
    "**pr_expiry**: Expiration date (in YYYYMMDDHHMMSS format) of restriction, or infinity if it never expires. \n",
    "\n",
    "**pr_id** Unique ID for the restriction, primary key of page_restrictions table. "
   ]
  },
  {
   "cell_type": "code",
   "execution_count": null,
   "metadata": {
    "collapsed": true
   },
   "outputs": [],
   "source": []
  }
 ],
 "metadata": {
  "kernelspec": {
   "display_name": "Python 3",
   "language": "python",
   "name": "python3"
  },
  "language_info": {
   "codemirror_mode": {
    "name": "ipython",
    "version": 3
   },
   "file_extension": ".py",
   "mimetype": "text/x-python",
   "name": "python",
   "nbconvert_exporter": "python",
   "pygments_lexer": "ipython3",
   "version": "3.5.1"
  }
 },
 "nbformat": 4,
 "nbformat_minor": 0
}
