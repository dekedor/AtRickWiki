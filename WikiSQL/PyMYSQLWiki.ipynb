{
 "cells": [
  {
   "cell_type": "markdown",
   "metadata": {},
   "source": [
    "This only works if you've already used ssh tunnerl into Tool Labs. The command is:\n",
    "\n",
    "ssh -L 4711:enwiki.labsdb:3306 username@tools-login.wmflabs.org\n",
    "\n",
    "To get a user account at Tool Labs, follow the instrunctions here:\n",
    "\n",
    "https://wikitech.wikimedia.org/wiki/Help:Tool_Labs/Access\n",
    "\n",
    "You will need admin approval which takes ~1 day.\n",
    "\n",
    "After you ssh into there server there will be a file called replica.my.cnf. Your username and password below will be in that file."
   ]
  },
  {
   "cell_type": "code",
   "execution_count": 49,
   "metadata": {
    "collapsed": false
   },
   "outputs": [],
   "source": [
    "import numpy as np\n",
    "import pymysql"
   ]
  },
  {
   "cell_type": "code",
   "execution_count": 50,
   "metadata": {
    "collapsed": false
   },
   "outputs": [],
   "source": [
    "username = 'u15045' # get from replica.my.cnf\n",
    "password = 'vlRyT64EYIOsSanN' # get from replica.my.cnf\n",
    "db=pymysql.connect(host='localhost',port=4711,user=username,passwd=password,db='enwiki_p')"
   ]
  },
  {
   "cell_type": "code",
   "execution_count": 51,
   "metadata": {
    "collapsed": true
   },
   "outputs": [],
   "source": [
    "cur = db.cursor()"
   ]
  },
  {
   "cell_type": "code",
   "execution_count": 52,
   "metadata": {
    "collapsed": false
   },
   "outputs": [],
   "source": [
    "cur.execute('select pr_type, page_title from page_restrictions inner join page on(page_restrictions.pr_page = \\\n",
    "page.page_id) where pr_type = \"edit\" and page_namespace = 0;')\n",
    "data = np.array(cur.fetchall())"
   ]
  },
  {
   "cell_type": "code",
   "execution_count": 55,
   "metadata": {
    "collapsed": false
   },
   "outputs": [
    {
     "name": "stdout",
     "output_type": "stream",
     "text": [
      "[b'edit' b'Autism']\n",
      "[b'edit' b'A']\n",
      "[b'edit' b'Abraham_Lincoln']\n",
      "[b'edit' b'Aristotle']\n",
      "[b'edit' b'Apollo']\n",
      "[b'edit' b'Animal_Farm']\n",
      "[b'edit' b'Alaska']\n",
      "[b'edit' b'Aldous_Huxley']\n",
      "[b'edit' b'Abacus']\n",
      "[b'edit' b'Acid']\n",
      "[b'edit' b'Apollo_11']\n",
      "[b'edit' b'Astronaut']\n",
      "[b'edit' b'Asia']\n",
      "[b'edit' b'Articles_of_Confederation']\n",
      "[b'edit' b'Albert_Einstein']\n",
      "[b'edit' b'Afghanistan']\n",
      "[b'edit' b'Allah']\n",
      "[b'edit' b'Art']\n",
      "[b'edit' b'Abortion']\n",
      "[b'edit' b'Alexander_the_Great']\n",
      "[b'edit' b'Anime']\n",
      "[b'edit' b'Anaconda']\n",
      "[b'edit' b'Attila']\n",
      "[b'edit' b'Audi']\n",
      "[b'edit' b'Alfred_Nobel']\n",
      "[b'edit' b'Alexander_Graham_Bell']\n",
      "[b'edit' b'Apple_Inc.']\n",
      "[b'edit' b'American_Civil_War']\n",
      "[b'edit' b'Andy_Warhol']\n",
      "[b'edit' b'Ancient_Egypt']\n",
      "[b'edit' b'Anna_Kournikova']\n",
      "[b'edit' b'Atom']\n",
      "[b'edit' b'Alpha']\n",
      "[b'edit' b'Alcohol']\n",
      "[b'edit' b'Aarhus']\n",
      "[b'edit' b'Antisemitism']\n",
      "[b'edit' b'Aphrodite']\n",
      "[b'edit' b'Afterlife']\n",
      "[b'edit' b'Augustus']\n",
      "[b'edit' b'Aachen']\n",
      "[b'edit' b'Acupuncture']\n",
      "[b'edit' b'Ahmad_Shah_Durrani']\n",
      "[b'edit' b'Andrew_Jackson']\n",
      "[b'edit' b'Apollo_13']\n",
      "[b'edit' b'Athenian_democracy']\n",
      "[b'edit' b'Arnold_Schwarzenegger']\n",
      "[b'edit' b'Amitabh_Bachchan']\n",
      "[b'edit' b'Archimedes']\n",
      "[b'edit' b'Al-Qaeda']\n",
      "[b'edit' b'American_Revolution']\n",
      "[b'edit' b'Auschwitz_concentration_camp']\n",
      "[b'edit' b'Amerigo_Vespucci']\n",
      "[b'edit' b'Adam_Weishaupt']\n",
      "[b'edit' b'Arizona_Diamondbacks']\n",
      "[b'edit' b'Aaliyah']\n",
      "[b'edit' b'African_Americans']\n",
      "[b'edit' b'Arsenal_F.C.']\n",
      "[b'edit' b'Ahmad_Shah_Massoud']\n",
      "[b'edit' b'Atlantis']\n",
      "[b'edit' b'Arctic_fox']\n",
      "[b'edit' b'Abu_Sayyaf']\n",
      "[b'edit' b'AFC_Ajax']\n",
      "[b'edit' b'Area_51']\n",
      "[b'edit' b'Adamic_language']\n",
      "[b'edit' b'A.S._Roma']\n",
      "[b'edit' b'Aston_Martin']\n",
      "[b'edit' b'House_of_Ascania']\n",
      "[b'edit' b'Anal_sex']\n",
      "[b'edit' b'Arc_de_Triomphe']\n",
      "[b'edit' b'Anus']\n",
      "[b'edit' b'Amphetamine']\n",
      "[b'edit' b'Ant']\n",
      "[b'edit' b'Anders_Celsius']\n",
      "[b'edit' b'Artemis']\n",
      "[b'edit' b'Albinism']\n",
      "[b'edit' b'Albanians']\n",
      "[b'edit' b'Alcoholism']\n",
      "[b'edit' b'Attribution_of_recent_climate_change']\n",
      "[b'edit' b'Al_Capone']\n",
      "[b'edit' b'Acid_rain']\n",
      "[b'edit' b'Bill_Clinton']\n",
      "[b'edit' b'Beer']\n",
      "[b'edit' b'Britney_Spears']\n",
      "[b'edit' b'Brazil']\n",
      "[b'edit' b'Bible']\n",
      "[b'edit' b'Bird']\n",
      "[b'edit' b'Bulgaria']\n",
      "[b'edit' b'Blindness']\n",
      "[b'edit' b'Bangladesh']\n",
      "[b'edit' b'Bosnia_and_Herzegovina']\n",
      "[b'edit' b'Brunei']\n",
      "[b'edit' b'Brain']\n",
      "[b'edit' b'Berlin_Wall']\n",
      "[b'edit' b'Bill_Gates']\n",
      "[b'edit' b'Book']\n",
      "[b'edit' b'Baseball']\n",
      "[b'edit' b'Basketball']\n",
      "[b'edit' b'Ball']\n",
      "[b'edit' b'Badminton']\n",
      "[b'edit' b'British_Airways']\n"
     ]
    }
   ],
   "source": [
    "for item in data[0:100]:\n",
    "    print(item)"
   ]
  },
  {
   "cell_type": "code",
   "execution_count": null,
   "metadata": {
    "collapsed": true
   },
   "outputs": [],
   "source": []
  }
 ],
 "metadata": {
  "kernelspec": {
   "display_name": "Python 3",
   "language": "python",
   "name": "python3"
  },
  "language_info": {
   "codemirror_mode": {
    "name": "ipython",
    "version": 3
   },
   "file_extension": ".py",
   "mimetype": "text/x-python",
   "name": "python",
   "nbconvert_exporter": "python",
   "pygments_lexer": "ipython3",
   "version": "3.4.4"
  }
 },
 "nbformat": 4,
 "nbformat_minor": 0
}
