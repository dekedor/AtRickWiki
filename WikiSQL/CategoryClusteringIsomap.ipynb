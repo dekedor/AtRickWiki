{
 "cells": [
  {
   "cell_type": "markdown",
   "metadata": {},
   "source": [
    "Let's try and see clusters of Categories among the wikipedia articles using the categorylinks.\n"
   ]
  },
  {
   "cell_type": "code",
   "execution_count": 1,
   "metadata": {
    "collapsed": true
   },
   "outputs": [],
   "source": [
    "import json\n",
    "import pandas as pd\n",
    "import numpy as np\n",
    "from sklearn.manifold import Isomap"
   ]
  },
  {
   "cell_type": "code",
   "execution_count": 2,
   "metadata": {
    "collapsed": false
   },
   "outputs": [
    {
     "data": {
      "text/plain": [
       "7524"
      ]
     },
     "execution_count": 2,
     "metadata": {},
     "output_type": "execute_result"
    }
   ],
   "source": [
    "# Open the file from the repository\n",
    "\n",
    "with open(\"cl_epa.txt\", \"r\") as f:\n",
    "    data=json.load(f)\n",
    "len(data)"
   ]
  },
  {
   "cell_type": "code",
   "execution_count": 3,
   "metadata": {
    "collapsed": false
   },
   "outputs": [
    {
     "data": {
      "text/plain": [
       "['All_articles_containing_potentially_dated_statements',\n",
       " 'All_articles_with_dead_external_links',\n",
       " 'Articles_containing_potentially_dated_statements_from_2014',\n",
       " 'Articles_with_DMOZ_links',\n",
       " 'Articles_with_contributors_link']"
      ]
     },
     "execution_count": 3,
     "metadata": {},
     "output_type": "execute_result"
    }
   ],
   "source": [
    "data[\"25\"][:5]"
   ]
  },
  {
   "cell_type": "code",
   "execution_count": 17,
   "metadata": {
    "collapsed": true
   },
   "outputs": [],
   "source": [
    "# I need an array of [[1,2,3... ],[0,3,5...], ...] \n",
    "# so I prepare a vocabulary to then use the vectorizer\n",
    "\n",
    "# Create the all-encompassing vocabulary\n",
    "import re\n",
    "\n",
    "def GetVocabList(data_dict):\n",
    "    #data_dict is a dictionary {keys}:[\"str1\", \"str2\",..., \"strN\"]\n",
    "    #this functions yields [\"str1\", \"str2\", ... \"strM\"], where M is the sum of N over all Keys\n",
    "    list_categories = []\n",
    "    cl_index=[]\n",
    "    for key in data_dict: \n",
    "        cl_index.append(key)\n",
    "        links=[]\n",
    "        for n in range(len(data_dict[key])):\n",
    "        \n",
    "            # Choose which of the following regular expressions to remove\n",
    "            \n",
    "            re0=\"protected_page\"\n",
    "            re1=\"with_accessdate\"\n",
    "            re2=\"rticle\"\n",
    "            re3=\"ikipedia\"\n",
    "            re4=\"to_be_expanded\"\n",
    "            re5=\"with_unsourced_statements\"\n",
    "            re6=\"needing_additional_references\"\n",
    "            re7=\"lacking_sources\"\n",
    "            re8=\"containing_potentially_dated_statements\"\n",
    "            re9=\"with_dead_external_links\"\n",
    "            re10=\"Certification_Table_Entry_usages_for\"\n",
    "            re11=\"language_sources\"\n",
    "            re12=\"rticles_containing\"\n",
    "            re13=\"page\"\n",
    "            re14=\"CS1\"\n",
    "            re15=\"dmy_dates\"\n",
    "            re16=\"Wiki\"\n",
    "            re17=\"Pages\"\n",
    "            re18=\"List\"\n",
    "            re19=\"list\"\n",
    "            \n",
    "            Rex=[re0,re1,re2,re3,re4,re5,re6,re7,re8,re9,re10,re11,re12,re13,re14,re15,re16,re17,re18,re19]\n",
    "            \n",
    "            if not any(re.search(regex, data_dict[key][n]) for regex in Rex):\n",
    "                links.append(data_dict[key][n])\n",
    "        links=\" \".join(links)\n",
    "        list_categories.append(links)\n",
    "                \n",
    "    return list_categories, cl_index\n",
    "\n",
    "# list_categories looks like [\"str1 strN\", ..., \"... str137593\"]]. A list strings, each is \" \".join(links_in_article)"
   ]
  },
  {
   "cell_type": "code",
   "execution_count": 18,
   "metadata": {
    "collapsed": false
   },
   "outputs": [
    {
     "name": "stdout",
     "output_type": "stream",
     "text": [
      "7524\n",
      "7524\n",
      "17262374\n",
      "['1990_births', '2014_FIFA_World_Cup_players', '2015_Copa_América_players', 'A.S._Roma_players', 'Association_football_forwards', 'Atlético_Nacional_footballers', 'CS1_Greek-language_sources_(el)', 'CS1_Italian-language_sources_(it)', 'CS1_Spanish-language_sources_(es)', 'Cagliari_Calcio_players', 'Categoría_Primera_A_players', 'Colombia_international_footballers', 'Colombia_under-20_international_footballers', 'Colombian_expatriate_footballers', 'Colombian_expatriates_in_England', 'Colombian_expatriates_in_Greece', 'Colombian_expatriates_in_Italy', 'Colombian_footballers', 'Colombian_people_of_African_descent', 'Expatriate_footballers_in_England', 'Expatriate_footballers_in_Greece', 'Expatriate_footballers_in_Italy', 'Living_people', 'Panathinaikos_F.C._players', 'People_from_Nariño_Department', 'Premier_League_players', 'Serie_A_players', 'Watford_F.C._players', 'Wikipedia_pending_changes_protected_pages_(level_1)', 'Wikipedia_protected_pages_without_expiry']\n",
      "1990_births 2014_FIFA_World_Cup_players 2015_Copa_América_players A.S._Roma_players Association_football_forwards Atlético_Nacional_footballers Cagliari_Calcio_players Categoría_Primera_A_players Colombia_international_footballers Colombia_under-20_international_footballers Colombian_expatriate_footballers Colombian_expatriates_in_England Colombian_expatriates_in_Greece Colombian_expatriates_in_Italy Colombian_footballers Colombian_people_of_African_descent Expatriate_footballers_in_England Expatriate_footballers_in_Greece Expatriate_footballers_in_Italy Living_people Panathinaikos_F.C._players People_from_Nariño_Department Premier_League_players Serie_A_players Watford_F.C._players\n"
     ]
    }
   ],
   "source": [
    "# Get clean list of links\n",
    "clean_categories, epa_id = GetVocabList(data)\n",
    "\n",
    "print(len(clean_categories))\n",
    "print(len(epa_id))\n",
    "print(epa_id[3200])\n",
    "print(data[epa_id[3200]])\n",
    "print(clean_categories[3200])   #it's a list of strings"
   ]
  },
  {
   "cell_type": "code",
   "execution_count": 19,
   "metadata": {
    "collapsed": false
   },
   "outputs": [
    {
     "data": {
      "text/plain": [
       "'1990_births 2014_FIFA_World_Cup_players 2015_Copa_América_players A.S._Roma_players Association_football_forwards Atlético_Nacional_footballers Cagliari_Calcio_players Categoría_Primera_A_players Colombia_international_footballers Colombia_under-20_international_footballers Colombian_expatriate_footballers Colombian_expatriates_in_England Colombian_expatriates_in_Greece Colombian_expatriates_in_Italy Colombian_footballers Colombian_people_of_African_descent Expatriate_footballers_in_England Expatriate_footballers_in_Greece Expatriate_footballers_in_Italy Living_people Panathinaikos_F.C._players People_from_Nariño_Department Premier_League_players Serie_A_players Watford_F.C._players'"
      ]
     },
     "execution_count": 19,
     "metadata": {},
     "output_type": "execute_result"
    }
   ],
   "source": [
    "clean_categories[3200]"
   ]
  },
  {
   "cell_type": "code",
   "execution_count": 20,
   "metadata": {
    "collapsed": true
   },
   "outputs": [],
   "source": [
    "# Initialize the \"CountVectorizer\" object, which is scikit-learn's bag of words tool.  \n",
    "# This needs a list of strings!!\n",
    "\n",
    "from sklearn.feature_extraction.text import CountVectorizer\n",
    "\n",
    "vectorizer = CountVectorizer(analyzer = \"word\",   \\\n",
    "                             tokenizer = None,    \\\n",
    "                             preprocessor = None, \\\n",
    "                             stop_words = None,   \\\n",
    "                             max_features = 5000) \n",
    "# fit_transform() does two functions: First, it fits the model\n",
    "# and learns the vocabulary; second, it transforms our training data\n",
    "# into feature vectors. The input to fit_transform should be a list of \n",
    "# strings.\n",
    "train_features = vectorizer.fit_transform(clean_categories)"
   ]
  },
  {
   "cell_type": "code",
   "execution_count": 21,
   "metadata": {
    "collapsed": false
   },
   "outputs": [
    {
     "name": "stdout",
     "output_type": "stream",
     "text": [
      "<class 'scipy.sparse.csr.csr_matrix'>\n",
      "(7524, 5000)\n",
      "<class 'numpy.ndarray'>\n",
      "(7524, 5000)\n"
     ]
    }
   ],
   "source": [
    "print(type(train_features))\n",
    "print(train_features.shape)\n",
    "\n",
    "# Numpy arrays are easy to work with, so convert the result to an \n",
    "# array  (instead of a matrix)\n",
    "train_features_array = train_features.toarray()\n",
    "print(type(train_features_array))\n",
    "print(train_features_array.shape)"
   ]
  },
  {
   "cell_type": "code",
   "execution_count": 22,
   "metadata": {
    "collapsed": false
   },
   "outputs": [
    {
     "data": {
      "text/plain": [
       "array([ 1,  2,  5,  5, 10,  0,  2,  0,  2,  0,  4,  1,  0,  1,  2,  5,  2,\n",
       "       15,  3,  4,  3,  1,  0, 11,  2,  6,  4,  3,  8,  8, 20,  9,  1,  9,\n",
       "        2, 13,  1,  1,  1, 22,  4,  2,  4,  4,  8,  4,  7,  9,  2,  0], dtype=int64)"
      ]
     },
     "execution_count": 22,
     "metadata": {},
     "output_type": "execute_result"
    }
   ],
   "source": [
    "train_features_array[:50].sum(1)"
   ]
  },
  {
   "cell_type": "code",
   "execution_count": 23,
   "metadata": {
    "collapsed": true
   },
   "outputs": [],
   "source": [
    "# I need to feed the Isomap an array made of a list of lists (with the vectorized values)!\n",
    "\n",
    "iso = Isomap(n_components=2)\n",
    "data_projected = iso.fit_transform(train_features_array)"
   ]
  },
  {
   "cell_type": "code",
   "execution_count": 24,
   "metadata": {
    "collapsed": false
   },
   "outputs": [
    {
     "data": {
      "text/plain": [
       "array([[ 0.93773933,  0.03814295],\n",
       "       [-4.12876408, -0.05055429]])"
      ]
     },
     "execution_count": 24,
     "metadata": {},
     "output_type": "execute_result"
    }
   ],
   "source": [
    "data_projected[:2]"
   ]
  },
  {
   "cell_type": "code",
   "execution_count": 25,
   "metadata": {
    "collapsed": false,
    "scrolled": true
   },
   "outputs": [
    {
     "data": {
      "image/png": "[encoded data removed]",
      "text/plain": [
       "<matplotlib.figure.Figure at 0xa7cbf28>"
      ]
     },
     "metadata": {},
     "output_type": "display_data"
    }
   ],
   "source": [
    "%matplotlib inline\n",
    "\n",
    "import matplotlib\n",
    "import pylab as plt\n",
    "\n",
    "plt.scatter(data_projected[:, 0], data_projected[:, 1], c=\"blue\",\n",
    "            edgecolor='none', alpha=0.5);   #, cmap=plt.cm.get_cmap('nipy_spectral', 10)\n",
    "# plt.colorbar(label='digit label', ticks=range(10))\n",
    "plt.clim(-0.5, 9.5)\n",
    "plt.show()"
   ]
  },
  {
   "cell_type": "markdown",
   "metadata": {},
   "source": [
    "After removing\n",
    "\"Certification_Table_Entry_usages_for\"\n",
    "\"language_sources\"\n",
    "\"Articles_containing\"\n",
    "I start to see more texture in the clustering."
   ]
  },
  {
   "cell_type": "code",
   "execution_count": 31,
   "metadata": {
    "collapsed": false,
    "scrolled": true
   },
   "outputs": [
    {
     "name": "stdout",
     "output_type": "stream",
     "text": [
      "2421536\n",
      "1984_births African-American_basketball_players American_men's_basketball_players American_people_of_Nigerian_descent Arizona_Wildcats_men's_basketball_players Basketball_players_at_the_2012_Summer_Olympics Basketball_players_from_Illinois Denver_Nuggets_players Golden_State_Warriors_players Living_people National_Basketball_Association_All-Stars Parade_High_School_All-Americans_(boys'_basketball) Philadelphia_76ers_draft_picks Philadelphia_76ers_players Shooting_guards Small_forwards Sportspeople_from_Springfield,_Illinois United_States_men's_national_basketball_team_players Use_mdy_dates_from_August_2012\n",
      "24891000\n",
      "Anthropology_writers Anti-racism_activists Cultural_anthropologists Hebrew_University_of_Jerusalem_alumni Israeli_anthropologists Israeli_feminists Israeli_non-fiction_writers Israeli_women's_rights_activists Jewish_feminists Living_people Mizrahi_Jews Racism_in_Israel Social_anthropologists University_of_California,_Berkeley_alumni University_of_California,_Davis_faculty Year_of_birth_missing_(living_people)\n",
      "63401\n",
      "1957_births 20th-century_English_male_actors 20th-century_English_writers 20th-century_dramatists_and_playwrights 21st-century_English_male_actors Actors_of_Hungarian_descent Alumni_of_Queens'_College,_Cambridge Audio_book_narrators BBC_radio_presenters BBC_television_presenters Biography_with_signature British_alternate_history_writers British_people_of_Hungarian_descent British_sketch_comedians Contestants_on_British_game_shows Controversies_in_Poland Critics_of_Christianity Critics_of_religions Critics_of_the_Catholic_Church English_atheists English_comedy_writers English_film_directors English_game_show_hosts English_humanists English_male_comedians English_male_dramatists_and_playwrights English_male_film_actors English_male_radio_actors English_male_stage_actors English_male_television_actors English_male_voice_actors English_people_of_Hungarian-Jewish_descent English_podcasters English_radio_writers English_screenwriters English_television_writers EngvarB_from_August_2014 Freemen_of_the_City_of_London Gay_actors Gay_writers Jewish_English_male_actors Jewish_atheists LGBT_Jews LGBT_broadcasters LGBT_comedians LGBT_directors LGBT_entertainers_from_England LGBT_rights_activists_from_the_United_Kingdom LGBT_screenwriters LGBT_writers_from_England Living_people Male_actors_from_London Male_screenwriters Outstanding_Performance_by_a_Cast_in_a_Motion_Picture_Screen_Actors_Guild_Award_winners People_educated_at_Paston_College People_educated_at_Uppingham_School People_from_Hampstead People_with_bipolar_disorder QI Rectors_of_the_University_of_Dundee Sidewise_Award_winners Stephen_Fry Writers_from_London\n",
      "33234830\n",
      "All_NPOV_disputes American_people_convicted_of_drug_offenses Living_people NPOV_disputes_from_February_2012 People_from_Concord,_California Place_of_birth_missing_(living_people) Private_detectives_and_investigators Year_of_birth_missing_(living_people)\n",
      "878643\n",
      "1984_births African-American_basketball_players American_men's_basketball_players American_sportspeople_of_Puerto_Rican_descent Basketball_players_at_the_2003_NCAA_Men's_Division_I_Final_Four Basketball_players_at_the_2004_Summer_Olympics Basketball_players_at_the_2008_Summer_Olympics Basketball_players_at_the_2012_Summer_Olympics Basketball_players_from_Maryland Basketball_players_from_New_York Denver_Nuggets_draft_picks Denver_Nuggets_players Hispanic_and_Latino_American_sportspeople Living_people McDonald's_High_School_All-Americans National_Basketball_Association_All-Stars New_York_Knicks_players North_American_Soccer_League_executives Parade_High_School_All-Americans_(boys'_basketball) Participants_in_American_reality_television_series Power_forwards_(basketball) Puerto_Rican_basketball_players Puerto_Rico_FC Small_forwards Sportspeople_from_Baltimore,_Maryland Sportspeople_from_Brooklyn Syracuse_Orange_men's_basketball_players United_States_men's_national_basketball_team_players Use_mdy_dates_from_February_2013\n",
      "29629748\n",
      "Activists_from_California American_historians_of_education American_non-fiction_writers California_State_University,_Long_Beach_alumni Living_people People_from_Yucaipa,_California Publishers_from_California Sportspeople_from_San_Bernardino_County,_California Western_(genre)_writers Writers_from_California Year_of_birth_missing_(living_people)\n",
      "415036\n",
      "1949_births Alumni_of_the_University_of_North_London Amnesty_International_people Animal_rights_advocates Anti-poverty_advocates British_anti-fascists British_feminists British_republicans British_trade_unionists Councillors_in_Haringey English_anti-war_activists English_anti–Iraq_War_activists English_anti–nuclear_weapons_activists English_human_rights_activists Gandhi_International_Peace_Award_Recipients Housing_rights_activists International_opponents_of_apartheid_in_South_Africa Jeremy_Corbyn LGBT_rights_activists_from_the_United_Kingdom Labour_Party_(UK)_MPs Leaders_of_the_Labour_Party_(UK) Leaders_of_the_Opposition_(United_Kingdom) Living_people Male_feminists Members_of_the_Parliament_of_the_United_Kingdom_for_English_constituencies Members_of_the_Privy_Council_of_the_United_Kingdom People_educated_at_Adams'_Grammar_School People_educated_at_Castle_House_School People_from_Chippenham People_from_Finsbury_Park People_from_Harringay People_from_Newport,_Shropshire Politics_of_Islington UK_MPs_1983–87 UK_MPs_1987–92 UK_MPs_1992–97 UK_MPs_1997–2001 UK_MPs_2001–05 UK_MPs_2005–10 UK_MPs_2010–15 UK_MPs_2015–20 Use_British_English_from_July_2015 Use_British_English_from_September_2015 Venezuela_solidarity_activists\n",
      "1190101\n",
      "1979_births African-American_basketball_players African-American_rappers American_expatriate_basketball_people_in_China American_expatriate_basketball_people_in_Italy American_men's_basketball_players Basketball_players_from_New_York Chicago_Bulls_draft_picks Chicago_Bulls_players Houston_Rockets_players Indiana_Pacers_players Living_people Los_Angeles_Lakers_players McDonald's_High_School_All-Americans National_Basketball_Association_All-Stars New_York_Knicks_players Pallacanestro_Cantù_players Parade_High_School_All-Americans_(boys'_basketball) Participants_in_American_reality_television_series Rappers_from_New_York_City Sacramento_Kings_players Sichuan_Blue_Whales_players Small_forwards Sportspeople_from_Queens,_New_York St._John's_Red_Storm_men's_basketball_players Use_mdy_dates_from_September_2015 Violence_in_sports\n",
      "3301347\n",
      "1953_births Alumni_of_St_John's_College,_Oxford Alumni_of_the_Inns_of_Court_School_of_Law British_diplomats Commission_for_Africa_members Congressional_Gold_Medal_recipients Converts_to_Roman_Catholicism_from_Anglicanism English_Roman_Catholics English_autobiographers English_people_of_Irish_descent Fellows_of_St_John's_College,_Oxford Former_Marxists Labour_Party_(UK)_MPs Labour_Party_Prime_Ministers_of_the_United_Kingdom Leaders_of_the_Labour_Party_(UK) Leaders_of_the_Opposition_(United_Kingdom) Living_people Members_of_Lincoln's_Inn Members_of_the_Fabian_Society Members_of_the_Parliament_of_the_United_Kingdom_for_English_constituencies Members_of_the_Privy_Council_of_the_United_Kingdom People_educated_at_Fettes_College People_educated_at_the_Chorister_School,_Durham People_from_Edinburgh People_of_the_Year_Awards_winners Presidential_Medal_of_Freedom_recipients Presidents_of_the_European_Council Prime_Ministers_of_the_United_Kingdom Sedgefield_(borough) Tony_Blair Trimdon UK_MPs_1983–87 UK_MPs_1987–92 UK_MPs_1992–97 UK_MPs_1997–2001 UK_MPs_2001–05 UK_MPs_2005–10 Use_British_English_from_August_2011 Yale_University_faculty\n",
      "971896\n",
      "American_artist_stubs American_artists_of_Chinese_descent Fantasy_artists Horror_artists Hugo_Award-winning_artists Living_people Place_of_birth_missing_(living_people) Science_fiction_fans University_of_Wisconsin–Madison_alumni Vague_or_ambiguous_time_from_February_2016 Year_of_birth_missing_(living_people)\n",
      "525755\n",
      "1976_births African-American_basketball_players Basketball_players_at_the_2000_Summer_Olympics Basketball_players_from_South_Carolina Boston_Celtics_players Brooklyn_Nets_players Centers_(basketball) Living_people McDonald's_High_School_All-Americans Minnesota_Timberwolves_draft_picks Minnesota_Timberwolves_players National_Basketball_Association_All-Stars National_Basketball_Association_high_school_draftees Olympic_basketball_players_of_the_United_States Parade_High_School_All-Americans_(boys'_basketball) Power_forwards_(basketball) Sportspeople_from_Greenville,_South_Carolina United_States_men's_national_basketball_team_players\n",
      "22556240\n",
      "1990_births African-American_basketball_players American_men's_basketball_players Basketball_players_from_Alabama Centers_(basketball) Kentucky_Wildcats_men's_basketball_players Living_people McDonald's_High_School_All-Americans National_Basketball_Association_All-Stars Parade_High_School_All-Americans_(boys'_basketball) Power_forwards_(basketball) Sacramento_Kings_draft_picks Sacramento_Kings_players Sportspeople_from_Mobile,_Alabama United_States_men's_national_basketball_team_players\n",
      "19990546\n",
      "1957_births Academic_scandals Alumni_of_Imperial_College_London Anti-vaccination_activists Autism_researchers British_gastroenterologists British_medical_researchers Date_of_birth_missing_(living_people) English_fraudsters Health_fraud Living_people MMR_vaccine_controversy Medical_doctors_struck_off_by_the_General_Medical_Council Medical_scandals_in_the_United_Kingdom People_associated_with_the_MMR_vaccine_controversy People_educated_at_King_Edward's_School,_Bath People_educated_at_St_Mary's_Hospital_Medical_School Place_of_birth_missing_(living_people) Scientific_misconduct\n",
      "18426184\n",
      "Alumni_of_Hart_Hall,_Oxford English_film_producers English_lawyers English_male_pornographic_film_actors English_male_writers English_pornographic_film_directors English_television_producers EngvarB_from_August_2014 Living_people Place_of_birth_missing_(living_people) Year_of_birth_missing_(living_people)\n",
      "479273\n",
      "1985_births African-American_Christians African-American_basketball_players Basketball_players_at_the_2008_Summer_Olympics Basketball_players_from_Georgia_(U.S._state) Centers_(basketball) Gatorade_National_Basketball_Player_of_the_Year Houston_Rockets_players Living_people Los_Angeles_Lakers_players McDonald's_High_School_All-Americans National_Basketball_Association_All-Stars National_Basketball_Association_high_school_draftees Olympic_basketball_players_of_the_United_States Orlando_Magic_draft_picks Orlando_Magic_players Parade_High_School_All-Americans_(boys'_basketball) Sportspeople_from_Atlanta,_Georgia United_States_men's_national_basketball_team_players\n",
      "35244938\n",
      "American_feminists Free_software_programmers IBM_employees Intel_people Linux_people Living_people New_Mexico_Institute_of_Mining_and_Technology_alumni People_from_New_Mexico Place_of_birth_missing_(living_people) Sex-positive_feminists Sun_Microsystems_people Use_mdy_dates_from_March_2016 Women's_rights Women_founders Women_scientists Year_of_birth_missing_(living_people)\n",
      "6220455\n",
      "1988_births American_men's_basketball_players Basketball_players_at_the_2008_NCAA_Men's_Division_I_Final_Four Basketball_players_at_the_2012_Summer_Olympics Basketball_players_from_California Basketball_players_from_Oregon Centers_(basketball) Cleveland_Cavaliers_players Gatorade_National_Basketball_Player_of_the_Year Lake_Oswego_High_School_alumni Living_people McDonald's_High_School_All-Americans Memphis_Grizzlies_draft_picks Minnesota_Timberwolves_players National_Basketball_Association_All-Stars Olympic_basketball_players_of_the_United_States Parade_High_School_All-Americans_(boys'_basketball) Power_forwards_(basketball) Sportspeople_from_Lake_Oswego,_Oregon Sportspeople_from_Santa_Monica,_California UCLA_Bruins_men's_basketball_players United_States_men's_national_basketball_team_players Use_mdy_dates_from_January_2013 Wilson_family_(The_Beach_Boys)\n",
      "305473\n",
      "1975_births African-American_basketball_players African-American_rappers American_expatriate_basketball_people_in_Turkey American_men's_basketball_players Basketball_players_at_the_2004_Summer_Olympics Basketball_players_from_Virginia Beşiktaş_men's_basketball_players Denver_Nuggets_players Detroit_Pistons_players Georgetown_Hoyas_men's_basketball_players Living_people Memphis_Grizzlies_players National_Basketball_Association_All-Stars National_Basketball_Association_players_with_retired_numbers Olympic_basketball_players_of_the_United_States Parade_High_School_All-Americans_(boys'_basketball) People_from_Hampton,_Virginia Philadelphia_76ers_draft_picks Philadelphia_76ers_players Point_guards Shooting_guards United_States_men's_national_basketball_team_players\n",
      "537682\n",
      "1984_births African-American_basketball_players American_expatriate_basketball_people_in_Canada Basketball_players_at_the_2008_Summer_Olympics Basketball_players_from_Texas Centers_(basketball) Georgia_Tech_Yellow_Jackets_men's_basketball_players Living_people McDonald's_High_School_All-Americans Miami_Heat_players National_Basketball_Association_All-Stars Parade_High_School_All-Americans_(boys'_basketball) Power_forwards_(basketball) Sportspeople_from_Dallas,_Texas Toronto_Raptors_draft_picks Toronto_Raptors_players United_States_men's_national_basketball_team_players\n",
      "151381\n",
      "1959_births 20th-century_English_male_actors 21st-century_English_male_actors Alumni_of_Selwyn_College,_Cambridge Best_Drama_Actor_Golden_Globe_(television)_winners British_sketch_comedians Cambridge_University_Boat_Club_rowers English_atheists English_blues_musicians English_blues_singers English_male_comedians English_male_film_actors English_male_singers English_male_television_actors English_male_voice_actors English_people_of_Scottish_descent English_pianists English_screenwriters EngvarB_from_March_2016 Fellows_of_Selwyn_College,_Cambridge Labour_Party_(UK)_people Living_people Male_Guinness_World_Record_setters Male_screenwriters Members_of_Leander_Club Officers_of_the_Order_of_the_British_Empire Outstanding_Performance_by_a_Male_Actor_in_a_Drama_Series_Screen_Actors_Guild_Award_winners People_educated_at_Eton_College People_educated_at_The_Dragon_School People_from_Oxford Warner_Bros._Records_artists\n",
      "153295\n",
      "1989_births 20th-century_English_male_actors 21st-century_English_male_actors British_republicans Empire_Hero_Award_winners English_atheists English_male_child_actors English_male_film_actors English_male_musical_theatre_actors English_male_stage_actors English_male_television_actors English_people_of_Northern_Irish_descent English_people_of_Polish-Jewish_descent English_people_of_Russian-Jewish_descent English_people_of_South_African_descent Jewish_English_male_actors Jewish_atheists LGBT_rights_activists_from_England Labour_Party_(UK)_people Liberal_Democrat_(UK)_people Living_people Male_actors_from_London People_educated_at_the_City_of_London_School People_from_Hammersmith People_of_South_African-Jewish_descent Use_British_English_from_January_2013\n",
      "16160954\n",
      "1989_births African-American_Christians African-American_basketball_players Arizona_State_Sun_Devils_men's_basketball_players Basketball_players_at_the_2012_Summer_Olympics Basketball_players_from_California Houston_Rockets_players Living_people McDonald's_High_School_All-Americans National_Basketball_Association_All-Stars Oklahoma_City_Thunder_draft_picks Oklahoma_City_Thunder_players Olympic_basketball_players_of_the_United_States Parade_High_School_All-Americans_(boys'_basketball) People_from_Lakewood,_California Shooting_guards Sportspeople_from_Los_Angeles,_California United_States_men's_national_basketball_team_players Use_mdy_dates_from_August_2012\n",
      "44089740\n",
      "American_adoptees American_feminists American_video_game_designers Date_of_birth_missing_(living_people) Independent_video_game_developers Living_people People_from_Boston,_Massachusetts People_from_Mississippi Place_of_birth_missing_(living_people) Use_mdy_dates_from_April_2016 Victims_of_cyberbullying Video_game_development_companies Year_of_birth_missing_(living_people)\n",
      "32089103\n",
      "American_male_screenwriters American_screenwriter_stubs Living_people Place_of_birth_missing_(living_people) USC_School_of_Cinematic_Arts_alumni Year_of_birth_missing_(living_people)\n",
      "18724109\n",
      "American_Internet_celebrities American_bloggers American_columnists American_non-fiction_writers American_podcasters American_relationships_and_sexuality_writers American_self-help_writers American_women_writers BDSM_writers Living_people San_Francisco_Chronicle_people Sex_educators Video_bloggers Women_bloggers Women_columnists Women_erotica_writers Writers_from_San_Francisco,_California Year_of_birth_missing_(living_people)\n",
      "1321703\n",
      "American_comics_writers American_male_screenwriters American_television_executives American_television_writers Columbia_University_alumni Comics_by_Jeph_Loeb Comics_creator_pop Comics_infobox_image_less_alt_text Living_people Male_television_writers Marvel_Entertainment_people Marvel_Studios Track_variant_DoD Use_mdy_dates_from_June_2014 Writers_from_Stamford,_Connecticut Year_of_birth_missing_(living_people)\n"
     ]
    }
   ],
   "source": [
    "for i in range(len(data_projected)):     #  data_projected[i,0]>-1  and data_projected[i,1]<9\n",
    "    if data_projected[i,0]<-6.5 and data_projected[i,1]>-1.5 and data_projected[i,1]<1:\n",
    "        print(epa_id[i])\n",
    "        print(clean_categories[i])"
   ]
  },
  {
   "cell_type": "code",
   "execution_count": 16,
   "metadata": {
    "collapsed": false
   },
   "outputs": [
    {
     "data": {
      "text/plain": [
       "['All_articles_with_dead_external_links',\n",
       " 'Articles_with_French-language_external_links',\n",
       " 'Articles_with_dead_external_links_from_September_2011',\n",
       " 'CS1_Norwegian-language_sources_(no)',\n",
       " 'CS1_Swedish-language_sources_(sv)',\n",
       " 'CS1_errors:_dates',\n",
       " 'Dynamic_lists',\n",
       " 'Lists_of_LGBT-related_people',\n",
       " 'Official_website_not_in_Wikidata',\n",
       " 'Use_dmy_dates_from_July_2013',\n",
       " 'Wikipedia_indefinitely_semi-protected_pages']"
      ]
     },
     "execution_count": 16,
     "metadata": {},
     "output_type": "execute_result"
    }
   ],
   "source": [
    "data[\"20269727\"]"
   ]
  },
  {
   "cell_type": "markdown",
   "metadata": {
    "collapsed": true
   },
   "source": [
    "########################################################\n",
    "\n",
    "Now I do a similar analysis for the categories splitted into individual words.\n",
    "\n",
    "First I need to load the cl_words_epa.txt\n",
    "\n",
    "Then I need to get the whole vocabulary for the vectorizer"
   ]
  },
  {
   "cell_type": "code",
   "execution_count": null,
   "metadata": {
    "collapsed": true
   },
   "outputs": [],
   "source": [
    "import json\n",
    "import pandas as pd\n",
    "import numpy as np\n",
    "from sklearn.manifold import Isomap"
   ]
  },
  {
   "cell_type": "code",
   "execution_count": null,
   "metadata": {
    "collapsed": false
   },
   "outputs": [],
   "source": [
    "# Open the file from the repository\n",
    "\n",
    "with open(\"cl_words_epa.txt\", \"r\") as f:\n",
    "    data=json.load(f)\n",
    "len(data)"
   ]
  },
  {
   "cell_type": "code",
   "execution_count": null,
   "metadata": {
    "collapsed": false
   },
   "outputs": [],
   "source": [
    "type(data[\"25\"])"
   ]
  },
  {
   "cell_type": "code",
   "execution_count": null,
   "metadata": {
    "collapsed": true
   },
   "outputs": [],
   "source": [
    "article_index=[]\n",
    "words_links=[]\n",
    "for key in data:\n",
    "    article_index.append(key)\n",
    "    parole=data[key].split(\" \")\n",
    "    words_links.append(parole)    "
   ]
  },
  {
   "cell_type": "code",
   "execution_count": null,
   "metadata": {
    "collapsed": false
   },
   "outputs": [],
   "source": [
    "print(article_index[0])\n",
    "data[article_index[0]]"
   ]
  },
  {
   "cell_type": "code",
   "execution_count": null,
   "metadata": {
    "collapsed": false
   },
   "outputs": [],
   "source": [
    "words_links[0][:5]"
   ]
  },
  {
   "cell_type": "code",
   "execution_count": null,
   "metadata": {
    "collapsed": false
   },
   "outputs": [],
   "source": [
    "len(words_links)"
   ]
  },
  {
   "cell_type": "code",
   "execution_count": null,
   "metadata": {
    "collapsed": false
   },
   "outputs": [],
   "source": [
    "# Initialize the \"CountVectorizer\" object, which is scikit-learn's bag of words tool.  \n",
    "# This needs a list of strings!!\n",
    "\n",
    "from sklearn.feature_extraction.text import CountVectorizer\n",
    "\n",
    "vectorizer = CountVectorizer(analyzer = \"word\",   \\\n",
    "                             tokenizer = None,    \\\n",
    "                             preprocessor = None, \\\n",
    "                             stop_words = None,   \\\n",
    "                             max_features = 5000) \n",
    "# fit_transform() does two functions: First, it fits the model\n",
    "# and learns the vocabulary; second, it transforms our training data\n",
    "# into feature vectors. The input to fit_transform should be a list of \n",
    "# strings.\n",
    "vocabulary = vectorizer.fit_transform(words_links)"
   ]
  },
  {
   "cell_type": "code",
   "execution_count": null,
   "metadata": {
    "collapsed": false
   },
   "outputs": [],
   "source": [
    "print(type(vocabulary))\n",
    "print(vocabulary.shape)\n",
    "\n",
    "# Numpy arrays are easy to work with, so convert the result to an \n",
    "# array  (instead of a matrix)\n",
    "vocabulary_array = vocabulary.toarray()\n",
    "print(type(vocabulary_array))\n",
    "print(vocabulary_array.shape)"
   ]
  },
  {
   "cell_type": "code",
   "execution_count": null,
   "metadata": {
    "collapsed": false
   },
   "outputs": [],
   "source": [
    "vocabulary_array[:100].sum(1)  #number of words in categorylinks per article"
   ]
  },
  {
   "cell_type": "code",
   "execution_count": null,
   "metadata": {
    "collapsed": false
   },
   "outputs": [],
   "source": [
    "# I need to feed the Isomap an array made of a list of lists (with the vectorized values)!\n",
    "\n",
    "iso = Isomap(n_components=2)\n",
    "words_projected = iso.fit_transform(vocabulary_array)"
   ]
  },
  {
   "cell_type": "code",
   "execution_count": null,
   "metadata": {
    "collapsed": false
   },
   "outputs": [],
   "source": [
    "words_projected[:,1]"
   ]
  },
  {
   "cell_type": "code",
   "execution_count": null,
   "metadata": {
    "collapsed": false
   },
   "outputs": [],
   "source": [
    "%matplotlib inline\n",
    "\n",
    "import matplotlib\n",
    "import pylab as plt\n",
    "\n",
    "plt.scatter(words_projected[:, 0], words_projected[:, 1], c=\"blue\",\n",
    "            edgecolor='none', alpha=0.5);   #, cmap=plt.cm.get_cmap('nipy_spectral', 10)\n",
    "# plt.colorbar(label='digit label', ticks=range(10))\n",
    "plt.clim(-0.5, 9.5)\n",
    "plt.show()"
   ]
  },
  {
   "cell_type": "code",
   "execution_count": null,
   "metadata": {
    "collapsed": false
   },
   "outputs": [],
   "source": [
    "for i in range(len(words_projected)):\n",
    "    if words_projected[i,0]>-50 and words_projected[i,1]>0:\n",
    "        print(article_index[i])\n",
    "        print(words_links[i])"
   ]
  },
  {
   "cell_type": "code",
   "execution_count": null,
   "metadata": {
    "collapsed": true
   },
   "outputs": [],
   "source": []
  }
 ],
 "metadata": {
  "anaconda-cloud": {},
  "kernelspec": {
   "display_name": "Python [Root]",
   "language": "python",
   "name": "Python [Root]"
  },
  "language_info": {
   "codemirror_mode": {
    "name": "ipython",
    "version": 3
   },
   "file_extension": ".py",
   "mimetype": "text/x-python",
   "name": "python",
   "nbconvert_exporter": "python",
   "pygments_lexer": "ipython3",
   "version": "3.5.1"
  }
 },
 "nbformat": 4,
 "nbformat_minor": 0
}
