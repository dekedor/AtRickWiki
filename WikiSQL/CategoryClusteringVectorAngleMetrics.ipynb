{
 "cells": [
  {
   "cell_type": "markdown",
   "metadata": {},
   "source": [
    "Let's try and see clusters of Categories among the wikipedia articles using the categorylinks.\n"
   ]
  },
  {
   "cell_type": "code",
   "execution_count": 1,
   "metadata": {
    "collapsed": true
   },
   "outputs": [],
   "source": [
    "import json\n",
    "import pandas as pd\n",
    "import numpy as np\n",
    "from sklearn.manifold import Isomap"
   ]
  },
  {
   "cell_type": "code",
   "execution_count": 2,
   "metadata": {
    "collapsed": false
   },
   "outputs": [
    {
     "data": {
      "text/plain": [
       "7524"
      ]
     },
     "execution_count": 2,
     "metadata": {},
     "output_type": "execute_result"
    }
   ],
   "source": [
    "# Open the file from the repository\n",
    "\n",
    "with open(\"cl_epa.txt\", \"r\") as f:\n",
    "    data=json.load(f)\n",
    "len(data)"
   ]
  },
  {
   "cell_type": "code",
   "execution_count": 3,
   "metadata": {
    "collapsed": true
   },
   "outputs": [],
   "source": [
    "# I need an array of [[1,2,3... ],[0,3,5...], ...] \n",
    "# so I prepare a vocabulary to then use the vectorizer\n",
    "\n",
    "# Create the all-encompassing vocabulary\n",
    "import re\n",
    "\n",
    "def GetVocabList(data_dict):\n",
    "    #data_dict is a dictionary {keys}:[\"str1\", \"str2\",..., \"strN\"]\n",
    "    #this functions yields [\"str1\", \"str2\", ... \"strM\"], where M is the sum of N over all Keys\n",
    "    list_categories = []\n",
    "    cl_index=[]\n",
    "    for key in data_dict: \n",
    "        cl_index.append(key)\n",
    "        links=[]\n",
    "        for n in range(len(data_dict[key])):\n",
    "        \n",
    "            # Remove the following regular expressions\n",
    "            \n",
    "            re0=\"protected_page\"\n",
    "            #re1=\"with_accessdate\"\n",
    "            #re2=\".rticle\"\n",
    "            #re3=\".ikipedia\"\n",
    "            #re4=\"to_be_expanded\"\n",
    "            #re5=\"with_unsourced_statements\"\n",
    "            #re6=\"needing_additional_references\"\n",
    "            #re7=\"lacking_sources\"\n",
    "            #re8=\"containing_potentially_dated_statements\"\n",
    "            #re9=\"with_dead_external_links\"\n",
    "            re1=\"Certification_Table_Entry_usages_for\"\n",
    "            re2=\"language_sources\"\n",
    "            re3=\"Articles_containing\"\n",
    "            \n",
    "            if not any(re.search(regex, data_dict[key][n]) for regex in [re0, re1, re2, re3]):\n",
    "                links.append(data_dict[key][n])\n",
    "        links=\" \".join(links)\n",
    "        list_categories.append(links)\n",
    "                \n",
    "    return list_categories, cl_index\n",
    "\n",
    "# list_categories looks like [\"str1 strN\", ..., \"... str137593\"]]. A list strings, each is \" \".join(links_in_article)"
   ]
  },
  {
   "cell_type": "code",
   "execution_count": 4,
   "metadata": {
    "collapsed": false
   },
   "outputs": [
    {
     "name": "stdout",
     "output_type": "stream",
     "text": [
      "7524\n",
      "7524\n",
      "166706\n",
      "['Articles_containing_Greek-language_text', 'Greek_letters', 'Phonetic_transcription_symbols', 'Wikipedia_indefinitely_semi-protected_pages']\n",
      "Greek_letters Phonetic_transcription_symbols\n"
     ]
    }
   ],
   "source": [
    "# Get clean list of links\n",
    "clean_categories, epa_id = GetVocabList(data)\n",
    "\n",
    "print(len(clean_categories))\n",
    "print(len(epa_id))\n",
    "print(epa_id[3200])\n",
    "print(data[epa_id[3200]])\n",
    "print(clean_categories[3200])   #it's a list of strings"
   ]
  },
  {
   "cell_type": "code",
   "execution_count": 5,
   "metadata": {
    "collapsed": true
   },
   "outputs": [],
   "source": [
    "# Initialize the \"CountVectorizer\" object, which is scikit-learn's bag of words tool.  \n",
    "\n",
    "from sklearn.feature_extraction.text import CountVectorizer\n",
    "\n",
    "vectorizer = CountVectorizer(analyzer = \"word\",   \\\n",
    "                             tokenizer = None,    \\\n",
    "                             preprocessor = None, \\\n",
    "                             stop_words = None,   \\\n",
    "                             max_features = 5000) \n",
    "# fit_transform() does two functions: First, it fits the model\n",
    "# and learns the vocabulary; second, it transforms our training data\n",
    "# into feature vectors. The input to fit_transform should be a list of \n",
    "# strings.\n",
    "train_features = vectorizer.fit_transform(clean_categories)"
   ]
  },
  {
   "cell_type": "code",
   "execution_count": 83,
   "metadata": {
    "collapsed": false
   },
   "outputs": [
    {
     "name": "stdout",
     "output_type": "stream",
     "text": [
      "<class 'scipy.sparse.csr.csr_matrix'>\n",
      "(7524, 5000)\n"
     ]
    }
   ],
   "source": [
    "print(type(train_features))\n",
    "print(train_features.shape)\n",
    "\n",
    "# Numpy arrays are easy to work with, so convert the result to an \n",
    "# array  (instead of a matrix)\n",
    "#train_features_array = train_features.toarray()\n",
    "#print(type(train_features_array))\n",
    "#print(train_features_array.shape)"
   ]
  },
  {
   "cell_type": "code",
   "execution_count": 117,
   "metadata": {
    "collapsed": false
   },
   "outputs": [
    {
     "name": "stdout",
     "output_type": "stream",
     "text": [
      "total 137\n"
     ]
    }
   ],
   "source": [
    "# there are 137 articles without links in the vectorizer!\n",
    "j=0\n",
    "\n",
    "for i in range(7524):\n",
    "    if train_features[i].sum(1)<1:\n",
    "        j=j+1\n",
    "print(\"total\", j)"
   ]
  },
  {
   "cell_type": "code",
   "execution_count": 119,
   "metadata": {
    "collapsed": false
   },
   "outputs": [
    {
     "name": "stdout",
     "output_type": "stream",
     "text": [
      "total 2401\n"
     ]
    }
   ],
   "source": [
    "tf_norma=np.sqrt(train_features.multiply(train_features).sum(1))\n",
    "tf_normalized=train_features.multiply(1/train_features.multiply(train_features).sum(1))\n",
    "tf_check=tf_normalized.sum(1)\n",
    "\n",
    "j=0\n",
    "\n",
    "for i in range(7524):\n",
    "    if tf_normalized[i].sum(1)<1:\n",
    "        j=j+1\n",
    "print(\"total\", j)"
   ]
  },
  {
   "cell_type": "code",
   "execution_count": 50,
   "metadata": {
    "collapsed": false
   },
   "outputs": [
    {
     "name": "stdout",
     "output_type": "stream",
     "text": [
      "7524\n"
     ]
    }
   ],
   "source": [
    "# compute the norm of vectors\n",
    "\n",
    "from numpy import linalg as LA\n",
    "\n",
    "tf_norm=[]\n",
    "for i in range(len(train_features_array)):\n",
    "    norma=LA.norm(train_features_array[i]) #calculates norms of row vectors\n",
    "    tf_norm.append(norma)\n",
    "print(len(tf_norm))"
   ]
  },
  {
   "cell_type": "code",
   "execution_count": 58,
   "metadata": {
    "collapsed": false
   },
   "outputs": [
    {
     "name": "stdout",
     "output_type": "stream",
     "text": [
      "[0 0 0 ..., 0 0 0]\n",
      "4.12310562562\n",
      "[ 0.  0.  0. ...,  0.  0.  0.]\n",
      "1.0\n"
     ]
    }
   ],
   "source": [
    "# check normalization code\n",
    "\n",
    "print(train_features_array[1])\n",
    "print(tf_norm[1])\n",
    "print(train_features_array[1]/tf_norm[1])\n",
    "print(LA.norm(train_features_array[1]/tf_norm[1]))"
   ]
  },
  {
   "cell_type": "code",
   "execution_count": 60,
   "metadata": {
    "collapsed": true
   },
   "outputs": [],
   "source": [
    "# normalize all vectors\n",
    "\n",
    "tf_normalized = []\n",
    "for i in range(len(train_features_array)):\n",
    "    vector=train_features_array[i] / tf_norm[i]\n",
    "    tf_normalized.append(vector)"
   ]
  },
  {
   "cell_type": "code",
   "execution_count": 65,
   "metadata": {
    "collapsed": false
   },
   "outputs": [
    {
     "data": {
      "text/plain": [
       "1.0"
      ]
     },
     "execution_count": 65,
     "metadata": {},
     "output_type": "execute_result"
    }
   ],
   "source": [
    "LA.norm(tf_normalized[1000]) #vectors are actually normalized"
   ]
  },
  {
   "cell_type": "code",
   "execution_count": 75,
   "metadata": {
    "collapsed": false
   },
   "outputs": [
    {
     "data": {
      "text/plain": [
       "0.074535599249992979"
      ]
     },
     "execution_count": 75,
     "metadata": {},
     "output_type": "execute_result"
    }
   ],
   "source": [
    "np.dot(tf_normalized[10], tf_normalized[100]) # scalar product"
   ]
  },
  {
   "cell_type": "code",
   "execution_count": 76,
   "metadata": {
    "collapsed": false
   },
   "outputs": [
    {
     "ename": "ValueError",
     "evalue": "shapes (7524,5000) and (7524,5000) not aligned: 5000 (dim 1) != 7524 (dim 0)",
     "output_type": "error",
     "traceback": [
      "\u001b[1;31m---------------------------------------------------------------------------\u001b[0m",
      "\u001b[1;31mValueError\u001b[0m                                Traceback (most recent call last)",
      "\u001b[1;32m<ipython-input-76-492d9d73cf2f>\u001b[0m in \u001b[0;36m<module>\u001b[1;34m()\u001b[0m\n\u001b[1;32m----> 1\u001b[1;33m \u001b[0mdistances\u001b[0m \u001b[1;33m=\u001b[0m \u001b[1;36m180\u001b[0m \u001b[1;33m*\u001b[0m \u001b[0mnp\u001b[0m\u001b[1;33m.\u001b[0m\u001b[0marccos\u001b[0m\u001b[1;33m(\u001b[0m\u001b[0mnp\u001b[0m\u001b[1;33m.\u001b[0m\u001b[0mclip\u001b[0m\u001b[1;33m(\u001b[0m\u001b[0mnp\u001b[0m\u001b[1;33m.\u001b[0m\u001b[0mdot\u001b[0m\u001b[1;33m(\u001b[0m\u001b[0mtf_normalized\u001b[0m\u001b[1;33m,\u001b[0m\u001b[0mtf_normalized\u001b[0m\u001b[1;33m)\u001b[0m\u001b[1;33m,\u001b[0m\u001b[1;33m-\u001b[0m\u001b[1;36m1.0\u001b[0m\u001b[1;33m,\u001b[0m \u001b[1;36m1.0\u001b[0m\u001b[1;33m)\u001b[0m\u001b[1;33m)\u001b[0m \u001b[1;33m/\u001b[0m \u001b[0mnp\u001b[0m\u001b[1;33m.\u001b[0m\u001b[0mpi\u001b[0m \u001b[1;31m#calculates the angle\u001b[0m\u001b[1;33m\u001b[0m\u001b[0m\n\u001b[0m\u001b[0;32m      2\u001b[0m \u001b[1;31m#in degrees between each pair of articles\u001b[0m\u001b[1;33m\u001b[0m\u001b[1;33m\u001b[0m\u001b[0m\n",
      "\u001b[1;31mValueError\u001b[0m: shapes (7524,5000) and (7524,5000) not aligned: 5000 (dim 1) != 7524 (dim 0)"
     ]
    }
   ],
   "source": [
    "distances = 180 * np.arccos(np.clip(np.dot(tf_normalized,tf_normalized),-1.0, 1.0)) / np.pi #calculates the angle\n",
    "#in degrees between each pair of articles"
   ]
  },
  {
   "cell_type": "code",
   "execution_count": 55,
   "metadata": {
    "collapsed": false
   },
   "outputs": [
    {
     "ename": "TypeError",
     "evalue": "list indices must be integers or slices, not NoneType",
     "output_type": "error",
     "traceback": [
      "\u001b[1;31m---------------------------------------------------------------------------\u001b[0m",
      "\u001b[1;31mTypeError\u001b[0m                                 Traceback (most recent call last)",
      "\u001b[1;32m<ipython-input-55-87416717ba67>\u001b[0m in \u001b[0;36m<module>\u001b[1;34m()\u001b[0m\n\u001b[1;32m----> 1\u001b[1;33m \u001b[0mtf_normalized\u001b[0m\u001b[1;33m=\u001b[0m\u001b[0mtrain_features_array\u001b[0m \u001b[1;33m/\u001b[0m \u001b[0mtf_norm\u001b[0m\u001b[1;33m[\u001b[0m\u001b[1;32mNone\u001b[0m\u001b[1;33m]\u001b[0m\u001b[1;33m\u001b[0m\u001b[0m\n\u001b[0m",
      "\u001b[1;31mTypeError\u001b[0m: list indices must be integers or slices, not NoneType"
     ]
    }
   ],
   "source": [
    "\n",
    "epa_article_distances = pd.DataFrame(distances, index=epa_entries_with_words, columns=epa_entries_with_words)"
   ]
  },
  {
   "cell_type": "code",
   "execution_count": null,
   "metadata": {
    "collapsed": true
   },
   "outputs": [],
   "source": [
    "# I need to feed the Isomap an array made of a list of lists (with the vectorized values)!\n",
    "\n",
    "iso = Isomap(n_components=2)\n",
    "data_projected = iso.fit_transform(train_features_array)"
   ]
  },
  {
   "cell_type": "code",
   "execution_count": null,
   "metadata": {
    "collapsed": false
   },
   "outputs": [],
   "source": [
    "data_projected[:,1]"
   ]
  },
  {
   "cell_type": "code",
   "execution_count": null,
   "metadata": {
    "collapsed": false
   },
   "outputs": [],
   "source": [
    "%matplotlib inline\n",
    "\n",
    "import matplotlib\n",
    "import pylab as plt\n",
    "\n",
    "plt.scatter(data_projected[:, 0], data_projected[:, 1], c=\"blue\",\n",
    "            edgecolor='none', alpha=0.5);   #, cmap=plt.cm.get_cmap('nipy_spectral', 10)\n",
    "# plt.colorbar(label='digit label', ticks=range(10))\n",
    "plt.clim(-0.5, 9.5)\n",
    "plt.show()"
   ]
  },
  {
   "cell_type": "markdown",
   "metadata": {},
   "source": [
    "After removing\n",
    "\"Certification_Table_Entry_usages_for\"\n",
    "\"language_sources\"\n",
    "\"Articles_containing\"\n",
    "I start to see more texture in the clustering."
   ]
  },
  {
   "cell_type": "code",
   "execution_count": null,
   "metadata": {
    "collapsed": false
   },
   "outputs": [],
   "source": [
    "for i in range(len(data_projected)):\n",
    "    if data_projected[i,0]<-8 and data_projected[i,1]<-18:\n",
    "        print(epa_id[i])\n",
    "        print(data[str(epa_id[i])])"
   ]
  },
  {
   "cell_type": "code",
   "execution_count": null,
   "metadata": {
    "collapsed": true
   },
   "outputs": [],
   "source": []
  }
 ],
 "metadata": {
  "kernelspec": {
   "display_name": "Python [Root]",
   "language": "python",
   "name": "Python [Root]"
  },
  "language_info": {
   "codemirror_mode": {
    "name": "ipython",
    "version": 3
   },
   "file_extension": ".py",
   "mimetype": "text/x-python",
   "name": "python",
   "nbconvert_exporter": "python",
   "pygments_lexer": "ipython3",
   "version": "3.5.1"
  }
 },
 "nbformat": 4,
 "nbformat_minor": 0
}
