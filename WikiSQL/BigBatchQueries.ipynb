{
 "cells": [
  {
   "cell_type": "code",
   "execution_count": null,
   "metadata": {
    "collapsed": true
   },
   "outputs": [],
   "source": [
    "import pymysql\n",
    "wikiconn  = pymysql.connect(host='localhost',\n",
    "                            user='',\n",
    "                            password='',\n",
    "                            port=4711,\n",
    "                            db='enwiki_p',\n",
    "                            charset='utf8')\n",
    "wikiCur = wikiconn.cursor()"
   ]
  },
  {
   "cell_type": "code",
   "execution_count": 3,
   "metadata": {
    "collapsed": false
   },
   "outputs": [
    {
     "data": {
      "text/plain": [
       "['x', 'x', 'x', 'x', 'x']"
      ]
     },
     "execution_count": 3,
     "metadata": {},
     "output_type": "execute_result"
    }
   ],
   "source": [
    "def chunks(l, n):\n",
    "    \"\"\"Yield successive n-sized chunks from l.\"\"\"\n",
    "    for i in range(0, len(l), n):\n",
    "        yield l[i:i+n]"
   ]
  },
  {
   "cell_type": "code",
   "execution_count": null,
   "metadata": {
    "collapsed": true
   },
   "outputs": [],
   "source": [
    "import datetime\n",
    "import pandas as pd\n",
    "\n",
    "def PrintableTimestamp():\n",
    "    now = datetime.datetime.now().time()\n",
    "    return \"[{:02d}:{:02d}:{:02d}]\".format(now.hour,now.minute,now.second)\n",
    "\n",
    "def BatchQueryFromList(listOfIDs,columnThatContainsIDs,tableToQuery,listOfColumnsToRetrieve):\n",
    "    '''listOfIDs is a list of keys to retrieve from an SQL table\n",
    "    columnThatContainsIDs is the column in that table that stores the keys\n",
    "    tableToQuery is the table containing the information you want\n",
    "    listOfColumnsToRetrieve is a list containing the SQL DB table column names you want to retrieve\n",
    "    Returns a pandas dataframe with column names equivalent to those in the DB you queried'''\n",
    "    baseQ = \"SELECT {} FROM {} WHERE {} IN ({})\"\n",
    "    colsForQ = \",\".join(listOfColumnsToRetrieve)\n",
    "    idChunks = chunks(listOfIDs, 1000)\n",
    "    result_df = None\n",
    "    for ix, chunk in enumerate(idChunks):\n",
    "        print(PrintableTimestamp() + \" fetching chunk {}\".format(ix))\n",
    "        idsInChunk = \",\".join(chunk)\n",
    "        preppedQ = baseQ.format(colsForQ,tabletoQuery,columnThatContainsIDs,idsInChunk)\n",
    "        wikiCur.execute(preppedQ)\n",
    "        if result_df:\n",
    "            result_df.append(list(wikiCur.fetchall()))\n",
    "        else:\n",
    "            result_df = pd.DataFrame(list(wikiCur.fetchall()),columns=listOfColumnsToRetrieve)\n",
    "    return result_df\n",
    "    "
   ]
  }
 ],
 "metadata": {
  "kernelspec": {
   "display_name": "Python 3",
   "language": "python",
   "name": "python3"
  },
  "language_info": {
   "codemirror_mode": {
    "name": "ipython",
    "version": 3
   },
   "file_extension": ".py",
   "mimetype": "text/x-python",
   "name": "python",
   "nbconvert_exporter": "python",
   "pygments_lexer": "ipython3",
   "version": "3.5.1"
  }
 },
 "nbformat": 4,
 "nbformat_minor": 0
}
