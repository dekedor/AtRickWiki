{
 "cells": [
  {
   "cell_type": "markdown",
   "metadata": {},
   "source": [
    "To use this you will need a Google Cloud account, some instruction can be found here:\n",
    "\n",
    "https://cloud.google.com/bigquery/create-simple-app-api\n",
    "\n",
    "But in theory we can share the project 'AtRiskWiki'.\n",
    "\n",
    "You will also need to install Google Client Libraries:\n",
    "\n",
    "https://developers.google.com/api-client-library/python/apis/bigquery/v2"
   ]
  },
  {
   "cell_type": "code",
   "execution_count": 5,
   "metadata": {
    "collapsed": true
   },
   "outputs": [],
   "source": [
    "import argparse\n",
    "from googleapiclient.discovery import build\n",
    "from googleapiclient.errors import HttpError\n",
    "from oauth2client.client import GoogleCredentials"
   ]
  },
  {
   "cell_type": "code",
   "execution_count": 6,
   "metadata": {
    "collapsed": true
   },
   "outputs": [],
   "source": [
    "project_id = 'atriskwiki'"
   ]
  },
  {
   "cell_type": "code",
   "execution_count": 7,
   "metadata": {
    "collapsed": true
   },
   "outputs": [],
   "source": [
    "# Grab the application's default credentials from the environment.\n",
    "credentials = GoogleCredentials.get_application_default()\n",
    "# Construct the service object for interacting with the BigQuery API.\n",
    "bigquery_service = build('bigquery', 'v2', credentials=credentials)"
   ]
  },
  {
   "cell_type": "code",
   "execution_count": 8,
   "metadata": {
    "collapsed": false
   },
   "outputs": [
    {
     "name": "stdout",
     "output_type": "stream",
     "text": [
      "Query Results:\n",
      "London Capitals 11057885 /* Franchise history */\n",
      "Trina Echolls 5663604 None\n",
      "Napoleon complex 9414577 deleted spam\n",
      "WKYC 1905713 /* Past slogans */\n",
      "Kids' WB 481171 /* Old or classic shows */\n",
      "Colin Powell 6984 /* Military career */\n",
      "Vasily Aksyonov 651825 /* Early life */ wikify\n",
      "University of Florida 60611 /* Benefactors */\n",
      "Jack Brabham 16564 /* External links */\n",
      "The Rolling Stones 31056 /* Personnel Men Who Do Bad Birds?......\"MOMMY! EVERYBODY LEFT ME..CAN I HAVE SOME WARM MILK AND PUT ME TO BED NOW!!!??? :) */\n"
     ]
    }
   ],
   "source": [
    "try:\n",
    "    # [START run_query]\n",
    "    query_request = bigquery_service.jobs()\n",
    "    query_data = {\n",
    "        'query': (\n",
    "            'SELECT title, id, comment FROM [bigquery-public-data:samples.wikipedia] LIMIT 10;')\n",
    "    }\n",
    "\n",
    "    query_response = query_request.query(\n",
    "        projectId=project_id,\n",
    "        body=query_data).execute()\n",
    "    # [END run_query]\n",
    "\n",
    "    # [START print_results]\n",
    "    print('Query Results:')\n",
    "    for row in query_response['rows']:\n",
    "        title = row['f'][0]['v']\n",
    "        id = row['f'][1]['v']\n",
    "        comment = row['f'][2]['v']\n",
    "        print(title, id, comment)\n",
    "    # [END print_results]\n",
    "\n",
    "except HttpError as err:\n",
    "    print('Error: {}'.format(err.content))\n",
    "    raise err"
   ]
  },
  {
   "cell_type": "code",
   "execution_count": null,
   "metadata": {
    "collapsed": true
   },
   "outputs": [],
   "source": []
  }
 ],
 "metadata": {
  "kernelspec": {
   "display_name": "Python 3",
   "language": "python",
   "name": "python3"
  },
  "language_info": {
   "codemirror_mode": {
    "name": "ipython",
    "version": 3
   },
   "file_extension": ".py",
   "mimetype": "text/x-python",
   "name": "python",
   "nbconvert_exporter": "python",
   "pygments_lexer": "ipython3",
   "version": "3.4.4"
  }
 },
 "nbformat": 4,
 "nbformat_minor": 0
}
