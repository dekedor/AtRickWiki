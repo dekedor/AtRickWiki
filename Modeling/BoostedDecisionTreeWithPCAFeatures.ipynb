{
 "cells": [
  {
   "cell_type": "code",
   "execution_count": 13,
   "metadata": {
    "collapsed": false
   },
   "outputs": [],
   "source": [
    "import pandas as pd\n",
    "import numpy as np\n",
    "import pickle\n",
    "import xgboost as xgb\n",
    "import scipy\n",
    "from sklearn.cross_validation import train_test_split\n",
    "import matplotlib.pyplot as plt\n",
    "import matplotlib as mpl\n",
    "from sklearn.cross_validation import StratifiedKFold\n",
    "%matplotlib inline"
   ]
  },
  {
   "cell_type": "code",
   "execution_count": 20,
   "metadata": {
    "collapsed": false
   },
   "outputs": [],
   "source": [
    "train_data = pickle.load(open(\"072716_COMBINED_DATA_TRAIN.p\",\"rb\"))"
   ]
  },
  {
   "cell_type": "code",
   "execution_count": 21,
   "metadata": {
    "collapsed": false
   },
   "outputs": [],
   "source": [
    "nonDataCols = ['page_id','page_is_ep','article_id', 'days_since_touch']\n",
    "colsToExclude = []\n",
    "train_data = train_data.dropna(axis=0)\n",
    "train_data['exLink_count'] = train_data['exLink_count'] / train_data['page_len']\n",
    "train_data['pl_count'] = train_data['pl_count'] / train_data['page_len']\n",
    "classes = train_data['page_is_ep'].as_matrix()\n",
    "page_ids = train_data['page_id']\n",
    "train_data = train_data.drop(nonDataCols,axis=1)\n",
    "features = train_data.columns"
   ]
  },
  {
   "cell_type": "code",
   "execution_count": 22,
   "metadata": {
    "collapsed": false
   },
   "outputs": [],
   "source": [
    "X_array = scipy.sparse.csr_matrix(train_data.values).toarray()"
   ]
  },
  {
   "cell_type": "code",
   "execution_count": 23,
   "metadata": {
    "collapsed": true
   },
   "outputs": [],
   "source": [
    "X_train, X_test, y_train, y_test = train_test_split(X_array, classes, test_size=0.2)"
   ]
  },
  {
   "cell_type": "code",
   "execution_count": 24,
   "metadata": {
    "collapsed": true
   },
   "outputs": [],
   "source": [
    "dtrain = xgb.DMatrix(X_train, label=y_train)\n",
    "dtest = xgb.DMatrix(X_test, label=y_test)"
   ]
  },
  {
   "cell_type": "code",
   "execution_count": 25,
   "metadata": {
    "collapsed": true
   },
   "outputs": [],
   "source": [
    "param = {'bst:max_depth':2, 'bst:eta':1, 'silent':1, 'objective':'binary:logistic' }\n",
    "evallist  = [(dtest,'eval'), (dtrain,'train')]\n",
    "plst = param.items()"
   ]
  },
  {
   "cell_type": "code",
   "execution_count": 26,
   "metadata": {
    "collapsed": false
   },
   "outputs": [
    {
     "name": "stderr",
     "output_type": "stream",
     "text": [
      "[0]\teval-error:0.075444\ttrain-error:0.073699\n",
      "[1]\teval-error:0.072027\ttrain-error:0.069576\n",
      "[2]\teval-error:0.071172\ttrain-error:0.068893\n",
      "[3]\teval-error:0.072796\ttrain-error:0.069533\n",
      "[4]\teval-error:0.072027\ttrain-error:0.069149\n",
      "[5]\teval-error:0.072710\ttrain-error:0.069063\n",
      "[6]\teval-error:0.070745\ttrain-error:0.068252\n",
      "[7]\teval-error:0.071001\ttrain-error:0.067675\n",
      "[8]\teval-error:0.070147\ttrain-error:0.067098\n",
      "[9]\teval-error:0.069207\ttrain-error:0.066393\n"
     ]
    }
   ],
   "source": [
    "num_round = 10\n",
    "bst = xgb.train(plst, dtrain, num_round, evallist)"
   ]
  },
  {
   "cell_type": "code",
   "execution_count": 27,
   "metadata": {
    "collapsed": true
   },
   "outputs": [],
   "source": [
    "ypred = bst.predict(dtest)"
   ]
  },
  {
   "cell_type": "code",
   "execution_count": 28,
   "metadata": {
    "collapsed": false
   },
   "outputs": [
    {
     "name": "stdout",
     "output_type": "stream",
     "text": [
      "0.894198419824\n"
     ]
    }
   ],
   "source": [
    "# roc curve\n",
    "num_points = 101\n",
    "thresholds = np.linspace(1., 0., num_points)\n",
    "tpr = []\n",
    "fpr = []\n",
    "auc = 0\n",
    "for i, t in enumerate(thresholds):\n",
    "    ypredclass = ypred > t\n",
    "    tpr.append(sum((y_test == 1) * (ypredclass == 1))/sum(y_test == 1))\n",
    "    fpr.append(sum((y_test == 0) * (ypredclass == 1))/sum(y_test == 0))\n",
    "    if i > 0:\n",
    "        auc = auc + (tpr[-1] + tpr[-2])/2. * (fpr[-1] - fpr[-2])\n",
    "print(auc)"
   ]
  },
  {
   "cell_type": "code",
   "execution_count": 29,
   "metadata": {
    "collapsed": false
   },
   "outputs": [
    {
     "data": {
      "text/plain": [
       "<matplotlib.text.Text at 0x1102bbb38>"
      ]
     },
     "execution_count": 29,
     "metadata": {},
     "output_type": "execute_result"
    },
    {
     "data": {
      "image/png": "[encoded data removed]",
      "text/plain": [
       "<matplotlib.figure.Figure at 0x1422caef0>"
      ]
     },
     "metadata": {},
     "output_type": "display_data"
    }
   ],
   "source": [
    "fig = plt.figure(num=None, figsize=(6, 6), dpi=80, facecolor='w', edgecolor='k')\n",
    "mpl.rcParams.update({'font.size': 18})\n",
    "plt.plot(fpr, tpr, 'k-', linewidth=2)\n",
    "plt.xlabel('False Positive Rate')\n",
    "plt.ylabel('True Positive Rate')"
   ]
  },
  {
   "cell_type": "code",
   "execution_count": 30,
   "metadata": {
    "collapsed": false
   },
   "outputs": [
    {
     "name": "stderr",
     "output_type": "stream",
     "text": [
      "[0]\teval-error:0.075444\ttrain-error:0.073699\n",
      "[0]\teval-error:0.075444\ttrain-error:0.073699\n",
      "[1]\teval-error:0.072027\ttrain-error:0.069576\n",
      "[0]\teval-error:0.075444\ttrain-error:0.073699\n",
      "[1]\teval-error:0.072027\ttrain-error:0.069576\n",
      "[2]\teval-error:0.071172\ttrain-error:0.068893\n",
      "[3]\teval-error:0.072796\ttrain-error:0.069533\n",
      "[0]\teval-error:0.075444\ttrain-error:0.073699\n",
      "[1]\teval-error:0.072027\ttrain-error:0.069576\n",
      "[2]\teval-error:0.071172\ttrain-error:0.068893\n",
      "[3]\teval-error:0.072796\ttrain-error:0.069533\n",
      "[4]\teval-error:0.072027\ttrain-error:0.069149\n",
      "[5]\teval-error:0.072710\ttrain-error:0.069063\n",
      "[6]\teval-error:0.070745\ttrain-error:0.068252\n",
      "[0]\teval-error:0.075444\ttrain-error:0.073699\n",
      "[1]\teval-error:0.072027\ttrain-error:0.069576\n",
      "[2]\teval-error:0.071172\ttrain-error:0.068893\n",
      "[3]\teval-error:0.072796\ttrain-error:0.069533\n",
      "[4]\teval-error:0.072027\ttrain-error:0.069149\n",
      "[5]\teval-error:0.072710\ttrain-error:0.069063\n",
      "[6]\teval-error:0.070745\ttrain-error:0.068252\n",
      "[7]\teval-error:0.071001\ttrain-error:0.067675\n",
      "[8]\teval-error:0.070147\ttrain-error:0.067098\n",
      "[9]\teval-error:0.069207\ttrain-error:0.066393\n",
      "[10]\teval-error:0.069805\ttrain-error:0.066094\n",
      "[11]\teval-error:0.069720\ttrain-error:0.066116\n",
      "[0]\teval-error:0.075444\ttrain-error:0.073699\n",
      "[1]\teval-error:0.072027\ttrain-error:0.069576\n",
      "[2]\teval-error:0.071172\ttrain-error:0.068893\n",
      "[3]\teval-error:0.072796\ttrain-error:0.069533\n",
      "[4]\teval-error:0.072027\ttrain-error:0.069149\n",
      "[5]\teval-error:0.072710\ttrain-error:0.069063\n",
      "[6]\teval-error:0.070745\ttrain-error:0.068252\n",
      "[7]\teval-error:0.071001\ttrain-error:0.067675\n",
      "[8]\teval-error:0.070147\ttrain-error:0.067098\n",
      "[9]\teval-error:0.069207\ttrain-error:0.066393\n",
      "[10]\teval-error:0.069805\ttrain-error:0.066094\n",
      "[11]\teval-error:0.069720\ttrain-error:0.066116\n",
      "[12]\teval-error:0.070403\ttrain-error:0.065881\n",
      "[13]\teval-error:0.069463\ttrain-error:0.065624\n",
      "[14]\teval-error:0.068609\ttrain-error:0.064321\n",
      "[15]\teval-error:0.068182\ttrain-error:0.064236\n",
      "[16]\teval-error:0.068353\ttrain-error:0.063979\n",
      "[17]\teval-error:0.068353\ttrain-error:0.063851\n",
      "[18]\teval-error:0.067840\ttrain-error:0.063232\n",
      "[19]\teval-error:0.067584\ttrain-error:0.063317\n",
      "[20]\teval-error:0.067669\ttrain-error:0.063103\n",
      "[0]\teval-error:0.075444\ttrain-error:0.073699\n",
      "[1]\teval-error:0.072027\ttrain-error:0.069576\n",
      "[2]\teval-error:0.071172\ttrain-error:0.068893\n",
      "[3]\teval-error:0.072796\ttrain-error:0.069533\n",
      "[4]\teval-error:0.072027\ttrain-error:0.069149\n",
      "[5]\teval-error:0.072710\ttrain-error:0.069063\n",
      "[6]\teval-error:0.070745\ttrain-error:0.068252\n",
      "[7]\teval-error:0.071001\ttrain-error:0.067675\n",
      "[8]\teval-error:0.070147\ttrain-error:0.067098\n",
      "[9]\teval-error:0.069207\ttrain-error:0.066393\n",
      "[10]\teval-error:0.069805\ttrain-error:0.066094\n",
      "[11]\teval-error:0.069720\ttrain-error:0.066116\n",
      "[12]\teval-error:0.070403\ttrain-error:0.065881\n",
      "[13]\teval-error:0.069463\ttrain-error:0.065624\n",
      "[14]\teval-error:0.068609\ttrain-error:0.064321\n",
      "[15]\teval-error:0.068182\ttrain-error:0.064236\n",
      "[16]\teval-error:0.068353\ttrain-error:0.063979\n",
      "[17]\teval-error:0.068353\ttrain-error:0.063851\n",
      "[18]\teval-error:0.067840\ttrain-error:0.063232\n",
      "[19]\teval-error:0.067584\ttrain-error:0.063317\n",
      "[20]\teval-error:0.067669\ttrain-error:0.063103\n",
      "[21]\teval-error:0.067327\ttrain-error:0.062762\n",
      "[22]\teval-error:0.067327\ttrain-error:0.062634\n",
      "[23]\teval-error:0.067498\ttrain-error:0.062548\n",
      "[24]\teval-error:0.067584\ttrain-error:0.061843\n",
      "[25]\teval-error:0.067242\ttrain-error:0.061694\n",
      "[26]\teval-error:0.067071\ttrain-error:0.061373\n",
      "[27]\teval-error:0.067327\ttrain-error:0.061224\n",
      "[28]\teval-error:0.067242\ttrain-error:0.061266\n",
      "[29]\teval-error:0.067242\ttrain-error:0.061160\n",
      "[30]\teval-error:0.067157\ttrain-error:0.060775\n",
      "[31]\teval-error:0.066302\ttrain-error:0.060754\n",
      "[32]\teval-error:0.066644\ttrain-error:0.060455\n",
      "[33]\teval-error:0.066900\ttrain-error:0.060455\n",
      "[34]\teval-error:0.067071\ttrain-error:0.060390\n",
      "[0]\teval-error:0.075444\ttrain-error:0.073699\n",
      "[1]\teval-error:0.072027\ttrain-error:0.069576\n",
      "[2]\teval-error:0.071172\ttrain-error:0.068893\n",
      "[3]\teval-error:0.072796\ttrain-error:0.069533\n",
      "[4]\teval-error:0.072027\ttrain-error:0.069149\n",
      "[5]\teval-error:0.072710\ttrain-error:0.069063\n",
      "[6]\teval-error:0.070745\ttrain-error:0.068252\n",
      "[7]\teval-error:0.071001\ttrain-error:0.067675\n",
      "[8]\teval-error:0.070147\ttrain-error:0.067098\n",
      "[9]\teval-error:0.069207\ttrain-error:0.066393\n",
      "[10]\teval-error:0.069805\ttrain-error:0.066094\n",
      "[11]\teval-error:0.069720\ttrain-error:0.066116\n",
      "[12]\teval-error:0.070403\ttrain-error:0.065881\n",
      "[13]\teval-error:0.069463\ttrain-error:0.065624\n",
      "[14]\teval-error:0.068609\ttrain-error:0.064321\n",
      "[15]\teval-error:0.068182\ttrain-error:0.064236\n",
      "[16]\teval-error:0.068353\ttrain-error:0.063979\n",
      "[17]\teval-error:0.068353\ttrain-error:0.063851\n",
      "[18]\teval-error:0.067840\ttrain-error:0.063232\n",
      "[19]\teval-error:0.067584\ttrain-error:0.063317\n",
      "[20]\teval-error:0.067669\ttrain-error:0.063103\n",
      "[21]\teval-error:0.067327\ttrain-error:0.062762\n",
      "[22]\teval-error:0.067327\ttrain-error:0.062634\n",
      "[23]\teval-error:0.067498\ttrain-error:0.062548\n",
      "[24]\teval-error:0.067584\ttrain-error:0.061843\n",
      "[25]\teval-error:0.067242\ttrain-error:0.061694\n",
      "[26]\teval-error:0.067071\ttrain-error:0.061373\n",
      "[27]\teval-error:0.067327\ttrain-error:0.061224\n",
      "[28]\teval-error:0.067242\ttrain-error:0.061266\n",
      "[29]\teval-error:0.067242\ttrain-error:0.061160\n",
      "[30]\teval-error:0.067157\ttrain-error:0.060775\n",
      "[31]\teval-error:0.066302\ttrain-error:0.060754\n",
      "[32]\teval-error:0.066644\ttrain-error:0.060455\n",
      "[33]\teval-error:0.066900\ttrain-error:0.060455\n",
      "[34]\teval-error:0.067071\ttrain-error:0.060390\n",
      "[35]\teval-error:0.067071\ttrain-error:0.060177\n",
      "[36]\teval-error:0.066986\ttrain-error:0.059985\n",
      "[37]\teval-error:0.066815\ttrain-error:0.060027\n",
      "[38]\teval-error:0.066473\ttrain-error:0.059921\n",
      "[39]\teval-error:0.066815\ttrain-error:0.059643\n",
      "[40]\teval-error:0.066729\ttrain-error:0.059557\n",
      "[41]\teval-error:0.066815\ttrain-error:0.059579\n",
      "[42]\teval-error:0.066046\ttrain-error:0.059408\n",
      "[43]\teval-error:0.066046\ttrain-error:0.059451\n",
      "[44]\teval-error:0.066131\ttrain-error:0.059194\n",
      "[45]\teval-error:0.066473\ttrain-error:0.059087\n",
      "[46]\teval-error:0.066302\ttrain-error:0.058981\n",
      "[47]\teval-error:0.066388\ttrain-error:0.058917\n",
      "[48]\teval-error:0.065960\ttrain-error:0.058532\n",
      "[49]\teval-error:0.065875\ttrain-error:0.058276\n",
      "[50]\teval-error:0.065875\ttrain-error:0.057613\n",
      "[51]\teval-error:0.064764\ttrain-error:0.057400\n",
      "[52]\teval-error:0.064764\ttrain-error:0.057336\n",
      "[53]\teval-error:0.064337\ttrain-error:0.057336\n",
      "[54]\teval-error:0.064252\ttrain-error:0.057079\n",
      "[55]\teval-error:0.064422\ttrain-error:0.056780\n",
      "[56]\teval-error:0.064422\ttrain-error:0.056695\n",
      "[57]\teval-error:0.064166\ttrain-error:0.056417\n",
      "[58]\teval-error:0.064337\ttrain-error:0.056182\n",
      "[0]\teval-error:0.075444\ttrain-error:0.073699\n",
      "[1]\teval-error:0.072027\ttrain-error:0.069576\n",
      "[2]\teval-error:0.071172\ttrain-error:0.068893\n",
      "[3]\teval-error:0.072796\ttrain-error:0.069533\n",
      "[4]\teval-error:0.072027\ttrain-error:0.069149\n",
      "[5]\teval-error:0.072710\ttrain-error:0.069063\n",
      "[6]\teval-error:0.070745\ttrain-error:0.068252\n",
      "[7]\teval-error:0.071001\ttrain-error:0.067675\n",
      "[8]\teval-error:0.070147\ttrain-error:0.067098\n",
      "[9]\teval-error:0.069207\ttrain-error:0.066393\n",
      "[10]\teval-error:0.069805\ttrain-error:0.066094\n",
      "[11]\teval-error:0.069720\ttrain-error:0.066116\n",
      "[12]\teval-error:0.070403\ttrain-error:0.065881\n",
      "[13]\teval-error:0.069463\ttrain-error:0.065624\n",
      "[14]\teval-error:0.068609\ttrain-error:0.064321\n",
      "[15]\teval-error:0.068182\ttrain-error:0.064236\n",
      "[16]\teval-error:0.068353\ttrain-error:0.063979\n",
      "[17]\teval-error:0.068353\ttrain-error:0.063851\n",
      "[18]\teval-error:0.067840\ttrain-error:0.063232\n",
      "[19]\teval-error:0.067584\ttrain-error:0.063317\n",
      "[20]\teval-error:0.067669\ttrain-error:0.063103\n",
      "[21]\teval-error:0.067327\ttrain-error:0.062762\n",
      "[22]\teval-error:0.067327\ttrain-error:0.062634\n",
      "[23]\teval-error:0.067498\ttrain-error:0.062548\n",
      "[24]\teval-error:0.067584\ttrain-error:0.061843\n",
      "[25]\teval-error:0.067242\ttrain-error:0.061694\n",
      "[26]\teval-error:0.067071\ttrain-error:0.061373\n",
      "[27]\teval-error:0.067327\ttrain-error:0.061224\n",
      "[28]\teval-error:0.067242\ttrain-error:0.061266\n",
      "[29]\teval-error:0.067242\ttrain-error:0.061160\n",
      "[30]\teval-error:0.067157\ttrain-error:0.060775\n",
      "[31]\teval-error:0.066302\ttrain-error:0.060754\n",
      "[32]\teval-error:0.066644\ttrain-error:0.060455\n",
      "[33]\teval-error:0.066900\ttrain-error:0.060455\n",
      "[34]\teval-error:0.067071\ttrain-error:0.060390\n",
      "[35]\teval-error:0.067071\ttrain-error:0.060177\n",
      "[36]\teval-error:0.066986\ttrain-error:0.059985\n",
      "[37]\teval-error:0.066815\ttrain-error:0.060027\n",
      "[38]\teval-error:0.066473\ttrain-error:0.059921\n",
      "[39]\teval-error:0.066815\ttrain-error:0.059643\n",
      "[40]\teval-error:0.066729\ttrain-error:0.059557\n",
      "[41]\teval-error:0.066815\ttrain-error:0.059579\n",
      "[42]\teval-error:0.066046\ttrain-error:0.059408\n",
      "[43]\teval-error:0.066046\ttrain-error:0.059451\n",
      "[44]\teval-error:0.066131\ttrain-error:0.059194\n",
      "[45]\teval-error:0.066473\ttrain-error:0.059087\n",
      "[46]\teval-error:0.066302\ttrain-error:0.058981\n",
      "[47]\teval-error:0.066388\ttrain-error:0.058917\n",
      "[48]\teval-error:0.065960\ttrain-error:0.058532\n",
      "[49]\teval-error:0.065875\ttrain-error:0.058276\n",
      "[50]\teval-error:0.065875\ttrain-error:0.057613\n",
      "[51]\teval-error:0.064764\ttrain-error:0.057400\n",
      "[52]\teval-error:0.064764\ttrain-error:0.057336\n",
      "[53]\teval-error:0.064337\ttrain-error:0.057336\n",
      "[54]\teval-error:0.064252\ttrain-error:0.057079\n",
      "[55]\teval-error:0.064422\ttrain-error:0.056780\n",
      "[56]\teval-error:0.064422\ttrain-error:0.056695\n",
      "[57]\teval-error:0.064166\ttrain-error:0.056417\n",
      "[58]\teval-error:0.064337\ttrain-error:0.056182\n",
      "[59]\teval-error:0.064337\ttrain-error:0.056118\n",
      "[60]\teval-error:0.064508\ttrain-error:0.055798\n",
      "[61]\teval-error:0.065362\ttrain-error:0.056225\n",
      "[62]\teval-error:0.065106\ttrain-error:0.055819\n",
      "[63]\teval-error:0.065362\ttrain-error:0.055776\n",
      "[64]\teval-error:0.065362\ttrain-error:0.055584\n",
      "[65]\teval-error:0.065533\ttrain-error:0.055605\n",
      "[66]\teval-error:0.064935\ttrain-error:0.055285\n",
      "[67]\teval-error:0.065021\ttrain-error:0.055135\n",
      "[68]\teval-error:0.065106\ttrain-error:0.054900\n",
      "[69]\teval-error:0.065106\ttrain-error:0.054751\n",
      "[70]\teval-error:0.065191\ttrain-error:0.054623\n",
      "[71]\teval-error:0.065191\ttrain-error:0.054537\n",
      "[72]\teval-error:0.065277\ttrain-error:0.054516\n",
      "[73]\teval-error:0.065277\ttrain-error:0.054516\n",
      "[74]\teval-error:0.065704\ttrain-error:0.054260\n",
      "[75]\teval-error:0.066131\ttrain-error:0.054174\n",
      "[76]\teval-error:0.065960\ttrain-error:0.054153\n",
      "[77]\teval-error:0.066217\ttrain-error:0.054131\n",
      "[78]\teval-error:0.066388\ttrain-error:0.053832\n",
      "[79]\teval-error:0.066217\ttrain-error:0.053832\n",
      "[80]\teval-error:0.066302\ttrain-error:0.053790\n",
      "[81]\teval-error:0.066473\ttrain-error:0.053576\n",
      "[82]\teval-error:0.066217\ttrain-error:0.053341\n",
      "[83]\teval-error:0.066302\ttrain-error:0.053256\n",
      "[84]\teval-error:0.066302\ttrain-error:0.053127\n",
      "[85]\teval-error:0.066217\ttrain-error:0.053085\n",
      "[86]\teval-error:0.066729\ttrain-error:0.052871\n",
      "[87]\teval-error:0.066558\ttrain-error:0.052657\n",
      "[88]\teval-error:0.066388\ttrain-error:0.052529\n",
      "[89]\teval-error:0.066131\ttrain-error:0.052273\n",
      "[90]\teval-error:0.065875\ttrain-error:0.052123\n",
      "[91]\teval-error:0.065960\ttrain-error:0.052081\n",
      "[92]\teval-error:0.065875\ttrain-error:0.051952\n",
      "[93]\teval-error:0.065704\ttrain-error:0.051739\n",
      "[94]\teval-error:0.065875\ttrain-error:0.051675\n",
      "[95]\teval-error:0.065875\ttrain-error:0.051440\n",
      "[96]\teval-error:0.065789\ttrain-error:0.051568\n",
      "[97]\teval-error:0.065875\ttrain-error:0.051440\n",
      "[98]\teval-error:0.065789\ttrain-error:0.051376\n",
      "[99]\teval-error:0.065789\ttrain-error:0.051248\n"
     ]
    }
   ],
   "source": [
    "# let's look at the effect of number of rounds of training\n",
    "test_rounds = np.unique(np.logspace(0, 2, 10, dtype=int))\n",
    "auc_array = []\n",
    "for num_round in test_rounds:\n",
    "    bst = xgb.train(plst, dtrain, num_round, evallist )\n",
    "    ypred = bst.predict(dtest)\n",
    "    # do you smell what the roc is cookin' jabroni?\n",
    "    num_points = 101\n",
    "    thresholds = np.linspace(1., 0., num_points)\n",
    "    tpr = []\n",
    "    fpr = []\n",
    "    auc = 0\n",
    "    for i, t in enumerate(thresholds):\n",
    "        ypredclass = ypred > t\n",
    "        tpr.append(sum((y_test == 1) * (ypredclass == 1))/sum(y_test == 1))\n",
    "        fpr.append(sum((y_test == 0) * (ypredclass == 1))/sum(y_test == 0))\n",
    "        if i > 0:\n",
    "            auc = auc + (tpr[-1] + tpr[-2])/2. * (fpr[-1] - fpr[-2])\n",
    "    auc_array.append(auc)"
   ]
  },
  {
   "cell_type": "code",
   "execution_count": 32,
   "metadata": {
    "collapsed": false
   },
   "outputs": [
    {
     "data": {
      "text/plain": [
       "<matplotlib.text.Text at 0x140cb56a0>"
      ]
     },
     "execution_count": 32,
     "metadata": {},
     "output_type": "execute_result"
    },
    {
     "data": {
      "image/png": "[encoded data removed]",
      "text/plain": [
       "<matplotlib.figure.Figure at 0x112f7d5f8>"
      ]
     },
     "metadata": {},
     "output_type": "display_data"
    }
   ],
   "source": [
    "fig = plt.figure(num=None, figsize=(6, 6), dpi=80, facecolor='w', edgecolor='k')\n",
    "mpl.rcParams.update({'font.size': 22})\n",
    "plt.plot(np.array(test_rounds), auc_array, 'k-', linewidth=2)\n",
    "plt.ylim([.75, 1])\n",
    "plt.xlabel('Number of Training Rounds')\n",
    "plt.ylabel('AUC')"
   ]
  },
  {
   "cell_type": "code",
   "execution_count": 33,
   "metadata": {
    "collapsed": true
   },
   "outputs": [],
   "source": [
    "# stratified k-fold validation\n",
    "skf = StratifiedKFold(classes, n_folds=10, shuffle=True)"
   ]
  },
  {
   "cell_type": "code",
   "execution_count": 34,
   "metadata": {
    "collapsed": false
   },
   "outputs": [
    {
     "name": "stderr",
     "output_type": "stream",
     "text": [
      "[0]\teval-error:0.075444\ttrain-error:0.073870\n",
      "[1]\teval-error:0.070574\ttrain-error:0.069555\n",
      "[2]\teval-error:0.069805\ttrain-error:0.069555\n",
      "[3]\teval-error:0.071001\ttrain-error:0.069875\n",
      "[4]\teval-error:0.070660\ttrain-error:0.068743\n",
      "[5]\teval-error:0.070062\ttrain-error:0.068273\n",
      "[6]\teval-error:0.069976\ttrain-error:0.067910\n",
      "[7]\teval-error:0.068524\ttrain-error:0.067632\n",
      "[8]\teval-error:0.069293\ttrain-error:0.066756\n",
      "[9]\teval-error:0.067327\ttrain-error:0.067013\n",
      "[0]\teval-error:0.074932\ttrain-error:0.073528\n",
      "[1]\teval-error:0.069634\ttrain-error:0.070046\n",
      "[2]\teval-error:0.069036\ttrain-error:0.069512\n",
      "[3]\teval-error:0.069549\ttrain-error:0.069897\n",
      "[4]\teval-error:0.069378\ttrain-error:0.069598\n",
      "[5]\teval-error:0.069207\ttrain-error:0.069170\n",
      "[6]\teval-error:0.068951\ttrain-error:0.069128\n",
      "[7]\teval-error:0.069207\ttrain-error:0.069384\n",
      "[8]\teval-error:0.068609\ttrain-error:0.068999\n",
      "[9]\teval-error:0.068524\ttrain-error:0.068786\n",
      "[0]\teval-error:0.075273\ttrain-error:0.073699\n",
      "[1]\teval-error:0.070062\ttrain-error:0.069256\n",
      "[2]\teval-error:0.069122\ttrain-error:0.068658\n",
      "[3]\teval-error:0.072027\ttrain-error:0.069897\n",
      "[4]\teval-error:0.070745\ttrain-error:0.069833\n",
      "[5]\teval-error:0.069634\ttrain-error:0.068807\n",
      "[6]\teval-error:0.068694\ttrain-error:0.067974\n",
      "[7]\teval-error:0.069293\ttrain-error:0.068359\n",
      "[8]\teval-error:0.068524\ttrain-error:0.067739\n",
      "[9]\teval-error:0.068267\ttrain-error:0.067376\n",
      "[0]\teval-error:0.074932\ttrain-error:0.073614\n",
      "[1]\teval-error:0.069976\ttrain-error:0.069298\n",
      "[2]\teval-error:0.069293\ttrain-error:0.068807\n",
      "[3]\teval-error:0.070916\ttrain-error:0.069491\n",
      "[4]\teval-error:0.070318\ttrain-error:0.069683\n",
      "[5]\teval-error:0.069805\ttrain-error:0.069384\n",
      "[6]\teval-error:0.068780\ttrain-error:0.069149\n",
      "[7]\teval-error:0.068609\ttrain-error:0.068273\n",
      "[8]\teval-error:0.067498\ttrain-error:0.067889\n",
      "[9]\teval-error:0.067413\ttrain-error:0.067525\n",
      "[0]\teval-error:0.075444\ttrain-error:0.073870\n",
      "[1]\teval-error:0.070147\ttrain-error:0.069256\n",
      "[2]\teval-error:0.070062\ttrain-error:0.069192\n",
      "[3]\teval-error:0.070318\ttrain-error:0.069491\n",
      "[4]\teval-error:0.070574\ttrain-error:0.069149\n",
      "[5]\teval-error:0.070403\ttrain-error:0.068893\n",
      "[6]\teval-error:0.070830\ttrain-error:0.068700\n",
      "[7]\teval-error:0.070660\ttrain-error:0.068017\n",
      "[8]\teval-error:0.070318\ttrain-error:0.067995\n",
      "[9]\teval-error:0.070062\ttrain-error:0.067931\n",
      "[0]\teval-error:0.075444\ttrain-error:0.073870\n",
      "[1]\teval-error:0.070147\ttrain-error:0.069256\n",
      "[2]\teval-error:0.069122\ttrain-error:0.068679\n",
      "[3]\teval-error:0.071856\ttrain-error:0.069982\n",
      "[4]\teval-error:0.069207\ttrain-error:0.068444\n",
      "[5]\teval-error:0.069549\ttrain-error:0.068380\n",
      "[6]\teval-error:0.068694\ttrain-error:0.068102\n",
      "[7]\teval-error:0.067925\ttrain-error:0.067483\n",
      "[8]\teval-error:0.067669\ttrain-error:0.067461\n",
      "[9]\teval-error:0.068438\ttrain-error:0.066970\n",
      "[0]\teval-error:0.075444\ttrain-error:0.073934\n",
      "[1]\teval-error:0.069463\ttrain-error:0.070132\n",
      "[2]\teval-error:0.068865\ttrain-error:0.069555\n",
      "[3]\teval-error:0.069378\ttrain-error:0.068145\n",
      "[4]\teval-error:0.068780\ttrain-error:0.068124\n",
      "[5]\teval-error:0.068694\ttrain-error:0.067931\n",
      "[6]\teval-error:0.067755\ttrain-error:0.067312\n",
      "[7]\teval-error:0.067669\ttrain-error:0.067568\n",
      "[8]\teval-error:0.067157\ttrain-error:0.067355\n",
      "[9]\teval-error:0.067071\ttrain-error:0.067269\n",
      "[0]\teval-error:0.075273\ttrain-error:0.073699\n",
      "[1]\teval-error:0.069634\ttrain-error:0.069897\n",
      "[2]\teval-error:0.068694\ttrain-error:0.069341\n",
      "[3]\teval-error:0.071001\ttrain-error:0.070473\n",
      "[4]\teval-error:0.069549\ttrain-error:0.069833\n",
      "[5]\teval-error:0.069207\ttrain-error:0.069320\n",
      "[6]\teval-error:0.067755\ttrain-error:0.068252\n",
      "[7]\teval-error:0.068096\ttrain-error:0.068145\n",
      "[8]\teval-error:0.068865\ttrain-error:0.067739\n",
      "[9]\teval-error:0.067755\ttrain-error:0.067355\n",
      "[0]\teval-error:0.073906\ttrain-error:0.072866\n",
      "[1]\teval-error:0.069634\ttrain-error:0.070153\n",
      "[2]\teval-error:0.068951\ttrain-error:0.069555\n",
      "[3]\teval-error:0.069293\ttrain-error:0.069768\n",
      "[4]\teval-error:0.069293\ttrain-error:0.069619\n",
      "[5]\teval-error:0.069720\ttrain-error:0.069619\n",
      "[6]\teval-error:0.070318\ttrain-error:0.069469\n",
      "[7]\teval-error:0.069805\ttrain-error:0.068786\n",
      "[8]\teval-error:0.069976\ttrain-error:0.068999\n",
      "[9]\teval-error:0.069378\ttrain-error:0.068850\n",
      "[0]\teval-error:0.073906\ttrain-error:0.072866\n",
      "[1]\teval-error:0.069720\ttrain-error:0.069491\n",
      "[2]\teval-error:0.069036\ttrain-error:0.068957\n",
      "[3]\teval-error:0.069549\ttrain-error:0.069192\n",
      "[4]\teval-error:0.068694\ttrain-error:0.068636\n",
      "[5]\teval-error:0.069122\ttrain-error:0.068081\n",
      "[6]\teval-error:0.068865\ttrain-error:0.067397\n",
      "[7]\teval-error:0.068524\ttrain-error:0.067077\n",
      "[8]\teval-error:0.069122\ttrain-error:0.067419\n",
      "[9]\teval-error:0.069207\ttrain-error:0.067162\n"
     ]
    }
   ],
   "source": [
    "num_round = 10\n",
    "kfold_auc_array = []\n",
    "i = 0\n",
    "for train_index, test_index in skf:\n",
    "    dtrain = xgb.DMatrix(X_array[train_index], label=classes[train_index])\n",
    "    dtest = xgb.DMatrix(X_array[test_index], label=classes[test_index])\n",
    "    bst = xgb.train(plst, dtrain, num_round, evallist)\n",
    "    ypred = bst.predict(dtest)\n",
    "    # roc curve\n",
    "    num_points = 1001\n",
    "    thresholds = np.linspace(1., 0., num_points)\n",
    "    tpr = []\n",
    "    fpr = []\n",
    "    auc = 0\n",
    "    for i, t in enumerate(thresholds):\n",
    "        ypredclass = ypred > t\n",
    "        tpr.append(sum((classes[test_index] == 1) * (ypredclass == 1))/sum(classes[test_index] == 1))\n",
    "        fpr.append(sum((classes[test_index] == 0) * (ypredclass == 1))/sum(classes[test_index] == 0))\n",
    "        if i > 0:\n",
    "            auc = auc + (tpr[-1] + tpr[-2])/2. * (fpr[-1] - fpr[-2])\n",
    "    kfold_auc_array.append(auc)\n",
    "    i = i + 1"
   ]
  },
  {
   "cell_type": "code",
   "execution_count": 35,
   "metadata": {
    "collapsed": false
   },
   "outputs": [
    {
     "data": {
      "text/plain": [
       "0.89241260464367611"
      ]
     },
     "execution_count": 35,
     "metadata": {},
     "output_type": "execute_result"
    }
   ],
   "source": [
    "np.mean(kfold_auc_array)"
   ]
  },
  {
   "cell_type": "code",
   "execution_count": 36,
   "metadata": {
    "collapsed": false
   },
   "outputs": [],
   "source": [
    "importance = bst.get_fscore(fmap='')"
   ]
  },
  {
   "cell_type": "code",
   "execution_count": 51,
   "metadata": {
    "collapsed": false
   },
   "outputs": [
    {
     "data": {
      "text/plain": [
       "<matplotlib.axes._subplots.AxesSubplot at 0x142279e80>"
      ]
     },
     "execution_count": 51,
     "metadata": {},
     "output_type": "execute_result"
    },
    {
     "data": {
      "text/plain": [
       "<matplotlib.figure.Figure at 0x142a69f98>"
      ]
     },
     "metadata": {},
     "output_type": "display_data"
    },
    {
     "data": {
      "image/png": "[encoded data removed]",
      "text/plain": [
       "<matplotlib.figure.Figure at 0x14227f7b8>"
      ]
     },
     "metadata": {},
     "output_type": "display_data"
    }
   ],
   "source": [
    "fig = plt.figure(num=None, figsize=(6, 6), dpi=80, facecolor='w', edgecolor='k')\n",
    "mpl.rcParams.update({'font.size': 22})\n",
    "xgb.plot_importance(bst)"
   ]
  },
  {
   "cell_type": "code",
   "execution_count": 41,
   "metadata": {
    "collapsed": false
   },
   "outputs": [
    {
     "data": {
      "text/plain": [
       "{'f0': 4,\n",
       " 'f1': 2,\n",
       " 'f110': 1,\n",
       " 'f1219': 1,\n",
       " 'f137': 1,\n",
       " 'f148': 1,\n",
       " 'f15': 1,\n",
       " 'f1533': 1,\n",
       " 'f1553': 1,\n",
       " 'f1554': 1,\n",
       " 'f2': 6,\n",
       " 'f20': 3,\n",
       " 'f262': 1,\n",
       " 'f337': 1,\n",
       " 'f374': 1,\n",
       " 'f634': 1,\n",
       " 'f788': 1,\n",
       " 'f87': 1}"
      ]
     },
     "execution_count": 41,
     "metadata": {},
     "output_type": "execute_result"
    }
   ],
   "source": [
    "importance"
   ]
  },
  {
   "cell_type": "code",
   "execution_count": 56,
   "metadata": {
    "collapsed": false
   },
   "outputs": [],
   "source": [
    "# let's try just these features in importance and see what happens\n",
    "#limit_train_data = train_data[list(features[[0, 1, 2, 15, 20, 87, 110, 137, 148, 262, 337, 374, 634, 788, \\\n",
    "#                                            1219, 1533, 1553, 1554]])]\n",
    "limit_train_data = train_data[list(features[[0, 1, 2, 20]])]\n",
    "\n",
    "limit_classes = classes\n",
    "limit_features = limit_train_data.columns"
   ]
  },
  {
   "cell_type": "code",
   "execution_count": 57,
   "metadata": {
    "collapsed": true
   },
   "outputs": [],
   "source": [
    "limit_X_array = scipy.sparse.csr_matrix(limit_train_data.values).toarray()"
   ]
  },
  {
   "cell_type": "code",
   "execution_count": 58,
   "metadata": {
    "collapsed": true
   },
   "outputs": [],
   "source": [
    "limit_X_train, limit_X_test, limit_y_train, limit_y_test = train_test_split(limit_X_array, \\\n",
    "                                                                            limit_classes, test_size=0.2)"
   ]
  },
  {
   "cell_type": "code",
   "execution_count": 59,
   "metadata": {
    "collapsed": true
   },
   "outputs": [],
   "source": [
    "limit_dtrain = xgb.DMatrix(limit_X_train, label=limit_y_train)\n",
    "limit_dtest = xgb.DMatrix(limit_X_test, label=limit_y_test)"
   ]
  },
  {
   "cell_type": "code",
   "execution_count": 60,
   "metadata": {
    "collapsed": true
   },
   "outputs": [],
   "source": [
    "limit_param = {'bst:max_depth':2, 'bst:eta':1, 'silent':1, 'objective':'binary:logistic' }\n",
    "limit_evallist  = [(limit_dtest,'eval'), (limit_dtrain,'train')]\n",
    "limit_plst = limit_param.items()"
   ]
  },
  {
   "cell_type": "code",
   "execution_count": 61,
   "metadata": {
    "collapsed": false
   },
   "outputs": [
    {
     "name": "stderr",
     "output_type": "stream",
     "text": [
      "[0]\teval-error:0.075871\ttrain-error:0.073763\n",
      "[1]\teval-error:0.070830\ttrain-error:0.070025\n",
      "[2]\teval-error:0.070745\ttrain-error:0.069192\n",
      "[3]\teval-error:0.070916\ttrain-error:0.069619\n",
      "[4]\teval-error:0.070574\ttrain-error:0.069128\n",
      "[5]\teval-error:0.069891\ttrain-error:0.068722\n",
      "[6]\teval-error:0.069976\ttrain-error:0.068978\n",
      "[7]\teval-error:0.069634\ttrain-error:0.068786\n",
      "[8]\teval-error:0.069805\ttrain-error:0.068679\n",
      "[9]\teval-error:0.068951\ttrain-error:0.068679\n"
     ]
    }
   ],
   "source": [
    "num_round = 10\n",
    "limit_bst = xgb.train(limit_plst, limit_dtrain, num_round, limit_evallist)"
   ]
  },
  {
   "cell_type": "code",
   "execution_count": 62,
   "metadata": {
    "collapsed": false
   },
   "outputs": [],
   "source": [
    "limit_ypred = limit_bst.predict(limit_dtest)"
   ]
  },
  {
   "cell_type": "code",
   "execution_count": 63,
   "metadata": {
    "collapsed": false
   },
   "outputs": [
    {
     "name": "stdout",
     "output_type": "stream",
     "text": [
      "0.892620225523\n"
     ]
    }
   ],
   "source": [
    "# roc curve\n",
    "num_points = 101\n",
    "thresholds = np.linspace(1., 0., num_points)\n",
    "tpr = []\n",
    "fpr = []\n",
    "auc = 0\n",
    "for i, t in enumerate(thresholds):\n",
    "    limit_ypredclass = limit_ypred > t\n",
    "    tpr.append(sum((limit_y_test == 1) * (limit_ypredclass == 1))/sum(limit_y_test == 1))\n",
    "    fpr.append(sum((limit_y_test == 0) * (limit_ypredclass == 1))/sum(limit_y_test == 0))\n",
    "    if i > 0:\n",
    "        auc = auc + (tpr[-1] + tpr[-2])/2. * (fpr[-1] - fpr[-2])\n",
    "print(auc)"
   ]
  },
  {
   "cell_type": "code",
   "execution_count": 64,
   "metadata": {
    "collapsed": false
   },
   "outputs": [
    {
     "data": {
      "text/plain": [
       "<matplotlib.text.Text at 0x111608160>"
      ]
     },
     "execution_count": 64,
     "metadata": {},
     "output_type": "execute_result"
    },
    {
     "data": {
      "image/png": "[encoded data removed]",
      "text/plain": [
       "<matplotlib.figure.Figure at 0x111603780>"
      ]
     },
     "metadata": {},
     "output_type": "display_data"
    }
   ],
   "source": [
    "fig = plt.figure(num=None, figsize=(6, 6), dpi=80, facecolor='w', edgecolor='k')\n",
    "mpl.rcParams.update({'font.size': 18})\n",
    "plt.plot(fpr, tpr, 'k-', linewidth=2)\n",
    "plt.xlabel('False Positive Rate')\n",
    "plt.ylabel('True Positive Rate')"
   ]
  },
  {
   "cell_type": "code",
   "execution_count": 65,
   "metadata": {
    "collapsed": false
   },
   "outputs": [
    {
     "data": {
      "text/plain": [
       "Index(['page_len', 'revisionslastyear', 'pageviews', 'ratio'], dtype='object')"
      ]
     },
     "execution_count": 65,
     "metadata": {},
     "output_type": "execute_result"
    }
   ],
   "source": [
    "limit_features"
   ]
  },
  {
   "cell_type": "code",
   "execution_count": 53,
   "metadata": {
    "collapsed": false
   },
   "outputs": [
    {
     "data": {
      "text/plain": [
       "<matplotlib.axes._subplots.AxesSubplot at 0x112dd1a20>"
      ]
     },
     "execution_count": 53,
     "metadata": {},
     "output_type": "execute_result"
    },
    {
     "data": {
      "image/png": "[encoded data removed]",
      "text/plain": [
       "<matplotlib.figure.Figure at 0x1422282b0>"
      ]
     },
     "metadata": {},
     "output_type": "display_data"
    }
   ],
   "source": [
    "xgb.plot_importance(limit_bst)"
   ]
  },
  {
   "cell_type": "code",
   "execution_count": 54,
   "metadata": {
    "collapsed": true
   },
   "outputs": [],
   "source": [
    "limit_importance = bst.get_fscore()"
   ]
  },
  {
   "cell_type": "code",
   "execution_count": 55,
   "metadata": {
    "collapsed": false
   },
   "outputs": [
    {
     "data": {
      "text/plain": [
       "{'f0': 4,\n",
       " 'f1': 2,\n",
       " 'f110': 1,\n",
       " 'f1219': 1,\n",
       " 'f137': 1,\n",
       " 'f148': 1,\n",
       " 'f15': 1,\n",
       " 'f1533': 1,\n",
       " 'f1553': 1,\n",
       " 'f1554': 1,\n",
       " 'f2': 6,\n",
       " 'f20': 3,\n",
       " 'f262': 1,\n",
       " 'f337': 1,\n",
       " 'f374': 1,\n",
       " 'f634': 1,\n",
       " 'f788': 1,\n",
       " 'f87': 1}"
      ]
     },
     "execution_count": 55,
     "metadata": {},
     "output_type": "execute_result"
    }
   ],
   "source": [
    "limit_importance"
   ]
  },
  {
   "cell_type": "code",
   "execution_count": null,
   "metadata": {
    "collapsed": true
   },
   "outputs": [],
   "source": []
  }
 ],
 "metadata": {
  "kernelspec": {
   "display_name": "Python 3",
   "language": "python",
   "name": "python3"
  },
  "language_info": {
   "codemirror_mode": {
    "name": "ipython",
    "version": 3
   },
   "file_extension": ".py",
   "mimetype": "text/x-python",
   "name": "python",
   "nbconvert_exporter": "python",
   "pygments_lexer": "ipython3",
   "version": "3.4.4"
  }
 },
 "nbformat": 4,
 "nbformat_minor": 0
}
