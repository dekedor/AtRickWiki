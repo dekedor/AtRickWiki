{
 "cells": [
  {
   "cell_type": "code",
   "execution_count": 16,
   "metadata": {
    "collapsed": true
   },
   "outputs": [],
   "source": [
    "import pandas as pd\n",
    "import numpy as np\n",
    "import pickle\n",
    "from sklearn.ensemble import RandomForestClassifier"
   ]
  },
  {
   "cell_type": "code",
   "execution_count": 17,
   "metadata": {
    "collapsed": true
   },
   "outputs": [],
   "source": [
    "train_data = pickle.load(open(\"COMBINED_DATA_TRAIN.p\",\"rb\"))"
   ]
  },
  {
   "cell_type": "code",
   "execution_count": 18,
   "metadata": {
    "collapsed": false
   },
   "outputs": [],
   "source": [
    "nonDataCols = ['page_id','page_is_ep']\n",
    "train_data = train_data.dropna(axis=0)\n",
    "classes = train_data['page_is_ep']\n",
    "page_ids = train_data['page_id']\n",
    "train_data = train_data.drop(nonDataCols,axis=1)\n",
    "features = train_data.columns"
   ]
  },
  {
   "cell_type": "code",
   "execution_count": 19,
   "metadata": {
    "collapsed": false
   },
   "outputs": [],
   "source": [
    "import scipy\n",
    "train_array = scipy.sparse.csr_matrix(train_data.values)"
   ]
  },
  {
   "cell_type": "code",
   "execution_count": 20,
   "metadata": {
    "collapsed": false
   },
   "outputs": [
    {
     "name": "stdout",
     "output_type": "stream",
     "text": [
      "(59978, 1521)\n",
      "(59978,)\n",
      "(1521,)\n"
     ]
    }
   ],
   "source": [
    "print(train_array.shape)\n",
    "print(classes.shape)\n",
    "print(features.shape)"
   ]
  },
  {
   "cell_type": "code",
   "execution_count": 21,
   "metadata": {
    "collapsed": true
   },
   "outputs": [],
   "source": [
    "rfc = RandomForestClassifier(n_estimators=20,n_jobs=6) #n_jobs tells sklearn how many cores to use, I have 8; SCALE ACCORDINGLY!!"
   ]
  },
  {
   "cell_type": "code",
   "execution_count": 25,
   "metadata": {
    "collapsed": false
   },
   "outputs": [],
   "source": [
    "classes = classes.to_dense()"
   ]
  },
  {
   "cell_type": "code",
   "execution_count": 27,
   "metadata": {
    "collapsed": false
   },
   "outputs": [
    {
     "data": {
      "text/plain": [
       "RandomForestClassifier(bootstrap=True, class_weight=None, criterion='gini',\n",
       "            max_depth=None, max_features='auto', max_leaf_nodes=None,\n",
       "            min_samples_leaf=1, min_samples_split=2,\n",
       "            min_weight_fraction_leaf=0.0, n_estimators=20, n_jobs=6,\n",
       "            oob_score=False, random_state=None, verbose=0,\n",
       "            warm_start=False)"
      ]
     },
     "execution_count": 27,
     "metadata": {},
     "output_type": "execute_result"
    }
   ],
   "source": [
    "rfc.fit(train_array,classes)"
   ]
  },
  {
   "cell_type": "code",
   "execution_count": 28,
   "metadata": {
    "collapsed": false
   },
   "outputs": [
    {
     "data": {
      "text/plain": [
       "0.99733235519690555"
      ]
     },
     "execution_count": 28,
     "metadata": {},
     "output_type": "execute_result"
    }
   ],
   "source": [
    "rfc.score(train_array,classes)"
   ]
  },
  {
   "cell_type": "code",
   "execution_count": 30,
   "metadata": {
    "collapsed": false
   },
   "outputs": [],
   "source": [
    "importance = rfc.feature_importances_"
   ]
  },
  {
   "cell_type": "code",
   "execution_count": 31,
   "metadata": {
    "collapsed": false
   },
   "outputs": [
    {
     "data": {
      "text/plain": [
       "array([  3.01961789e-02,   3.04008790e-02,   8.42114856e-02, ...,\n",
       "         3.41139543e-05,   8.67890297e-06,   2.32975610e-07])"
      ]
     },
     "execution_count": 31,
     "metadata": {},
     "output_type": "execute_result"
    }
   ],
   "source": [
    "importance"
   ]
  },
  {
   "cell_type": "code",
   "execution_count": 36,
   "metadata": {
    "collapsed": false
   },
   "outputs": [],
   "source": [
    "named_importance = pd.Series(importance, index=features)"
   ]
  },
  {
   "cell_type": "code",
   "execution_count": 38,
   "metadata": {
    "collapsed": false
   },
   "outputs": [
    {
     "data": {
      "text/plain": [
       "pageviews                              8.421149e-02\n",
       "days_since_touch                       6.106242e-02\n",
       "revisionslastyear                      3.040088e-02\n",
       "page_len                               3.019618e-02\n",
       "ratio                                  2.778857e-02\n",
       "article_id                             2.287615e-02\n",
       "exLink_count                           2.282889e-02\n",
       "pl_count                               1.815616e-02\n",
       "frac_newspaper                         1.560666e-02\n",
       "frac_popular                           1.331956e-02\n",
       "frac_scholarly                         8.220628e-03\n",
       "frac_library                           7.687743e-03\n",
       "frac_entertainment                     5.764383e-03\n",
       "violenc                                5.566788e-03\n",
       "frac_database                          5.564378e-03\n",
       "sequel                                 4.455740e-03\n",
       "alleg                                  4.119686e-03\n",
       "c_american                             3.855292e-03\n",
       "mainstream                             3.800153e-03\n",
       "realiti                                3.609742e-03\n",
       "twitter                                3.136240e-03\n",
       "dmoz                                   3.129350e-03\n",
       "frac_social                            2.989746e-03\n",
       "sex                                    2.901909e-03\n",
       "youtub                                 2.887460e-03\n",
       "disney                                 2.876085e-03\n",
       "de                                     2.788461e-03\n",
       "noDates                                2.759287e-03\n",
       "scientology_related_controversies      2.563847e-03\n",
       "frac_wiki                              2.501739e-03\n",
       "                                           ...     \n",
       "chimney                                2.659249e-05\n",
       "lists_of_coordinates                   2.581800e-05\n",
       "hitchcock                              2.482266e-05\n",
       "kicker                                 2.477049e-05\n",
       "fb                                     2.409168e-05\n",
       "voivodeship                            2.377586e-05\n",
       "munster                                2.063836e-05\n",
       "american_male_singer_songwriters       1.977538e-05\n",
       "campo                                  1.923467e-05\n",
       "chancel                                1.914712e-05\n",
       "brandenburg                            1.859041e-05\n",
       "american_hip_hop_singers               1.814770e-05\n",
       "member_states_of_the_united_nations    1.770567e-05\n",
       "uboat                                  1.667762e-05\n",
       "belarusian                             1.563006e-05\n",
       "potomac                                1.481205e-05\n",
       "barrow                                 1.166145e-05\n",
       "geographic_coordinate_lists            1.003133e-05\n",
       "libretto                               9.867542e-06\n",
       "turret                                 9.511211e-06\n",
       "tq                                     8.678903e-06\n",
       "fourlan                                7.939334e-06\n",
       "dq                                     7.668719e-06\n",
       "conglinks_with_unknown_parameters      6.765601e-06\n",
       "cdp                                    6.297873e-06\n",
       "eastbound                              1.515071e-06\n",
       "uci                                    9.402414e-07\n",
       "freehold                               8.206101e-07\n",
       "gmina                                  2.329756e-07\n",
       "southbound                             0.000000e+00\n",
       "dtype: float64"
      ]
     },
     "execution_count": 38,
     "metadata": {},
     "output_type": "execute_result"
    }
   ],
   "source": [
    "named_importance.sort_values(ascending=False)"
   ]
  },
  {
   "cell_type": "code",
   "execution_count": null,
   "metadata": {
    "collapsed": true
   },
   "outputs": [],
   "source": []
  }
 ],
 "metadata": {
  "kernelspec": {
   "display_name": "Python 3",
   "language": "python",
   "name": "python3"
  },
  "language_info": {
   "codemirror_mode": {
    "name": "ipython",
    "version": 3
   },
   "file_extension": ".py",
   "mimetype": "text/x-python",
   "name": "python",
   "nbconvert_exporter": "python",
   "pygments_lexer": "ipython3",
   "version": "3.5.1"
  }
 },
 "nbformat": 4,
 "nbformat_minor": 0
}
