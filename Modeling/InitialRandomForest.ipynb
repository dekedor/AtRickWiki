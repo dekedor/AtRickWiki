{
 "cells": [
  {
   "cell_type": "code",
   "execution_count": 16,
   "metadata": {
    "collapsed": true
   },
   "outputs": [],
   "source": [
    "import pandas as pd\n",
    "import numpy as np\n",
    "import pickle\n",
    "from sklearn.ensemble import RandomForestClassifier"
   ]
  },
  {
   "cell_type": "code",
   "execution_count": 39,
   "metadata": {
    "collapsed": true
   },
   "outputs": [],
   "source": [
    "train_data = pickle.load(open(\"COMBINED_DATA_TRAIN.p\",\"rb\"))"
   ]
  },
  {
   "cell_type": "code",
   "execution_count": 40,
   "metadata": {
    "collapsed": false
   },
   "outputs": [],
   "source": [
    "nonDataCols = ['page_id','page_is_ep','article_id']\n",
    "colsToExclude = []\n",
    "train_data = train_data.dropna(axis=0)\n",
    "classes = train_data['page_is_ep']\n",
    "page_ids = train_data['page_id']\n",
    "train_data = train_data.drop(nonDataCols,axis=1)\n",
    "features = train_data.columns"
   ]
  },
  {
   "cell_type": "code",
   "execution_count": 41,
   "metadata": {
    "collapsed": false
   },
   "outputs": [],
   "source": [
    "import scipy\n",
    "train_array = scipy.sparse.csr_matrix(train_data.values)"
   ]
  },
  {
   "cell_type": "code",
   "execution_count": 42,
   "metadata": {
    "collapsed": false
   },
   "outputs": [
    {
     "name": "stdout",
     "output_type": "stream",
     "text": [
      "(59978, 1520)\n",
      "(59978,)\n",
      "(1520,)\n"
     ]
    }
   ],
   "source": [
    "print(train_array.shape)\n",
    "print(classes.shape)\n",
    "print(features.shape)"
   ]
  },
  {
   "cell_type": "code",
   "execution_count": 43,
   "metadata": {
    "collapsed": true
   },
   "outputs": [],
   "source": [
    "rfc = RandomForestClassifier(n_estimators=20,n_jobs=6) #n_jobs tells sklearn how many cores to use, I have 8; SCALE ACCORDINGLY!!"
   ]
  },
  {
   "cell_type": "code",
   "execution_count": 44,
   "metadata": {
    "collapsed": false
   },
   "outputs": [],
   "source": [
    "classes = classes.to_dense()"
   ]
  },
  {
   "cell_type": "code",
   "execution_count": 45,
   "metadata": {
    "collapsed": false
   },
   "outputs": [
    {
     "data": {
      "text/plain": [
       "RandomForestClassifier(bootstrap=True, class_weight=None, criterion='gini',\n",
       "            max_depth=None, max_features='auto', max_leaf_nodes=None,\n",
       "            min_samples_leaf=1, min_samples_split=2,\n",
       "            min_weight_fraction_leaf=0.0, n_estimators=20, n_jobs=6,\n",
       "            oob_score=False, random_state=None, verbose=0,\n",
       "            warm_start=False)"
      ]
     },
     "execution_count": 45,
     "metadata": {},
     "output_type": "execute_result"
    }
   ],
   "source": [
    "rfc.fit(train_array,classes)"
   ]
  },
  {
   "cell_type": "code",
   "execution_count": 46,
   "metadata": {
    "collapsed": false
   },
   "outputs": [
    {
     "data": {
      "text/plain": [
       "0.99671546233618991"
      ]
     },
     "execution_count": 46,
     "metadata": {},
     "output_type": "execute_result"
    }
   ],
   "source": [
    "rfc.score(train_array,classes)"
   ]
  },
  {
   "cell_type": "code",
   "execution_count": 47,
   "metadata": {
    "collapsed": false
   },
   "outputs": [],
   "source": [
    "importance = rfc.feature_importances_"
   ]
  },
  {
   "cell_type": "code",
   "execution_count": 48,
   "metadata": {
    "collapsed": false
   },
   "outputs": [
    {
     "data": {
      "text/plain": [
       "array([  2.45739015e-02,   4.32171160e-02,   8.49879515e-02, ...,\n",
       "         9.27064699e-07,   2.12842100e-07,   8.03001550e-06])"
      ]
     },
     "execution_count": 48,
     "metadata": {},
     "output_type": "execute_result"
    }
   ],
   "source": [
    "importance"
   ]
  },
  {
   "cell_type": "code",
   "execution_count": 49,
   "metadata": {
    "collapsed": false
   },
   "outputs": [],
   "source": [
    "named_importance = pd.Series(importance, index=features)"
   ]
  },
  {
   "cell_type": "code",
   "execution_count": 50,
   "metadata": {
    "collapsed": false
   },
   "outputs": [
    {
     "data": {
      "text/plain": [
       "pageviews                                   8.498795e-02\n",
       "days_since_touch                            7.354327e-02\n",
       "revisionslastyear                           4.321712e-02\n",
       "ratio                                       2.531975e-02\n",
       "page_len                                    2.457390e-02\n",
       "exLink_count                                2.119920e-02\n",
       "pl_count                                    1.738062e-02\n",
       "frac_popular                                1.686942e-02\n",
       "frac_newspaper                              9.155074e-03\n",
       "frac_library                                8.416409e-03\n",
       "frac_entertainment                          7.238658e-03\n",
       "frac_scholarly                              6.702154e-03\n",
       "frac_database                               5.282592e-03\n",
       "c_american                                  4.513919e-03\n",
       "frac_social                                 4.405113e-03\n",
       "alleg                                       4.256416e-03\n",
       "muslim                                      4.101854e-03\n",
       "realiti                                     3.607723e-03\n",
       "dmoz                                        3.150398e-03\n",
       "kid                                         3.119168e-03\n",
       "c_actors                                    3.018981e-03\n",
       "portray                                     3.009180e-03\n",
       "sex                                         2.986805e-03\n",
       "de                                          2.909909e-03\n",
       "twitter                                     2.808849e-03\n",
       "egyptian                                    2.762527e-03\n",
       "mainstream                                  2.754150e-03\n",
       "bad                                         2.704922e-03\n",
       "cameo                                       2.684529e-03\n",
       "noDates                                     2.667030e-03\n",
       "                                                ...     \n",
       "eastbound                                   2.221808e-05\n",
       "fb                                          2.208982e-05\n",
       "kicker                                      2.125692e-05\n",
       "american_female_pop_singers                 2.009166e-05\n",
       "pinto                                       1.997564e-05\n",
       "vall                                        1.975335e-05\n",
       "quad                                        1.904004e-05\n",
       "presidential_medal_of_freedom_recipients    1.875875e-05\n",
       "munster                                     1.874249e-05\n",
       "expatriate_footballers_in_england           1.750130e-05\n",
       "freehold                                    1.742498e-05\n",
       "viaduct                                     1.673935e-05\n",
       "uci                                         1.413453e-05\n",
       "cdp                                         1.274009e-05\n",
       "libretto                                    1.249203e-05\n",
       "american_hip_hop_singers                    1.045611e-05\n",
       "censusdesign                                1.044969e-05\n",
       "fourlan                                     9.774672e-06\n",
       "uboat                                       8.839699e-06\n",
       "20th_century_american_writers               8.459768e-06\n",
       "oriol                                       8.207560e-06\n",
       "gmina                                       8.030016e-06\n",
       "antisubmarin                                5.762149e-06\n",
       "southbound                                  5.005992e-06\n",
       "chancel                                     2.521332e-06\n",
       "langley                                     1.722414e-06\n",
       "rq                                          9.270647e-07\n",
       "tq                                          2.128421e-07\n",
       "voivodeship                                 1.303485e-07\n",
       "northbound                                  3.463953e-08\n",
       "dtype: float64"
      ]
     },
     "execution_count": 50,
     "metadata": {},
     "output_type": "execute_result"
    }
   ],
   "source": [
    "named_importance.sort_values(ascending=False)"
   ]
  },
  {
   "cell_type": "code",
   "execution_count": null,
   "metadata": {
    "collapsed": true
   },
   "outputs": [],
   "source": []
  }
 ],
 "metadata": {
  "kernelspec": {
   "display_name": "Python 3",
   "language": "python",
   "name": "python3"
  },
  "language_info": {
   "codemirror_mode": {
    "name": "ipython",
    "version": 3
   },
   "file_extension": ".py",
   "mimetype": "text/x-python",
   "name": "python",
   "nbconvert_exporter": "python",
   "pygments_lexer": "ipython3",
   "version": "3.5.1"
  }
 },
 "nbformat": 4,
 "nbformat_minor": 0
}
