{
 "cells": [
  {
   "cell_type": "code",
   "execution_count": 9,
   "metadata": {
    "collapsed": false
   },
   "outputs": [],
   "source": [
    "#ALL PASSWORDS HAVE BEEN REDACTED AND THIS CODE WILL NOT WORK\n",
    "#DO NOT TRY TO RUN IT\n",
    "import pymysql\n",
    "\n",
    "connection = pymysql.connect(host=\"atriskwiki.cbprs6vpqcbz.us-west-1.rds.amazonaws.com\",\n",
    "                            user=\"REDACTED\",\n",
    "                            password=\"REDACTED\",\n",
    "                            port=3306,\n",
    "                            db=\"mysql\")\n",
    "\n",
    "cur = connection.cursor()\n",
    "\n",
    "\n",
    "\n"
   ]
  },
  {
   "cell_type": "code",
   "execution_count": 2,
   "metadata": {
    "collapsed": true
   },
   "outputs": [],
   "source": [
    "users = {'brian':'REDACTED',\n",
    "         'fausto':'REDACTED',\n",
    "         'kevin':'REDACTED'}\n",
    "\n",
    "create = \"CREATE USER '{}'@'%' IDENTIFIED BY '{}'\"\n",
    "grant = \"GRANT ALL on atriskwiki.* to '{}'@'%'\"\n",
    "\n",
    "for key in users:\n",
    "    fcreate = create.format(key,users[key])\n",
    "    fgrant = grant.format(key)\n",
    "    \n",
    "    cur.execute(fcreate)\n",
    "    cur.execute(fgrant)\n"
   ]
  },
  {
   "cell_type": "code",
   "execution_count": 11,
   "metadata": {
    "collapsed": false
   },
   "outputs": [
    {
     "name": "stdout",
     "output_type": "stream",
     "text": [
      "('arwroot', '%')\n",
      "('brian', '%')\n",
      "('fausto', '%')\n",
      "('kevin', '%')\n",
      "('mysql.sys', 'localhost')\n",
      "('rdsadmin', 'localhost')\n"
     ]
    }
   ],
   "source": [
    "cur.execute(\"SELECT User,Host from user\")\n",
    "\n",
    "for row in cur:\n",
    "    print(row)\n"
   ]
  },
  {
   "cell_type": "code",
   "execution_count": null,
   "metadata": {
    "collapsed": true
   },
   "outputs": [],
   "source": [
    "cur.close()\n",
    "connection.close()"
   ]
  }
 ],
 "metadata": {
  "kernelspec": {
   "display_name": "Python 3",
   "language": "python",
   "name": "python3"
  },
  "language_info": {
   "codemirror_mode": {
    "name": "ipython",
    "version": 3
   },
   "file_extension": ".py",
   "mimetype": "text/x-python",
   "name": "python",
   "nbconvert_exporter": "python",
   "pygments_lexer": "ipython3",
   "version": "3.5.1"
  }
 },
 "nbformat": 4,
 "nbformat_minor": 0
}
