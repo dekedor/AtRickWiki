{
 "cells": [
  {
   "cell_type": "code",
   "execution_count": 33,
   "metadata": {
    "collapsed": false
   },
   "outputs": [],
   "source": [
    "import pymysql\n",
    "\n",
    "# your username and password go here!\n",
    "creds = {'user': 'kevin', \n",
    "         'pswd': 'osullivan'} \n",
    "\n",
    "\n",
    "connection = pymysql.connect(host=\"atriskwiki.cbprs6vpqcbz.us-west-1.rds.amazonaws.com\",\n",
    "                            user=creds['user'],\n",
    "                            password=creds['pswd'],\n",
    "                            port=3306,\n",
    "                            db=\"atriskwiki\",\n",
    "                            charset=\"utf8\")\n",
    "\n",
    "cur = connection.cursor()"
   ]
  },
  {
   "cell_type": "code",
   "execution_count": 2,
   "metadata": {
    "collapsed": true
   },
   "outputs": [],
   "source": [
    "createRevision = '''CREATE TABLE IF NOT EXISTS revision (\n",
    "                page_id INT(8) UNSIGNED NOT NULL,\n",
    "                week INT(8) UNSIGNED NOT NULL,\n",
    "                num_revisions INT(8) UNSIGNED NOT NULL,\n",
    "                num_reversions INT(8) UNSIGNED NOT NULL,\n",
    "                num_mentions_of_vandalism INT(8) UNSIGNED NOT NULL,\n",
    "                edit_protected VARCHAR(255) NOT NULL,\n",
    "                move_protected VARCHAR(255) NOT NULL,\n",
    "                PRIMARY KEY (page_id, week)\n",
    "                ) DEFAULT CHARACTER SET utf8'''"
   ]
  },
  {
   "cell_type": "code",
   "execution_count": 3,
   "metadata": {
    "collapsed": false
   },
   "outputs": [
    {
     "data": {
      "text/plain": [
       "0"
      ]
     },
     "execution_count": 3,
     "metadata": {},
     "output_type": "execute_result"
    }
   ],
   "source": [
    "cur.execute(createRevision)"
   ]
  },
  {
   "cell_type": "code",
   "execution_count": 2,
   "metadata": {
    "collapsed": true
   },
   "outputs": [],
   "source": [
    "cols_for_db = ['page_id', 'week', 'num_revisions', 'num_mentions_of_vandalism', 'edit_protected', 'move_protected']"
   ]
  },
  {
   "cell_type": "code",
   "execution_count": 3,
   "metadata": {
    "collapsed": false
   },
   "outputs": [],
   "source": [
    "import pandas as pd\n",
    "epa_articles = pd.read_csv(\"../WikiSQL/RevisionsOverTime_ep.csv\")\n",
    "nep_articles = pd.concat([pd.read_csv(\"../WikiSQL/RevisionsOverTime_nep_Sample%d.csv\" % i) for i in range(1, 9)])"
   ]
  },
  {
   "cell_type": "code",
   "execution_count": 4,
   "metadata": {
    "collapsed": false
   },
   "outputs": [],
   "source": [
    "epa_pro = pd.read_csv('../WikiSQL/Proections_ep.csv')\n",
    "nep_pro = pd.concat([pd.read_csv(\"../WikiSQL/Proections_nep_Sample%d.csv\" % i) for i in range(1, 9)])"
   ]
  },
  {
   "cell_type": "code",
   "execution_count": 5,
   "metadata": {
    "collapsed": false
   },
   "outputs": [],
   "source": [
    "import sys\n",
    "sys.path.insert(2, '../WikiSQL/')\n",
    "from CheckProtections import *\n",
    "epa_pro_edit, epa_pro_move = GetProtectionPeriods(epa_pro)\n",
    "nep_pro_edit, nep_pro_move = GetProtectionPeriods(nep_pro)"
   ]
  },
  {
   "cell_type": "code",
   "execution_count": 6,
   "metadata": {
    "collapsed": true
   },
   "outputs": [],
   "source": [
    "epa_articles[['num_reversions', 'num_mentions_of_vandalism']] = \\\n",
    "epa_articles[['num_reversions', 'num_mentions_of_vandalism']].astype(int)\n",
    "\n",
    "nep_articles[['num_reversions', 'num_mentions_of_vandalism']] = \\\n",
    "nep_articles[['num_reversions', 'num_mentions_of_vandalism']].astype(int)"
   ]
  },
  {
   "cell_type": "code",
   "execution_count": 7,
   "metadata": {
    "collapsed": false
   },
   "outputs": [],
   "source": [
    "epa_articles['week'] = [WeekNum2DateStr(wk) for wk in epa_articles['week']]\n",
    "epa_articles['weekdate'] = [date(int(str(wk)[0:4]), int(str(wk)[4:6]), int(str(wk)[6:8])) \\\n",
    "                            for wk in epa_articles['week']]\n",
    "epa_articles['edit_protected'] = [IsWeekProtected(wk, epa_pro_edit[pid], True) if pid in epa_pro_edit.keys() \\\n",
    "                                  else IsWeekProtected(wk, [], True) for wk, pid in \\\n",
    "                                  zip(epa_articles['weekdate'], epa_articles['page_id'])]\n",
    "epa_articles['move_protected'] = [IsWeekProtected(wk, epa_pro_move[pid], True) if pid in epa_pro_move.keys() \\\n",
    "                                  else IsWeekProtected(wk, [], True) for wk, pid in \\\n",
    "                                  zip(epa_articles['weekdate'], epa_articles['page_id'])]\n",
    "\n",
    "nep_articles['week'] = [WeekNum2DateStr(wk) for wk in nep_articles['week']]\n",
    "nep_articles['weekdate'] = [date(int(str(wk)[0:4]), int(str(wk)[4:6]), int(str(wk)[6:8])) \\\n",
    "                              for wk in nep_articles['week']]\n",
    "nep_articles['edit_protected'] = [IsWeekProtected(wk, nep_pro_edit[pid], False) if pid in nep_pro_edit.keys() \\\n",
    "                        else IsWeekProtected(wk, [], False) for wk, pid in \\\n",
    "                        zip(nep_articles['weekdate'], nep_articles['page_id'])]\n",
    "nep_articles['move_protected'] = [IsWeekProtected(wk, nep_pro_move[pid], False) if pid in nep_pro_move.keys() \\\n",
    "                        else IsWeekProtected(wk, [], False) for wk, pid in \\\n",
    "                        zip(nep_articles['weekdate'], nep_articles['page_id'])]"
   ]
  },
  {
   "cell_type": "code",
   "execution_count": 8,
   "metadata": {
    "collapsed": false
   },
   "outputs": [],
   "source": [
    "redundant = pd.merge(epa_articles, nep_articles, how='inner', left_on=\"page_id\", right_on=\"page_id\")\n",
    "redundantIDs = redundant['page_id'].tolist()\n",
    "nep_articles_filtered = nep_articles.loc[~nep_articles['page_id'].isin(redundantIDs)].copy()"
   ]
  },
  {
   "cell_type": "code",
   "execution_count": 9,
   "metadata": {
    "collapsed": false
   },
   "outputs": [],
   "source": [
    "master_articles = pd.concat([epa_articles, nep_articles_filtered])"
   ]
  },
  {
   "cell_type": "code",
   "execution_count": 10,
   "metadata": {
    "collapsed": false
   },
   "outputs": [],
   "source": [
    "master_articles = master_articles.where((pd.notnull(master_articles)), None) #converts NaNs to None type, required for mySQL"
   ]
  },
  {
   "cell_type": "code",
   "execution_count": 11,
   "metadata": {
    "collapsed": false
   },
   "outputs": [
    {
     "name": "stdout",
     "output_type": "stream",
     "text": [
      "<class 'pandas.core.frame.DataFrame'>\n",
      "Int64Index: 8637371 entries, 0 to 663415\n",
      "Data columns (total 8 columns):\n",
      "page_id                      int64\n",
      "week                         int64\n",
      "num_revisions                int64\n",
      "num_reversions               int64\n",
      "num_mentions_of_vandalism    int64\n",
      "weekdate                     object\n",
      "edit_protected               object\n",
      "move_protected               object\n",
      "dtypes: int64(5), object(3)\n",
      "memory usage: 593.1+ MB\n"
     ]
    }
   ],
   "source": [
    "master_articles.info()"
   ]
  },
  {
   "cell_type": "code",
   "execution_count": 12,
   "metadata": {
    "collapsed": false,
    "scrolled": true
   },
   "outputs": [],
   "source": [
    "ma_for_db = master_articles[cols_for_db].to_dict(orient='records') #provides each row as a dict;\n",
    "#keys are colnames, values are column values, the order of keys is retained from row to row"
   ]
  },
  {
   "cell_type": "code",
   "execution_count": 34,
   "metadata": {
    "collapsed": false
   },
   "outputs": [
    {
     "data": {
      "text/plain": [
       "0"
      ]
     },
     "execution_count": 34,
     "metadata": {},
     "output_type": "execute_result"
    }
   ],
   "source": [
    "cur.execute(\"SET autocommit=0\") #makes batch inserts SO MUCH EASIER"
   ]
  },
  {
   "cell_type": "code",
   "execution_count": 35,
   "metadata": {
    "collapsed": false
   },
   "outputs": [
    {
     "data": {
      "text/plain": [
       "'INSERT IGNORE INTO revisions(num_mentions_of_vandalism,move_protected,num_revisions,edit_protected,page_id,week) VALUES (%s,%s,%s,%s,%s,%s)'"
      ]
     },
     "execution_count": 35,
     "metadata": {},
     "output_type": "execute_result"
    }
   ],
   "source": [
    "#generates the template query for insertions into db\n",
    "insertQ = \"INSERT IGNORE INTO revisions({}) VALUES ({})\"\n",
    "cols = \",\".join(list(ma_for_db[0].keys()))\n",
    "val_format = \",\".join(['%s'] * len(list(ma_for_db[0].keys())))\n",
    "formatQ = insertQ.format(cols, val_format)\n",
    "formatQ"
   ]
  },
  {
   "cell_type": "code",
   "execution_count": 36,
   "metadata": {
    "collapsed": false
   },
   "outputs": [
    {
     "name": "stdout",
     "output_type": "stream",
     "text": [
      "31144.86182808876\n"
     ]
    },
    {
     "name": "stderr",
     "output_type": "stream",
     "text": [
      "/Users/dekedor/anaconda/lib/python3.4/site-packages/pymysql/cursors.py:134: Warning: Field 'num_reversions' doesn't have a default value\n",
      "  result = self._query(query)\n"
     ]
    }
   ],
   "source": [
    "from time import time\n",
    "t0 = time()\n",
    "for record in ma_for_db[4000000::]:\n",
    "    values = list(record.values())\n",
    "    cur.execute(formatQ,values)\n",
    "\n",
    "print(time() - t0)\n",
    "connection.commit()"
   ]
  },
  {
   "cell_type": "code",
   "execution_count": 44,
   "metadata": {
    "collapsed": false
   },
   "outputs": [
    {
     "name": "stderr",
     "output_type": "stream",
     "text": [
      "/Users/dekedor/anaconda/lib/python3.4/site-packages/pymysql/cursors.py:134: Warning: Field 'num_reversions' doesn't have a default value\n",
      "  result = self._query(query)\n"
     ]
    },
    {
     "data": {
      "text/html": [
       "<div>\n",
       "<table border=\"1\" class=\"dataframe\">\n",
       "  <thead>\n",
       "    <tr style=\"text-align: right;\">\n",
       "      <th></th>\n",
       "      <th>page_id</th>\n",
       "      <th>week</th>\n",
       "      <th>num_revisions</th>\n",
       "      <th>edit_protected</th>\n",
       "    </tr>\n",
       "  </thead>\n",
       "  <tbody>\n",
       "  </tbody>\n",
       "</table>\n",
       "</div>"
      ],
      "text/plain": [
       "Empty DataFrame\n",
       "Columns: [page_id, week, num_revisions, edit_protected]\n",
       "Index: []"
      ]
     },
     "execution_count": 44,
     "metadata": {},
     "output_type": "execute_result"
    }
   ],
   "source": [
    "interestingCols = ['page_id','week','num_revisions','edit_protected']\n",
    "interestingQ = \"SELECT {} FROM revisions\"\n",
    "colNameString = \",\".join(interestingCols)\n",
    "preppedIQ = interestingQ.format(colNameString)\n",
    "\n",
    "cur.execute(preppedIQ)\n",
    "rows = cur.fetchall() #returns tuple of tuples, preserving column order\n",
    "\n",
    "easyPeasy = pd.DataFrame(list(rows), columns=interestingCols)\n",
    "easyPeasy"
   ]
  },
  {
   "cell_type": "code",
   "execution_count": 33,
   "metadata": {
    "collapsed": true
   },
   "outputs": [],
   "source": [
    "cur.close()\n",
    "connection.close()"
   ]
  },
  {
   "cell_type": "code",
   "execution_count": 23,
   "metadata": {
    "collapsed": false
   },
   "outputs": [
    {
     "data": {
      "text/plain": [
       "8637371"
      ]
     },
     "execution_count": 23,
     "metadata": {},
     "output_type": "execute_result"
    }
   ],
   "source": [
    "len(ma_for_db)"
   ]
  },
  {
   "cell_type": "code",
   "execution_count": 15,
   "metadata": {
    "collapsed": false
   },
   "outputs": [
    {
     "data": {
      "text/plain": [
       "{'edit_protected': 'unknown',\n",
       " 'move_protected': 'not protected',\n",
       " 'num_mentions_of_vandalism': 0,\n",
       " 'num_revisions': 8,\n",
       " 'page_id': 45246,\n",
       " 'week': 20140202}"
      ]
     },
     "execution_count": 15,
     "metadata": {},
     "output_type": "execute_result"
    }
   ],
   "source": [
    "ma_for_db[551435]"
   ]
  },
  {
   "cell_type": "code",
   "execution_count": null,
   "metadata": {
    "collapsed": true
   },
   "outputs": [],
   "source": []
  }
 ],
 "metadata": {
  "anaconda-cloud": {},
  "kernelspec": {
   "display_name": "Python [Root]",
   "language": "python",
   "name": "Python [Root]"
  },
  "language_info": {
   "codemirror_mode": {
    "name": "ipython",
    "version": 3
   },
   "file_extension": ".py",
   "mimetype": "text/x-python",
   "name": "python",
   "nbconvert_exporter": "python",
   "pygments_lexer": "ipython3",
   "version": "3.5.1"
  }
 },
 "nbformat": 4,
 "nbformat_minor": 0
}
