{
 "cells": [
  {
   "cell_type": "markdown",
   "metadata": {},
   "source": [
    "## General guidelines and practices\n",
    "\n",
    "Each type of data should be given its own table and keyed with the page_id (if applicable). Data types where multiple values are associated with one page_id should be isolated tables where each row is the page_id and one of the values. \n",
    "\n",
    "Large datasets (i.e., the fulltexts of articles) should not be part of this database.\n",
    "\n",
    "Table additions should be documented in this notebook in a similar format to the core table below. \n",
    "\n",
    "New tables should be created with the ENGINE = innodb and CHARACTER SET = utf8 options (the former is necessary for transactions and the latter is necessary to deal with unicode text). "
   ]
  },
  {
   "cell_type": "markdown",
   "metadata": {},
   "source": [
    "# Table definitions"
   ]
  },
  {
   "cell_type": "markdown",
   "metadata": {},
   "source": [
    "## Table: core\n",
    "\n",
    "Contains the core dataset we obtained from querying the Wikipedia database as well as extremely basic calculated metadata. _No additional columns should be added to this table._ \n",
    "\n",
    "**page_id** Unique identifier for each article. Primary key, so queries using this will run MUCH faster than otherwise.\n",
    "\n",
    "**page_title** Title of the page, formatted as it appears in the page URL\n",
    "\n",
    "**page_is_ep** 1 for edit-protected pages, 0 otherwise\n",
    "\n",
    "**page_batch** Tool for splitting non-edit protected articles into managable sets. Batches 1-7 contain ~10000 articles each (batch 1 one corresponds to the early release of article_ids on July 18th), batch 8 contains ~7500, batch 0 is the edit-protected set, batch 99 is the original non-edit protected set (which should not be used for further analyses).\n",
    "\n",
    "**page_info_pulled** Date (in YYYYMMDDHHMMSS format) on which data about the page was retrieved from Wikipedia\n",
    "\n",
    "**page_in_train** Train/test assignments for each article. 1 if in train, 0 if in test. Articles in the test set should not be used to train classifiers.\n",
    "\n",
    "**page_is_redirect** 1 if page is redirect, 0 otherwise. \n",
    "\n",
    "**page_is_new** 1 if current revision of article is the first, 0 otherwise.\n",
    "\n",
    "**page_random** Random unique float between 0 and 1 assigned to each article. _NOTE_: because of the way we selected the additional 50,000 articles, these values are NOT randomly distributed and should not be used for sampling!\n",
    "\n",
    "**page_touched** Date of last edit (in YYYYMMDDHHMMSS format). \n",
    "\n",
    "**page_links_updated** Date on which page links were last updated (in YYYYMMDDHHMMSS format).\n",
    "\n",
    "**page_latest** Revision ID of the current revision.\n",
    "\n",
    "**page_len** Length in bytes of page source code.\n",
    "\n",
    "**pr_type** Type of page restriction, or NULL if no restriction.\n",
    "\n",
    "**pr_level** Minimum user level required to ignore page restriction, or NULL if no restriction.\n",
    "\n",
    "**pr_expiry** If restriction is temporary, YYMMDDHHMMSS format of expiration date; if restriction is permanent, \"infinity\", if no restriction, NULL"
   ]
  },
  {
   "cell_type": "markdown",
   "metadata": {
    "collapsed": true
   },
   "source": [
    "## Table: current_events\n",
    "\n",
    "For each article listed in core, provides the median and most recent date contained within the text of the article.\n",
    "\n",
    "**page_id** As in core, use for joins, primary key.\n",
    "\n",
    "**medianDate** The median date contained within the article; a rough measure of the time frame the article refers to. In mySQL DATE format. NULL if no dates in the article.\n",
    "\n",
    "**mostRecentDate** The most recent date contained within the article. Similar data definition as medianDate. "
   ]
  },
  {
   "cell_type": "markdown",
   "metadata": {},
   "source": [
    "## Table: date_context\n",
    "\n",
    "For each date identified in an article, provides approximately 150 characters of punctuation- and digit-stripped context on either side. Possibly useful to determine what events are associated with a given combination of article and date. \n",
    "\n",
    "**page_id** As in core.\n",
    "\n",
    "**ft_date** Date within the body of the article. Is primary key together with page_id. In mySQL DATE format. \n",
    "\n",
    "**prev_context** Cleaned text appearing immediately before the date referred to by ft_date. Can span sentences, paragraphs, and sections, so some irrelevant text may be present. \n",
    "\n",
    "**text_date** The text of the date as it appears in the article text. \n",
    "\n",
    "**next_context** As prev_context, except immediately after text_date. "
   ]
  },
  {
   "cell_type": "code",
   "execution_count": null,
   "metadata": {
    "collapsed": true
   },
   "outputs": [],
   "source": []
  }
 ],
 "metadata": {
  "kernelspec": {
   "display_name": "Python 3",
   "language": "python",
   "name": "python3"
  },
  "language_info": {
   "codemirror_mode": {
    "name": "ipython",
    "version": 3
   },
   "file_extension": ".py",
   "mimetype": "text/x-python",
   "name": "python",
   "nbconvert_exporter": "python",
   "pygments_lexer": "ipython3",
   "version": "3.5.1"
  }
 },
 "nbformat": 4,
 "nbformat_minor": 0
}
