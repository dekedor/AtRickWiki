{
 "cells": [
  {
   "cell_type": "code",
   "execution_count": 1,
   "metadata": {
    "collapsed": false
   },
   "outputs": [],
   "source": [
    "import pymysql\n",
    "\n",
    "# your username and password go here!\n",
    "creds = {'user': 'fausto', \n",
    "         'pswd': 'dapuzzo'} \n",
    "\n",
    "\n",
    "connection = pymysql.connect(host=\"atriskwiki.cbprs6vpqcbz.us-west-1.rds.amazonaws.com\",\n",
    "                            user=creds['user'],\n",
    "                            password=creds['pswd'],\n",
    "                            port=3306,\n",
    "                            db=\"atriskwiki\",\n",
    "                            charset=\"utf8\")\n",
    "\n",
    "cur = connection.cursor()"
   ]
  },
  {
   "cell_type": "code",
   "execution_count": null,
   "metadata": {
    "collapsed": false
   },
   "outputs": [],
   "source": [
    "import pandas as pd\n",
    "cl_epa = pd.read_csv(\"..\\CategoryAndPageLinks\\cl_epa_engineered.csv\", \"r\")\n",
    "cl_nepa = pd.read_csv(\"..\\CategoryAndPageLinks\\cl_nepa_engineered_encoded.csv\", \"r\")"
   ]
  },
  {
   "cell_type": "code",
   "execution_count": 3,
   "metadata": {
    "collapsed": false
   },
   "outputs": [],
   "source": [
    "import pandas as pd\n",
    "cl_nepa = pd.read_csv(\"..\\CategoryAndPageLinks\\cl_nepa_engineered_encoded.csv\", \"r\")"
   ]
  },
  {
   "cell_type": "code",
   "execution_count": 4,
   "metadata": {
    "collapsed": false
   },
   "outputs": [
    {
     "data": {
      "text/plain": [
       "(75837, 148)"
      ]
     },
     "execution_count": 4,
     "metadata": {},
     "output_type": "execute_result"
    }
   ],
   "source": [
    "cl_nepa.shape"
   ]
  },
  {
   "cell_type": "code",
   "execution_count": 5,
   "metadata": {
    "collapsed": false
   },
   "outputs": [
    {
     "data": {
      "text/html": [
       "<div>\n",
       "<table border=\"1\" class=\"dataframe\">\n",
       "  <thead>\n",
       "    <tr style=\"text-align: right;\">\n",
       "      <th></th>\n",
       "      <th>page_id,1961_bi</th>\n",
       "      <th>ths,1967_bi</th>\n",
       "      <th>ths,1971_bi</th>\n",
       "      <th>ths,1977_bi</th>\n",
       "      <th>ths,1992_bi</th>\n",
       "      <th>ths,20th_centu</th>\n",
       "      <th>y_ame</th>\n",
       "      <th>ican_act</th>\n",
       "      <th>esses,20th_centu</th>\n",
       "      <th>y_ame.1</th>\n",
       "      <th>...</th>\n",
       "      <th>tt,s_basketball_playe</th>\n",
       "      <th>s,s_fantasy_films,t</th>\n",
       "      <th>ack_and_field,united_states,united_states_men,united_states_p</th>\n",
       "      <th>esidential_candidates,walt_disney_pictu</th>\n",
       "      <th>es_films,membe</th>\n",
       "      <th>_states_of_the_united_nations,</th>\n",
       "      <th>epublics,scientology_</th>\n",
       "      <th>elated_cont</th>\n",
       "      <th>ove</th>\n",
       "      <th>sies</th>\n",
       "    </tr>\n",
       "  </thead>\n",
       "  <tbody>\n",
       "    <tr>\n",
       "      <th>0</th>\n",
       "      <td>316,0,0,0,0,0,0,0,0,0,0,0,0,0,0,0,0,0,0,0,0,0,...</td>\n",
       "      <td>NaN</td>\n",
       "      <td>NaN</td>\n",
       "      <td>NaN</td>\n",
       "      <td>NaN</td>\n",
       "      <td>NaN</td>\n",
       "      <td>NaN</td>\n",
       "      <td>NaN</td>\n",
       "      <td>NaN</td>\n",
       "      <td>NaN</td>\n",
       "      <td>...</td>\n",
       "      <td>NaN</td>\n",
       "      <td>NaN</td>\n",
       "      <td>NaN</td>\n",
       "      <td>NaN</td>\n",
       "      <td>NaN</td>\n",
       "      <td>NaN</td>\n",
       "      <td>NaN</td>\n",
       "      <td>NaN</td>\n",
       "      <td>NaN</td>\n",
       "      <td>NaN</td>\n",
       "    </tr>\n",
       "    <tr>\n",
       "      <th>1</th>\n",
       "      <td>572,0,0,0,0,0,0,0,0,0,0,0,0,0,0,0,0,0,0,0,0,0,...</td>\n",
       "      <td>NaN</td>\n",
       "      <td>NaN</td>\n",
       "      <td>NaN</td>\n",
       "      <td>NaN</td>\n",
       "      <td>NaN</td>\n",
       "      <td>NaN</td>\n",
       "      <td>NaN</td>\n",
       "      <td>NaN</td>\n",
       "      <td>NaN</td>\n",
       "      <td>...</td>\n",
       "      <td>NaN</td>\n",
       "      <td>NaN</td>\n",
       "      <td>NaN</td>\n",
       "      <td>NaN</td>\n",
       "      <td>NaN</td>\n",
       "      <td>NaN</td>\n",
       "      <td>NaN</td>\n",
       "      <td>NaN</td>\n",
       "      <td>NaN</td>\n",
       "      <td>NaN</td>\n",
       "    </tr>\n",
       "    <tr>\n",
       "      <th>2</th>\n",
       "      <td>615,0,0,0,0,0,0,0,0,0,0,0,0,0,0,0,0,0,0,0,0,0,...</td>\n",
       "      <td>NaN</td>\n",
       "      <td>NaN</td>\n",
       "      <td>NaN</td>\n",
       "      <td>NaN</td>\n",
       "      <td>NaN</td>\n",
       "      <td>NaN</td>\n",
       "      <td>NaN</td>\n",
       "      <td>NaN</td>\n",
       "      <td>NaN</td>\n",
       "      <td>...</td>\n",
       "      <td>NaN</td>\n",
       "      <td>NaN</td>\n",
       "      <td>NaN</td>\n",
       "      <td>NaN</td>\n",
       "      <td>NaN</td>\n",
       "      <td>NaN</td>\n",
       "      <td>NaN</td>\n",
       "      <td>NaN</td>\n",
       "      <td>NaN</td>\n",
       "      <td>NaN</td>\n",
       "    </tr>\n",
       "  </tbody>\n",
       "</table>\n",
       "<p>3 rows × 148 columns</p>\n",
       "</div>"
      ],
      "text/plain": [
       "                                     page_id,1961_bi  ths,1967_bi  \\\n",
       "0  316,0,0,0,0,0,0,0,0,0,0,0,0,0,0,0,0,0,0,0,0,0,...          NaN   \n",
       "1  572,0,0,0,0,0,0,0,0,0,0,0,0,0,0,0,0,0,0,0,0,0,...          NaN   \n",
       "2  615,0,0,0,0,0,0,0,0,0,0,0,0,0,0,0,0,0,0,0,0,0,...          NaN   \n",
       "\n",
       "   ths,1971_bi  ths,1977_bi  ths,1992_bi  ths,20th_centu  y_ame  ican_act  \\\n",
       "0          NaN          NaN          NaN             NaN    NaN       NaN   \n",
       "1          NaN          NaN          NaN             NaN    NaN       NaN   \n",
       "2          NaN          NaN          NaN             NaN    NaN       NaN   \n",
       "\n",
       "   esses,20th_centu  y_ame.1  ...   tt,s_basketball_playe  \\\n",
       "0               NaN      NaN  ...                     NaN   \n",
       "1               NaN      NaN  ...                     NaN   \n",
       "2               NaN      NaN  ...                     NaN   \n",
       "\n",
       "   s,s_fantasy_films,t  \\\n",
       "0                  NaN   \n",
       "1                  NaN   \n",
       "2                  NaN   \n",
       "\n",
       "   ack_and_field,united_states,united_states_men,united_states_p  \\\n",
       "0                                                NaN               \n",
       "1                                                NaN               \n",
       "2                                                NaN               \n",
       "\n",
       "   esidential_candidates,walt_disney_pictu  es_films,membe  \\\n",
       "0                                      NaN             NaN   \n",
       "1                                      NaN             NaN   \n",
       "2                                      NaN             NaN   \n",
       "\n",
       "   _states_of_the_united_nations,  epublics,scientology_  elated_cont  ove  \\\n",
       "0                             NaN                    NaN          NaN  NaN   \n",
       "1                             NaN                    NaN          NaN  NaN   \n",
       "2                             NaN                    NaN          NaN  NaN   \n",
       "\n",
       "   sies  \n",
       "0   NaN  \n",
       "1   NaN  \n",
       "2   NaN  \n",
       "\n",
       "[3 rows x 148 columns]"
      ]
     },
     "execution_count": 5,
     "metadata": {},
     "output_type": "execute_result"
    }
   ],
   "source": [
    "cl_nepa[:3]"
   ]
  },
  {
   "cell_type": "code",
   "execution_count": null,
   "metadata": {
    "collapsed": true
   },
   "outputs": [],
   "source": []
  }
 ],
 "metadata": {
  "anaconda-cloud": {},
  "kernelspec": {
   "display_name": "Python [Root]",
   "language": "python",
   "name": "Python [Root]"
  },
  "language_info": {
   "codemirror_mode": {
    "name": "ipython",
    "version": 3
   },
   "file_extension": ".py",
   "mimetype": "text/x-python",
   "name": "python",
   "nbconvert_exporter": "python",
   "pygments_lexer": "ipython3",
   "version": "3.5.1"
  }
 },
 "nbformat": 4,
 "nbformat_minor": 0
}
