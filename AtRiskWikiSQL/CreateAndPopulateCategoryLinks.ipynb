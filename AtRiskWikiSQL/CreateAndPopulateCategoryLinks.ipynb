{
 "cells": [
  {
   "cell_type": "code",
   "execution_count": 44,
   "metadata": {
    "collapsed": false
   },
   "outputs": [],
   "source": [
    "%matplotlib inline\n",
    "import pymysql\n",
    "import pandas as pd \n",
    "\n",
    "# your username and password go here!\n",
    "creds = {'user': 'fausto', \n",
    "         'pswd': 'dapuzzo'} \n",
    "\n",
    "\n",
    "connection = pymysql.connect(host=\"atriskwiki.cbprs6vpqcbz.us-west-1.rds.amazonaws.com\",\n",
    "                            user=creds['user'],\n",
    "                            password=creds['pswd'],\n",
    "                            port=3306,\n",
    "                            db=\"atriskwiki\",\n",
    "                            charset=\"utf8\")\n",
    "\n",
    "cur = connection.cursor()"
   ]
  },
  {
   "cell_type": "code",
   "execution_count": 11,
   "metadata": {
    "collapsed": false,
    "scrolled": false
   },
   "outputs": [],
   "source": [
    "import pandas as pd\n",
    "cl_epa = pd.read_csv(\"..\\CategoryAndPageLinks\\cl_epa_engineered.csv\")\n",
    "cl_nepa = pd.read_csv(\"..\\CategoryAndPageLinks\\cl_nepa_engineered.csv\")"
   ]
  },
  {
   "cell_type": "code",
   "execution_count": 12,
   "metadata": {
    "collapsed": false
   },
   "outputs": [
    {
     "data": {
      "text/plain": [
       "(75837, 91)"
      ]
     },
     "execution_count": 12,
     "metadata": {},
     "output_type": "execute_result"
    }
   ],
   "source": [
    "import numpy as np\n",
    "cl_nepa.shape"
   ]
  },
  {
   "cell_type": "code",
   "execution_count": 13,
   "metadata": {
    "collapsed": false
   },
   "outputs": [
    {
     "data": {
      "text/plain": [
       "Index(['page_id', '1961_births', '1967_births'], dtype='object')"
      ]
     },
     "execution_count": 13,
     "metadata": {},
     "output_type": "execute_result"
    }
   ],
   "source": [
    "col_for_db = cl_nepa.columns\n",
    "col_for_db[:3]"
   ]
  },
  {
   "cell_type": "code",
   "execution_count": null,
   "metadata": {
    "collapsed": false
   },
   "outputs": [],
   "source": [
    "single = \"{} INT(8) UNSIGNED NOT NULL\"\n",
    "createQ = list()\n",
    "for i in range(len(col_for_db)):\n",
    "    createQ.append(single.format(col_for_db[i]))    "
   ]
  },
  {
   "cell_type": "code",
   "execution_count": null,
   "metadata": {
    "collapsed": false
   },
   "outputs": [],
   "source": [
    "processing = \", \".join(createQ)"
   ]
  },
  {
   "cell_type": "code",
   "execution_count": null,
   "metadata": {
    "collapsed": false
   },
   "outputs": [],
   "source": [
    "processing[:100]"
   ]
  },
  {
   "cell_type": "code",
   "execution_count": null,
   "metadata": {
    "collapsed": false
   },
   "outputs": [],
   "source": [
    "tail = \"PRIMARY KEY (page_id)) DEFAULT CHARACTER SET utf8\"\n",
    "CL_create = \", \".join([processing,tail])\n",
    "header = \"CREATE TABLE IF NOT EXISTS categorylinks (\"\n",
    "CL_create_f = \" \".join([header, CL_create])"
   ]
  },
  {
   "cell_type": "code",
   "execution_count": null,
   "metadata": {
    "collapsed": false
   },
   "outputs": [],
   "source": [
    "cur.execute(CL_create_f)"
   ]
  },
  {
   "cell_type": "code",
   "execution_count": 16,
   "metadata": {
    "collapsed": true
   },
   "outputs": [],
   "source": [
    "import numpy as np\n",
    "redundant = pd.merge(cl_epa, cl_nepa, how='inner', left_on=\"page_id\", right_on=\"page_id\")\n",
    "redundantIDs = redundant['page_id'].tolist()\n",
    "cl_nepa_filtered = cl_nepa.loc[~cl_nepa['page_id'].isin(redundantIDs)].copy()"
   ]
  },
  {
   "cell_type": "code",
   "execution_count": 17,
   "metadata": {
    "collapsed": false
   },
   "outputs": [
    {
     "name": "stdout",
     "output_type": "stream",
     "text": [
      "73\n"
     ]
    }
   ],
   "source": [
    "print(len(redundantIDs))"
   ]
  },
  {
   "cell_type": "code",
   "execution_count": 18,
   "metadata": {
    "collapsed": false
   },
   "outputs": [
    {
     "data": {
      "text/plain": [
       "(83287, 91)"
      ]
     },
     "execution_count": 18,
     "metadata": {},
     "output_type": "execute_result"
    }
   ],
   "source": [
    "master_links = pd.concat([cl_epa, cl_nepa_filtered])\n",
    "master_links.shape"
   ]
  },
  {
   "cell_type": "code",
   "execution_count": 21,
   "metadata": {
    "collapsed": false
   },
   "outputs": [
    {
     "data": {
      "text/plain": [
       "0              25\n",
       "1             290\n",
       "2             307\n",
       "3             308\n",
       "4             594\n",
       "5             620\n",
       "6             624\n",
       "7             628\n",
       "8             655\n",
       "9             662\n",
       "10            664\n",
       "11            689\n",
       "12            691\n",
       "13            736\n",
       "14            737\n",
       "15            740\n",
       "16            752\n",
       "17            765\n",
       "18            783\n",
       "19            800\n",
       "20            809\n",
       "21            841\n",
       "22            848\n",
       "23            851\n",
       "24            852\n",
       "25            856\n",
       "26            863\n",
       "27            864\n",
       "28            874\n",
       "29            890\n",
       "           ...   \n",
       "75807    51090463\n",
       "75808    51091252\n",
       "75809    51091328\n",
       "75810    51091550\n",
       "75811    51092256\n",
       "75812    51093744\n",
       "75813    51093965\n",
       "75814    51095029\n",
       "75815    51095733\n",
       "75816    51096098\n",
       "75817    51096390\n",
       "75818    51096414\n",
       "75819    51097030\n",
       "75820    51097120\n",
       "75821    51097912\n",
       "75822    51098561\n",
       "75823    51099118\n",
       "75824    51100454\n",
       "75825    51101162\n",
       "75826    51101460\n",
       "75827    51102110\n",
       "75828    51102592\n",
       "75829    51103467\n",
       "75830    51105617\n",
       "75831    51105871\n",
       "75832    51106337\n",
       "75833    51106355\n",
       "75834    51106579\n",
       "75835    51106996\n",
       "75836    51107865\n",
       "Name: page_id, dtype: int64"
      ]
     },
     "execution_count": 21,
     "metadata": {},
     "output_type": "execute_result"
    }
   ],
   "source": [
    "master_links[\"page_id\"]"
   ]
  },
  {
   "cell_type": "code",
   "execution_count": 26,
   "metadata": {
    "collapsed": false
   },
   "outputs": [],
   "source": [
    "master_links = master_links.where((pd.notnull(master_links)), None) #converts NaNs to None type, required for mySQL"
   ]
  },
  {
   "cell_type": "code",
   "execution_count": 27,
   "metadata": {
    "collapsed": false
   },
   "outputs": [],
   "source": [
    "ma_for_db = master_links[col_for_db].to_dict(orient='records') #provides each row as a dict;\n",
    "#keys are colnames, values are column values, the order of keys is retained from row to row"
   ]
  },
  {
   "cell_type": "code",
   "execution_count": 38,
   "metadata": {
    "collapsed": false
   },
   "outputs": [
    {
     "data": {
      "text/plain": [
       "{'1961_births': 0,\n",
       " '1967_births': 0,\n",
       " '1971_births': 0,\n",
       " '1977_births': 0,\n",
       " '1992_births': 0,\n",
       " '20th_century_american_actresses': 0,\n",
       " '20th_century_american_male_actors': 0,\n",
       " '20th_century_american_singers': 0,\n",
       " '20th_century_american_writers': 0,\n",
       " '21st_century_american_actresses': 0,\n",
       " '21st_century_american_businesspeople': 0,\n",
       " '21st_century_american_male_actors': 0,\n",
       " '21st_century_american_singers': 0,\n",
       " '21st_century_american_writers': 0,\n",
       " '_alumni': 0,\n",
       " '_authors_list': 0,\n",
       " '_california': 0,\n",
       " '_contestants': 0,\n",
       " '_films': 0,\n",
       " '_members': 0,\n",
       " '_multiple_names': 0,\n",
       " '_winners': 0,\n",
       " 'african_american_basketball_players': 0,\n",
       " 'african_american_male_rappers': 0,\n",
       " 'all_accuracy_disputes': 0,\n",
       " 'all_npov_disputes': 0,\n",
       " 'american_animated_films': 0,\n",
       " 'american_child_actresses': 0,\n",
       " 'american_children': 0,\n",
       " 'american_christians': 0,\n",
       " 'american_female_models': 0,\n",
       " 'american_female_pop_singers': 0,\n",
       " 'american_film_actresses': 0,\n",
       " 'american_film_producers': 0,\n",
       " 'american_hip_hop_singers': 0,\n",
       " 'american_male_child_actors': 0,\n",
       " 'american_male_film_actors': 0,\n",
       " 'american_male_singer_songwriters': 0,\n",
       " 'american_male_television_actors': 0,\n",
       " 'american_male_voice_actors': 0,\n",
       " 'american_male_writers': 0,\n",
       " 'american_memoirists': 0,\n",
       " 'american_people_of_english_descent': 0,\n",
       " 'american_people_of_german_descent': 0,\n",
       " 'american_people_of_irish_descent': 0,\n",
       " 'american_people_of_italian_descent': 0,\n",
       " 'american_people_of_scottish_descent': 0,\n",
       " 'american_philanthropists': 0,\n",
       " 'american_political_writers': 0,\n",
       " 'american_roman_catholics': 0,\n",
       " 'american_television_actresses': 0,\n",
       " 'american_television_personalities': 0,\n",
       " 'american_voice_actresses': 0,\n",
       " 'athletes_': 0,\n",
       " 'basketball': 0,\n",
       " 'biography_with_signature': 0,\n",
       " 'boys': 0,\n",
       " 'brit_award_winners': 0,\n",
       " 'children': 0,\n",
       " 'conglinks_with_unknown_parameters': 0,\n",
       " 'el': 0,\n",
       " 'expatriate_footballers_in_england': 0,\n",
       " 'fifa_player_id_same_as_wikidata': 0,\n",
       " 'film': 0,\n",
       " 'films_featuring_anthropomorphic_characters': 0,\n",
       " 'geographic_coordinate_lists': 0,\n",
       " 'grammy_award_winners': 0,\n",
       " 'he': 0,\n",
       " 'indian_film_actresses': 0,\n",
       " 'lgbt_rights_activists_from_the_united_states': 0,\n",
       " 'lists_of_coordinates': 0,\n",
       " 'mcdonald': 0,\n",
       " 'member_states_of_the_united_nations': 0,\n",
       " 'national_basketball_association_all_stars': 0,\n",
       " 'page_id': 1623,\n",
       " 'parade_high_school_all_americans_': 0,\n",
       " 'participants_in_american_reality_television_series': 0,\n",
       " 'people': 0,\n",
       " 'premier_league_players': 0,\n",
       " 'presidential_medal_of_freedom_recipients': 0,\n",
       " 'pt': 0,\n",
       " 'republics': 0,\n",
       " 'rtt': 0,\n",
       " 's_basketball_players': 0,\n",
       " 's_fantasy_films': 0,\n",
       " 'scientology_related_controversies': 0,\n",
       " 'track_and_field': 0,\n",
       " 'united_states': 1,\n",
       " 'united_states_men': 0,\n",
       " 'united_states_presidential_candidates': 3,\n",
       " 'walt_disney_pictures_films': 0}"
      ]
     },
     "execution_count": 38,
     "metadata": {},
     "output_type": "execute_result"
    }
   ],
   "source": [
    "ma_for_db[42]"
   ]
  },
  {
   "cell_type": "markdown",
   "metadata": {},
   "source": []
  },
  {
   "cell_type": "code",
   "execution_count": null,
   "metadata": {
    "collapsed": false
   },
   "outputs": [],
   "source": [
    "cur.execute(\"SET autocommit=0\") #makes batch inserts SO MUCH EASIER"
   ]
  },
  {
   "cell_type": "code",
   "execution_count": null,
   "metadata": {
    "collapsed": false
   },
   "outputs": [],
   "source": [
    "#generates the template query for insertions into db\n",
    "insertQ = \"INSERT IGNORE INTO categorylinks ({}) VALUES ({})\"\n",
    "cols = \", \".join(col_for_db)\n",
    "val_format = \",\".join(['%s'] * len(list(ma_for_db[0].keys())))\n",
    "formatQ = insertQ.format(cols, val_format)\n",
    "formatQ"
   ]
  },
  {
   "cell_type": "code",
   "execution_count": null,
   "metadata": {
    "collapsed": false
   },
   "outputs": [],
   "source": [
    "print(type(ma_for_db))"
   ]
  },
  {
   "cell_type": "code",
   "execution_count": null,
   "metadata": {
    "collapsed": false
   },
   "outputs": [],
   "source": [
    "for record in ma_for_db:\n",
    "    values = [str(x) for x in list(record.values())]\n",
    "    cur.execute(formatQ,values)\n",
    "\n",
    "connection.commit()"
   ]
  },
  {
   "cell_type": "code",
   "execution_count": null,
   "metadata": {
    "collapsed": true
   },
   "outputs": [],
   "source": []
  },
  {
   "cell_type": "code",
   "execution_count": 49,
   "metadata": {
    "collapsed": false
   },
   "outputs": [
    {
     "data": {
      "text/plain": [
       "2"
      ]
     },
     "execution_count": 49,
     "metadata": {},
     "output_type": "execute_result"
    }
   ],
   "source": [
    "cur.execute(\"SELECT page_id, united_states FROM categorylinks LIMIT 100\")"
   ]
  },
  {
   "cell_type": "code",
   "execution_count": 50,
   "metadata": {
    "collapsed": false
   },
   "outputs": [],
   "source": [
    "rows = cur.fetchall() #returns tuple of tuples, preserving column order"
   ]
  },
  {
   "cell_type": "code",
   "execution_count": 51,
   "metadata": {
    "collapsed": false
   },
   "outputs": [
    {
     "data": {
      "text/plain": [
       "((0, 0), (1, 0))"
      ]
     },
     "execution_count": 51,
     "metadata": {},
     "output_type": "execute_result"
    }
   ],
   "source": [
    "rows"
   ]
  },
  {
   "cell_type": "code",
   "execution_count": 52,
   "metadata": {
    "collapsed": false
   },
   "outputs": [
    {
     "data": {
      "text/html": [
       "<div>\n",
       "<table border=\"1\" class=\"dataframe\">\n",
       "  <thead>\n",
       "    <tr style=\"text-align: right;\">\n",
       "      <th></th>\n",
       "      <th>page_id</th>\n",
       "      <th>united_states</th>\n",
       "    </tr>\n",
       "  </thead>\n",
       "  <tbody>\n",
       "    <tr>\n",
       "      <th>0</th>\n",
       "      <td>0</td>\n",
       "      <td>0</td>\n",
       "    </tr>\n",
       "    <tr>\n",
       "      <th>1</th>\n",
       "      <td>1</td>\n",
       "      <td>0</td>\n",
       "    </tr>\n",
       "  </tbody>\n",
       "</table>\n",
       "</div>"
      ],
      "text/plain": [
       "   page_id  united_states\n",
       "0        0              0\n",
       "1        1              0"
      ]
     },
     "execution_count": 52,
     "metadata": {},
     "output_type": "execute_result"
    }
   ],
   "source": [
    "easyPeasy = pd.DataFrame(list(rows), columns = [\"page_id\", \"united_states\"]) # columns = [\"page_id\", \"pl_count\", \"pl_is_epa\", \"ratio\"]\n",
    "easyPeasy"
   ]
  },
  {
   "cell_type": "code",
   "execution_count": 24,
   "metadata": {
    "collapsed": true
   },
   "outputs": [],
   "source": [
    "cur.close()\n",
    "connection.close()"
   ]
  },
  {
   "cell_type": "code",
   "execution_count": null,
   "metadata": {
    "collapsed": true
   },
   "outputs": [],
   "source": []
  }
 ],
 "metadata": {
  "anaconda-cloud": {},
  "kernelspec": {
   "display_name": "Python [Root]",
   "language": "python",
   "name": "Python [Root]"
  },
  "language_info": {
   "codemirror_mode": {
    "name": "ipython",
    "version": 3
   },
   "file_extension": ".py",
   "mimetype": "text/x-python",
   "name": "python",
   "nbconvert_exporter": "python",
   "pygments_lexer": "ipython3",
   "version": "3.5.1"
  }
 },
 "nbformat": 4,
 "nbformat_minor": 0
}
