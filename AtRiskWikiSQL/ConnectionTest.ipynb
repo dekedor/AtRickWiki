{
 "cells": [
  {
   "cell_type": "code",
   "execution_count": 1,
   "metadata": {
    "collapsed": false
   },
   "outputs": [
    {
     "name": "stdout",
     "output_type": "stream",
     "text": [
      "(910990, 'NBS_24/7', 0, 99, 20160710000000, 1, 0, 0, 0.401208702662, 20160526130603, 20160313025438, 535423149, 1937, None, None, None)\n"
     ]
    }
   ],
   "source": [
    "import pymysql\n",
    "\n",
    "# your username and password go here!\n",
    "creds = {'user': 'fausto', \n",
    "         'pswd': 'dapuzzo'} \n",
    "\n",
    "\n",
    "connection = pymysql.connect(host=\"atriskwiki.cbprs6vpqcbz.us-west-1.rds.amazonaws.com\",\n",
    "                            user=creds['user'],\n",
    "                            password=creds['pswd'],\n",
    "                            port=3306,\n",
    "                            db=\"atriskwiki\",\n",
    "                            charset=\"utf8\")\n",
    "\n",
    "cur = connection.cursor()\n",
    "\n",
    "cur.execute(\"SELECT * FROM core WHERE page_id in(910990)\")\n",
    "for row in cur:\n",
    "    print(row)\n",
    "cur.close()\n",
    "connection.close()\n"
   ]
  },
  {
   "cell_type": "code",
   "execution_count": null,
   "metadata": {
    "collapsed": true
   },
   "outputs": [],
   "source": []
  }
 ],
 "metadata": {
  "kernelspec": {
   "display_name": "Python [Root]",
   "language": "python",
   "name": "Python [Root]"
  },
  "language_info": {
   "codemirror_mode": {
    "name": "ipython",
    "version": 3
   },
   "file_extension": ".py",
   "mimetype": "text/x-python",
   "name": "python",
   "nbconvert_exporter": "python",
   "pygments_lexer": "ipython3",
   "version": "3.5.1"
  }
 },
 "nbformat": 4,
 "nbformat_minor": 0
}
