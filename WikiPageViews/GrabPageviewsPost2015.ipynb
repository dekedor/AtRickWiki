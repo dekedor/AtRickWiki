{
 "cells": [
  {
   "cell_type": "code",
   "execution_count": 1,
   "metadata": {
    "collapsed": false
   },
   "outputs": [],
   "source": [
    "import Pageviews\n",
    "import pandas as pd\n",
    "from time import time\n",
    "import numpy as np\n",
    "from os.path import isfile\n",
    "from time import sleep\n",
    "import requests"
   ]
  },
  {
   "cell_type": "code",
   "execution_count": 2,
   "metadata": {
    "collapsed": true
   },
   "outputs": [],
   "source": [
    "df_ep = pd.read_csv('../WikiSQL/070916_edit_protected_articles.csv')\n",
    "df_nep = pd.read_csv('../WikiSQL/071016_non_edit_protected_articles.csv')"
   ]
  },
  {
   "cell_type": "code",
   "execution_count": null,
   "metadata": {
    "collapsed": false
   },
   "outputs": [
    {
     "name": "stdout",
     "output_type": "stream",
     "text": [
      "Christian_Democrats/EVP/glp_Group 26805067\n",
      "2016_San_Benedetto_Tennis_Cup_–_Doubles 51039763\n",
      "Fort_Garry/Fort_Rouge_Twins 44966289\n",
      "The_Goat,_or_Who_Is_Sylvia? 515790\n",
      "2003_Davis_Cup_Europe/Africa_Zone_Group_IV 42012809\n",
      "KCBS-TV/FM_Tower 2242851\n",
      "Remember_Paul? 28173739\n",
      "What_Is_to_Be_Done?_(novel) 6787686\n",
      "Cityplace/Uptown_(DART_station) 503423\n",
      "John_Taylor's_Month_Away_/_Missionary 34408885\n",
      "St._James_United_Church_(Montreal) 2498598\n",
      "Kakabakaba_Ka_Ba? 38378442\n",
      "What_Color_is_Your_Parachute? 7397545\n",
      "ROH/NJPW_War_of_the_Worlds_(2014) 42327335\n",
      "Bazedoxifene/conjugated_estrogens 40737045\n",
      "Who_Needs_Enemies? 1997137\n",
      "Pontoffel_Pock,_Where_Are_You? 10359369\n",
      "Harvard_Crimson_men's_basketball 27887974\n",
      "Faculty_of_Human_Sciences/Humanities,_University_Džemal_Bijedić_of_Mostar 30019838\n",
      "2013_African_U-20_Championship 31406659\n",
      "Know_Ye_Not_Agincourt? 5899930\n",
      "Got_Mercury? 16693514\n",
      "European_Tour_2013/2014_–_Event_6 41006656\n",
      "David_Fink 46533576\n",
      "2015_Fed_Cup_Europe/Africa_Zone_Group_II_–_Play-offs 45324755\n",
      "NBS_24/7 910990\n",
      "Cycling_at_the_2004_Summer_Paralympics_–_Women's_road_race/time_trial 37434149\n",
      "7/11/03_–_Mansfield,_Massachusetts 5080524\n",
      "Joe_Brooks_(fly_fisherman/writer) 42765992\n",
      "VS/9 14446509\n",
      "North_Dakota_Vision_Services/School_for_the_Blind 20112370\n",
      "Rynn_Lim 13628657\n",
      "T/Maker 6887150\n",
      "Mel_Melin 43134775\n",
      "William_Potter_House 51041244\n",
      "AdS/CMT_correspondence 40300017\n",
      "Union_Pacific_/_North_Line 1977918\n",
      "Viktor_Dragolov 33494453\n",
      "Essex/Billing_Airstrip 22988083\n",
      "Pacific/Chocó_natural_region 9870453\n",
      "Input/output_completion_port 8509979\n",
      "Softball_at_the_Summer_Universiade 51041359\n",
      "Dani's_House_(series_2/3) 41196167\n",
      "Flupentixol/melitracen 23353876\n",
      "Hemingway_Foundation/PEN_Award 1215183\n",
      "Ethan_Josh_Lee 51045187\n",
      "Ts'il?os_Provincial_Park 4206553\n",
      "VCR/DVD_combo 2041499\n",
      "Osmond_Charles_Fuhrman 49330833\n",
      "Živković 12663600\n",
      "2003_Fed_Cup_Asia/Oceania_Zone_Group_I_–_Play-offs 37191824\n",
      "List_of_hieroglyphs/N 23168424\n",
      "The_International_Federation_of_Interior_Architects/Designers 31471381\n",
      "Brother/Sister_(Hymns_album) 18355241\n",
      "Tartu_Ülikool/Rock_basketball_team_seasons_1947-1991 24112491\n",
      "Kaarst_Mitte/Holzbüttgen_station 41390104\n",
      "Who_Are_Those_Guys? 24144038\n",
      "You_Ain't_Heard_of_Me? 17880673\n",
      "Dihydroartemisinin/piperaquine 42560979\n",
      "PC/104 1781233\n",
      "11/5 17551491\n",
      "Edmonton/Gartner_Airport 3625094\n",
      "In_Film/On_Video 8810884\n",
      "List_of_Cercle_Brugge_K.S.V._players 21169314\n",
      "The_Cold_Vein"
     ]
    }
   ],
   "source": [
    "path = 'PageViews_nep_Post2015_V2.csv'\n",
    "i = 0\n",
    "s = None\n",
    "while i < len(df_nep['page_title'].values):\n",
    "    for page_title, page_id in zip(df_nep['page_title'].values[i:i+200], df_nep['page_id'].values[i:i+200]):\n",
    "        try:\n",
    "            s = Pageviews.GrabAndWritePageViewsPost2015(page_title, page_id, 2015100100, 2016070900, path, s)\n",
    "            sleep(1)\n",
    "        except:\n",
    "            print(page_title, page_id)\n",
    "    i = i + 200"
   ]
  },
  {
   "cell_type": "code",
   "execution_count": null,
   "metadata": {
    "collapsed": false
   },
   "outputs": [],
   "source": [
    "df_nep[df_nep['page_id'] == 33668021]"
   ]
  },
  {
   "cell_type": "code",
   "execution_count": 9,
   "metadata": {
    "collapsed": false
   },
   "outputs": [
    {
     "name": "stdout",
     "output_type": "stream",
     "text": [
      "200\n"
     ]
    }
   ],
   "source": [
    "print(i)"
   ]
  },
  {
   "cell_type": "code",
   "execution_count": null,
   "metadata": {
    "collapsed": true
   },
   "outputs": [],
   "source": []
  }
 ],
 "metadata": {
  "kernelspec": {
   "display_name": "Python 3",
   "language": "python",
   "name": "python3"
  },
  "language_info": {
   "codemirror_mode": {
    "name": "ipython",
    "version": 3
   },
   "file_extension": ".py",
   "mimetype": "text/x-python",
   "name": "python",
   "nbconvert_exporter": "python",
   "pygments_lexer": "ipython3",
   "version": "3.4.4"
  }
 },
 "nbformat": 4,
 "nbformat_minor": 0
}
