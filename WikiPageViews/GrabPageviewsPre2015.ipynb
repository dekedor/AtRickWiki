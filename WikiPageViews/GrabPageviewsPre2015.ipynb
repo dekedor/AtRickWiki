{
 "cells": [
  {
   "cell_type": "code",
   "execution_count": 1,
   "metadata": {
    "collapsed": false
   },
   "outputs": [],
   "source": [
    "import Pageviews\n",
    "import pandas as pd\n",
    "from time import time\n",
    "import numpy as np\n",
    "from os.path import isfile\n",
    "from time import sleep"
   ]
  },
  {
   "cell_type": "code",
   "execution_count": 2,
   "metadata": {
    "collapsed": true
   },
   "outputs": [],
   "source": [
    "df_ep = pd.read_csv('../WikiSQL/070916_edit_protected_articles.csv')\n",
    "df_nep = pd.read_csv('../WikiSQL/071016_non_edit_protected_articles.csv')"
   ]
  },
  {
   "cell_type": "code",
   "execution_count": null,
   "metadata": {
    "collapsed": false
   },
   "outputs": [],
   "source": [
    "for i in range(0, len(df_ep['page_title'].values)):\n",
    "    try:\n",
    "        Pageviews.GrabAndWritePageViews(df_ep['page_title'].values[i], df_ep['page_id'].values[i], 200801, 201501, \\\n",
    "                               'PageViews_ep_V2.csv')\n",
    "    except:\n",
    "        sleep(60)\n",
    "        Pageviews.GrabAndWritePageViews(df_ep['page_title'].values[i], df_ep['page_id'].values[i], 200801, 201501, \\\n",
    "                               'PageViews_ep_V2.csv')"
   ]
  },
  {
   "cell_type": "code",
   "execution_count": 8,
   "metadata": {
    "collapsed": false
   },
   "outputs": [
    {
     "name": "stdout",
     "output_type": "stream",
     "text": [
      "4223\n"
     ]
    }
   ],
   "source": [
    "for i in range(0, len(df_nep['page_title'].values)):\n",
    "    try:\n",
    "        Pageviews.GrabAndWritePageViews(df_nep['page_title'].values[i], df_nep['page_id'].values[i], 200801, 201501, \\\n",
    "                               'PageViews_Nep_V2.csv')\n",
    "    except:\n",
    "        sleep(60)\n",
    "        Pageviews.GrabAndWritePageViews(df_nep['page_title'].values[i], df_nep['page_id'].values[i], 200801, 201501, \\\n",
    "                               'PageViews_Nep_V2.csv')"
   ]
  },
  {
   "cell_type": "code",
   "execution_count": null,
   "metadata": {
    "collapsed": true
   },
   "outputs": [],
   "source": []
  }
 ],
 "metadata": {
  "anaconda-cloud": {},
  "kernelspec": {
   "display_name": "Python [Root]",
   "language": "python",
   "name": "Python [Root]"
  },
  "language_info": {
   "codemirror_mode": {
    "name": "ipython",
    "version": 3
   },
   "file_extension": ".py",
   "mimetype": "text/x-python",
   "name": "python",
   "nbconvert_exporter": "python",
   "pygments_lexer": "ipython3",
   "version": "3.5.1"
  }
 },
 "nbformat": 4,
 "nbformat_minor": 0
}
